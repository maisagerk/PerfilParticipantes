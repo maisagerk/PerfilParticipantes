{
  "nbformat": 4,
  "nbformat_minor": 0,
  "metadata": {
    "colab": {
      "name": "Perfil de Alocação dos Participantes.ipynb",
      "provenance": [],
      "collapsed_sections": [
        "8YjMgnCoZN7V",
        "RlSIy-WjY80h"
      ],
      "include_colab_link": true
    },
    "kernelspec": {
      "display_name": "Python 3",
      "name": "python3"
    }
  },
  "cells": [
    {
      "cell_type": "markdown",
      "metadata": {
        "id": "view-in-github",
        "colab_type": "text"
      },
      "source": [
        "<a href=\"https://colab.research.google.com/github/maisagerk/PerfilParticipantes/blob/main/Perfil_de_Aloca%C3%A7%C3%A3o_dos_Participantes.ipynb\" target=\"_parent\"><img src=\"https://colab.research.google.com/assets/colab-badge.svg\" alt=\"Open In Colab\"/></a>"
      ]
    },
    {
      "cell_type": "code",
      "metadata": {
        "id": "xjp_evGZq7wJ"
      },
      "source": [
        "# Importação de bibliotecas\n",
        "import numpy as np\n",
        "import pandas as pd\n",
        "import matplotlib.pyplot as plt\n",
        "from datetime import datetime, timedelta, date\n",
        "pd.set_option('max_rows', 99999)"
      ],
      "execution_count": 1,
      "outputs": []
    },
    {
      "cell_type": "code",
      "metadata": {
        "colab": {
          "base_uri": "https://localhost:8080/"
        },
        "id": "cQzBR52Jg-Wd",
        "outputId": "19b6b3b7-92ec-4fe5-f7ff-de2960879f53"
      },
      "source": [
        "# Acessar Drive\n",
        "from google.colab import drive\n",
        "drive.mount('/content/drive')\n",
        "\n",
        "import os \n",
        "workdir_path = '/content/drive/My Drive/TELOS Perfil dos Participantes'\n",
        "os.chdir(workdir_path)"
      ],
      "execution_count": 2,
      "outputs": [
        {
          "output_type": "stream",
          "text": [
            "Mounted at /content/drive\n"
          ],
          "name": "stdout"
        }
      ]
    },
    {
      "cell_type": "markdown",
      "metadata": {
        "id": "ePXSqs02m5N0"
      },
      "source": [
        "#### Grupo de Participantes"
      ]
    },
    {
      "cell_type": "code",
      "metadata": {
        "id": "UgMFxjJEhnDf",
        "colab": {
          "base_uri": "https://localhost:8080/",
          "height": 204
        },
        "outputId": "cca9938b-c939-49a7-f8c2-11cfb1b2153c"
      },
      "source": [
        "# Importando o arquivo grupo\n",
        "grupo = pd.read_csv('grupo.csv', delimiter= \";\",  usecols=[0,1,2,3,4,5], encoding='latin-1')\n",
        "\n",
        "# Converte o formato das colunas DtNascimento e DtIncricaoPlano para datetime\n",
        "grupo['DtNascimento']= pd.to_datetime(grupo['DtNascimento'],dayfirst= True )\n",
        "grupo['DtIncricaoPlano']= pd.to_datetime(grupo['DtIncricaoPlano'],dayfirst= True )\n",
        "\n",
        "# Visualização dos dados\n",
        "grupo.head()"
      ],
      "execution_count": 3,
      "outputs": [
        {
          "output_type": "execute_result",
          "data": {
            "text/html": [
              "<div>\n",
              "<style scoped>\n",
              "    .dataframe tbody tr th:only-of-type {\n",
              "        vertical-align: middle;\n",
              "    }\n",
              "\n",
              "    .dataframe tbody tr th {\n",
              "        vertical-align: top;\n",
              "    }\n",
              "\n",
              "    .dataframe thead th {\n",
              "        text-align: right;\n",
              "    }\n",
              "</style>\n",
              "<table border=\"1\" class=\"dataframe\">\n",
              "  <thead>\n",
              "    <tr style=\"text-align: right;\">\n",
              "      <th></th>\n",
              "      <th>ID</th>\n",
              "      <th>DtNascimento</th>\n",
              "      <th>Sexo</th>\n",
              "      <th>Escolaridade</th>\n",
              "      <th>FaixaSalarial</th>\n",
              "      <th>DtIncricaoPlano</th>\n",
              "    </tr>\n",
              "  </thead>\n",
              "  <tbody>\n",
              "    <tr>\n",
              "      <th>0</th>\n",
              "      <td>1</td>\n",
              "      <td>1976-01-30</td>\n",
              "      <td>M</td>\n",
              "      <td>Superior Completo</td>\n",
              "      <td>L2</td>\n",
              "      <td>2012-05-16</td>\n",
              "    </tr>\n",
              "    <tr>\n",
              "      <th>1</th>\n",
              "      <td>2</td>\n",
              "      <td>1978-10-30</td>\n",
              "      <td>M</td>\n",
              "      <td>Superior Completo</td>\n",
              "      <td>L1</td>\n",
              "      <td>2012-02-03</td>\n",
              "    </tr>\n",
              "    <tr>\n",
              "      <th>2</th>\n",
              "      <td>3</td>\n",
              "      <td>1975-11-13</td>\n",
              "      <td>F</td>\n",
              "      <td>Superior Completo</td>\n",
              "      <td>L1</td>\n",
              "      <td>2011-04-12</td>\n",
              "    </tr>\n",
              "    <tr>\n",
              "      <th>3</th>\n",
              "      <td>4</td>\n",
              "      <td>1955-06-02</td>\n",
              "      <td>M</td>\n",
              "      <td>Superior Completo</td>\n",
              "      <td>L1</td>\n",
              "      <td>1984-06-25</td>\n",
              "    </tr>\n",
              "    <tr>\n",
              "      <th>4</th>\n",
              "      <td>5</td>\n",
              "      <td>1971-03-17</td>\n",
              "      <td>F</td>\n",
              "      <td>Superior Completo</td>\n",
              "      <td>L1</td>\n",
              "      <td>2006-03-07</td>\n",
              "    </tr>\n",
              "  </tbody>\n",
              "</table>\n",
              "</div>"
            ],
            "text/plain": [
              "   ID DtNascimento Sexo       Escolaridade FaixaSalarial DtIncricaoPlano\n",
              "0   1   1976-01-30    M  Superior Completo            L2      2012-05-16\n",
              "1   2   1978-10-30    M  Superior Completo            L1      2012-02-03\n",
              "2   3   1975-11-13    F  Superior Completo            L1      2011-04-12\n",
              "3   4   1955-06-02    M  Superior Completo            L1      1984-06-25\n",
              "4   5   1971-03-17    F  Superior Completo            L1      2006-03-07"
            ]
          },
          "metadata": {
            "tags": []
          },
          "execution_count": 3
        }
      ]
    },
    {
      "cell_type": "markdown",
      "metadata": {
        "id": "oh0vVWjnnwp9"
      },
      "source": [
        "###### Tratamento dos Dados"
      ]
    },
    {
      "cell_type": "code",
      "metadata": {
        "id": "1-E-Rffqmpp9",
        "colab": {
          "base_uri": "https://localhost:8080/"
        },
        "outputId": "ca19b9ff-ab94-4493-a20f-957bcd383f75"
      },
      "source": [
        "# Existem valores nulos (por coluna)? \n",
        "print(grupo.isnull().any())"
      ],
      "execution_count": 4,
      "outputs": [
        {
          "output_type": "stream",
          "text": [
            "ID                 False\n",
            "DtNascimento       False\n",
            "Sexo               False\n",
            "Escolaridade       False\n",
            "FaixaSalarial      False\n",
            "DtIncricaoPlano    False\n",
            "dtype: bool\n"
          ],
          "name": "stdout"
        }
      ]
    },
    {
      "cell_type": "code",
      "metadata": {
        "id": "TS05wcPLnn52",
        "colab": {
          "base_uri": "https://localhost:8080/"
        },
        "outputId": "fab81195-3da5-4465-fe56-9ad3242e428a"
      },
      "source": [
        " print(grupo.shape[0])"
      ],
      "execution_count": 5,
      "outputs": [
        {
          "output_type": "stream",
          "text": [
            "6044\n"
          ],
          "name": "stdout"
        }
      ]
    },
    {
      "cell_type": "code",
      "metadata": {
        "id": "plkMRErrIaRY",
        "colab": {
          "base_uri": "https://localhost:8080/"
        },
        "outputId": "0fae6b72-01b1-4377-aa99-b5e0782ed724"
      },
      "source": [
        "# Distribuição de Escolaridade\n",
        "grupo['Escolaridade'].value_counts(normalize=True)"
      ],
      "execution_count": 6,
      "outputs": [
        {
          "output_type": "execute_result",
          "data": {
            "text/plain": [
              "Superior Completo      0.635341\n",
              "2o. Grau Completo      0.217075\n",
              "Pos-Graduacao          0.095963\n",
              "Superior Incompleto    0.036400\n",
              "Mestrado               0.007280\n",
              "2o. Grau Incompleto    0.006618\n",
              "1o. Grau Completo      0.001324\n",
              "Name: Escolaridade, dtype: float64"
            ]
          },
          "metadata": {
            "tags": []
          },
          "execution_count": 6
        }
      ]
    },
    {
      "cell_type": "code",
      "metadata": {
        "id": "OqwTf7F5F9T3",
        "colab": {
          "base_uri": "https://localhost:8080/",
          "height": 297
        },
        "outputId": "a95631f8-555b-473a-fde0-0c0db52a6c21"
      },
      "source": [
        "# Gráfico de Distribuição de Escolaridade\n",
        "plt.pie(grupo.Escolaridade.value_counts());\n",
        "plt.legend(labels=grupo['Escolaridade'].value_counts().index.tolist());\n",
        "plt.axis('equal');\n",
        "plt.tight_layout();"
      ],
      "execution_count": 7,
      "outputs": [
        {
          "output_type": "display_data",
          "data": {
            "image/png": "[encoded data removed]",
            "text/plain": [
              "<Figure size 432x288 with 1 Axes>"
            ]
          },
          "metadata": {
            "tags": []
          }
        }
      ]
    },
    {
      "cell_type": "code",
      "metadata": {
        "id": "Tk_uJUB06Ybb",
        "colab": {
          "base_uri": "https://localhost:8080/"
        },
        "outputId": "45812f81-932a-4555-cb87-858a0945f8db"
      },
      "source": [
        "# Analisando a distribuição por Faixa Salarial dos Participantes\n",
        "grupo.FaixaSalarial.value_counts()"
      ],
      "execution_count": 8,
      "outputs": [
        {
          "output_type": "execute_result",
          "data": {
            "text/plain": [
              "L2    4260\n",
              "L3    1282\n",
              "L1     502\n",
              "Name: FaixaSalarial, dtype: int64"
            ]
          },
          "metadata": {
            "tags": []
          },
          "execution_count": 8
        }
      ]
    },
    {
      "cell_type": "code",
      "metadata": {
        "id": "QZROxm_CHo6Q",
        "colab": {
          "base_uri": "https://localhost:8080/",
          "height": 297
        },
        "outputId": "8867bcb6-2a56-4ec8-fc90-290a9978864a"
      },
      "source": [
        "# Gráfico de distribuição por Faixa Salarial \n",
        "plt.pie(grupo.FaixaSalarial.value_counts());\n",
        "plt.legend(labels=grupo['FaixaSalarial'].value_counts().index.tolist());\n",
        "plt.axis('equal');\n",
        "plt.tight_layout();"
      ],
      "execution_count": 9,
      "outputs": [
        {
          "output_type": "display_data",
          "data": {
            "image/png": "[encoded data removed]",
            "text/plain": [
              "<Figure size 432x288 with 1 Axes>"
            ]
          },
          "metadata": {
            "tags": []
          }
        }
      ]
    },
    {
      "cell_type": "code",
      "metadata": {
        "id": "WspLOpDe7xyk",
        "colab": {
          "base_uri": "https://localhost:8080/"
        },
        "outputId": "df3f9e62-69a3-405d-bc60-85e5f05c055b"
      },
      "source": [
        "# Analisando a distribuição por Sexo dos Participantes\n",
        "grupo.Sexo.value_counts(normalize=True)"
      ],
      "execution_count": 10,
      "outputs": [
        {
          "output_type": "execute_result",
          "data": {
            "text/plain": [
              "M    0.731635\n",
              "F    0.268365\n",
              "Name: Sexo, dtype: float64"
            ]
          },
          "metadata": {
            "tags": []
          },
          "execution_count": 10
        }
      ]
    },
    {
      "cell_type": "code",
      "metadata": {
        "id": "eiN8jn58H9oX",
        "colab": {
          "base_uri": "https://localhost:8080/",
          "height": 297
        },
        "outputId": "916c82c1-d8de-4665-b657-6d353845023a"
      },
      "source": [
        "# Gráfico de distribuição por Sexo dos Participantes\n",
        "plt.pie(grupo.Sexo.value_counts());\n",
        "plt.legend(labels=grupo['Sexo'].value_counts().index.tolist());\n",
        "plt.axis('equal');\n",
        "plt.tight_layout();"
      ],
      "execution_count": 11,
      "outputs": [
        {
          "output_type": "display_data",
          "data": {
            "image/png": "[encoded data removed]",
            "text/plain": [
              "<Figure size 432x288 with 1 Axes>"
            ]
          },
          "metadata": {
            "tags": []
          }
        }
      ]
    },
    {
      "cell_type": "markdown",
      "metadata": {
        "id": "NNM-u2UXm-2h"
      },
      "source": [
        "#### Dependentes dos Participantes"
      ]
    },
    {
      "cell_type": "code",
      "metadata": {
        "id": "wgQD-iB2lpS4",
        "colab": {
          "base_uri": "https://localhost:8080/",
          "height": 204
        },
        "outputId": "808d5825-0d5a-4dbc-9ad6-b7fe70a6631b"
      },
      "source": [
        "# Importando o arquivo dependentes\n",
        "dependentes_raw = pd.read_csv('dependentes.csv', delimiter= \";\", encoding='latin-1')\n",
        "\n",
        "# Visualização dos dados\n",
        "dependentes_raw.head()"
      ],
      "execution_count": 12,
      "outputs": [
        {
          "output_type": "execute_result",
          "data": {
            "text/html": [
              "<div>\n",
              "<style scoped>\n",
              "    .dataframe tbody tr th:only-of-type {\n",
              "        vertical-align: middle;\n",
              "    }\n",
              "\n",
              "    .dataframe tbody tr th {\n",
              "        vertical-align: top;\n",
              "    }\n",
              "\n",
              "    .dataframe thead th {\n",
              "        text-align: right;\n",
              "    }\n",
              "</style>\n",
              "<table border=\"1\" class=\"dataframe\">\n",
              "  <thead>\n",
              "    <tr style=\"text-align: right;\">\n",
              "      <th></th>\n",
              "      <th>ID</th>\n",
              "      <th>Parentesco</th>\n",
              "      <th>DtNascimento</th>\n",
              "    </tr>\n",
              "  </thead>\n",
              "  <tbody>\n",
              "    <tr>\n",
              "      <th>0</th>\n",
              "      <td>1</td>\n",
              "      <td>Pai ou Mae</td>\n",
              "      <td>26/07/1945</td>\n",
              "    </tr>\n",
              "    <tr>\n",
              "      <th>1</th>\n",
              "      <td>1</td>\n",
              "      <td>Companheiro(a)</td>\n",
              "      <td>28/08/1980</td>\n",
              "    </tr>\n",
              "    <tr>\n",
              "      <th>2</th>\n",
              "      <td>2</td>\n",
              "      <td>Conjuge</td>\n",
              "      <td>03/07/1975</td>\n",
              "    </tr>\n",
              "    <tr>\n",
              "      <th>3</th>\n",
              "      <td>2</td>\n",
              "      <td>Filho(a)</td>\n",
              "      <td>03/07/2009</td>\n",
              "    </tr>\n",
              "    <tr>\n",
              "      <th>4</th>\n",
              "      <td>4</td>\n",
              "      <td>Pai ou Mae</td>\n",
              "      <td>07/11/1927</td>\n",
              "    </tr>\n",
              "  </tbody>\n",
              "</table>\n",
              "</div>"
            ],
            "text/plain": [
              "   ID      Parentesco DtNascimento\n",
              "0   1      Pai ou Mae   26/07/1945\n",
              "1   1  Companheiro(a)   28/08/1980\n",
              "2   2         Conjuge   03/07/1975\n",
              "3   2        Filho(a)   03/07/2009\n",
              "4   4      Pai ou Mae   07/11/1927"
            ]
          },
          "metadata": {
            "tags": []
          },
          "execution_count": 12
        }
      ]
    },
    {
      "cell_type": "code",
      "metadata": {
        "id": "Ra0gTMLhRsKF"
      },
      "source": [
        "# Converte o formato das colunas DtNascimento para datetime\n",
        "dependentes_raw['DtNascimento']= pd.to_datetime(dependentes_raw['DtNascimento'],dayfirst= True,errors='coerce')"
      ],
      "execution_count": 13,
      "outputs": []
    },
    {
      "cell_type": "markdown",
      "metadata": {
        "id": "yXFFbjxOMJMJ"
      },
      "source": [
        "###### Tratamento dos Dados"
      ]
    },
    {
      "cell_type": "code",
      "metadata": {
        "id": "73q_ZvVBmtd0",
        "colab": {
          "base_uri": "https://localhost:8080/"
        },
        "outputId": "68d152b0-372a-461a-d10f-909d99f6b44a"
      },
      "source": [
        "# Existem valores nulos (por coluna)? \n",
        "print(dependentes_raw.isnull().any())"
      ],
      "execution_count": 14,
      "outputs": [
        {
          "output_type": "stream",
          "text": [
            "ID              False\n",
            "Parentesco      False\n",
            "DtNascimento     True\n",
            "dtype: bool\n"
          ],
          "name": "stdout"
        }
      ]
    },
    {
      "cell_type": "code",
      "metadata": {
        "id": "gIwOYv73S25Y",
        "colab": {
          "base_uri": "https://localhost:8080/"
        },
        "outputId": "43b23852-a8d6-48de-ff88-f4b68805342b"
      },
      "source": [
        "# Excluindo valores nulos\n",
        "dependentes_clean=dependentes_raw.dropna()\n",
        "print(dependentes_clean.isnull().any())"
      ],
      "execution_count": 15,
      "outputs": [
        {
          "output_type": "stream",
          "text": [
            "ID              False\n",
            "Parentesco      False\n",
            "DtNascimento    False\n",
            "dtype: bool\n"
          ],
          "name": "stdout"
        }
      ]
    },
    {
      "cell_type": "code",
      "metadata": {
        "id": "cdRFiFuHKQTX",
        "colab": {
          "base_uri": "https://localhost:8080/",
          "height": 204
        },
        "outputId": "67efc8c5-6b85-41eb-8d81-2e2312fa2aab"
      },
      "source": [
        "dependentes_clean.head()"
      ],
      "execution_count": 16,
      "outputs": [
        {
          "output_type": "execute_result",
          "data": {
            "text/html": [
              "<div>\n",
              "<style scoped>\n",
              "    .dataframe tbody tr th:only-of-type {\n",
              "        vertical-align: middle;\n",
              "    }\n",
              "\n",
              "    .dataframe tbody tr th {\n",
              "        vertical-align: top;\n",
              "    }\n",
              "\n",
              "    .dataframe thead th {\n",
              "        text-align: right;\n",
              "    }\n",
              "</style>\n",
              "<table border=\"1\" class=\"dataframe\">\n",
              "  <thead>\n",
              "    <tr style=\"text-align: right;\">\n",
              "      <th></th>\n",
              "      <th>ID</th>\n",
              "      <th>Parentesco</th>\n",
              "      <th>DtNascimento</th>\n",
              "    </tr>\n",
              "  </thead>\n",
              "  <tbody>\n",
              "    <tr>\n",
              "      <th>0</th>\n",
              "      <td>1</td>\n",
              "      <td>Pai ou Mae</td>\n",
              "      <td>1945-07-26</td>\n",
              "    </tr>\n",
              "    <tr>\n",
              "      <th>1</th>\n",
              "      <td>1</td>\n",
              "      <td>Companheiro(a)</td>\n",
              "      <td>1980-08-28</td>\n",
              "    </tr>\n",
              "    <tr>\n",
              "      <th>2</th>\n",
              "      <td>2</td>\n",
              "      <td>Conjuge</td>\n",
              "      <td>1975-07-03</td>\n",
              "    </tr>\n",
              "    <tr>\n",
              "      <th>3</th>\n",
              "      <td>2</td>\n",
              "      <td>Filho(a)</td>\n",
              "      <td>2009-07-03</td>\n",
              "    </tr>\n",
              "    <tr>\n",
              "      <th>4</th>\n",
              "      <td>4</td>\n",
              "      <td>Pai ou Mae</td>\n",
              "      <td>1927-11-07</td>\n",
              "    </tr>\n",
              "  </tbody>\n",
              "</table>\n",
              "</div>"
            ],
            "text/plain": [
              "   ID      Parentesco DtNascimento\n",
              "0   1      Pai ou Mae   1945-07-26\n",
              "1   1  Companheiro(a)   1980-08-28\n",
              "2   2         Conjuge   1975-07-03\n",
              "3   2        Filho(a)   2009-07-03\n",
              "4   4      Pai ou Mae   1927-11-07"
            ]
          },
          "metadata": {
            "tags": []
          },
          "execution_count": 16
        }
      ]
    },
    {
      "cell_type": "code",
      "metadata": {
        "id": "SRgRWNLJTqwj",
        "colab": {
          "base_uri": "https://localhost:8080/",
          "height": 204
        },
        "outputId": "00b20ac5-4514-4e93-c258-b89c02d2698a"
      },
      "source": [
        "# Criando nova tabela sem valores nulos\n",
        "dependentes = pd.merge(dependentes_raw, dependentes_clean, how='left', on=['ID','Parentesco','DtNascimento'])\n",
        "dependentes.head()"
      ],
      "execution_count": 17,
      "outputs": [
        {
          "output_type": "execute_result",
          "data": {
            "text/html": [
              "<div>\n",
              "<style scoped>\n",
              "    .dataframe tbody tr th:only-of-type {\n",
              "        vertical-align: middle;\n",
              "    }\n",
              "\n",
              "    .dataframe tbody tr th {\n",
              "        vertical-align: top;\n",
              "    }\n",
              "\n",
              "    .dataframe thead th {\n",
              "        text-align: right;\n",
              "    }\n",
              "</style>\n",
              "<table border=\"1\" class=\"dataframe\">\n",
              "  <thead>\n",
              "    <tr style=\"text-align: right;\">\n",
              "      <th></th>\n",
              "      <th>ID</th>\n",
              "      <th>Parentesco</th>\n",
              "      <th>DtNascimento</th>\n",
              "    </tr>\n",
              "  </thead>\n",
              "  <tbody>\n",
              "    <tr>\n",
              "      <th>0</th>\n",
              "      <td>1</td>\n",
              "      <td>Pai ou Mae</td>\n",
              "      <td>1945-07-26</td>\n",
              "    </tr>\n",
              "    <tr>\n",
              "      <th>1</th>\n",
              "      <td>1</td>\n",
              "      <td>Companheiro(a)</td>\n",
              "      <td>1980-08-28</td>\n",
              "    </tr>\n",
              "    <tr>\n",
              "      <th>2</th>\n",
              "      <td>2</td>\n",
              "      <td>Conjuge</td>\n",
              "      <td>1975-07-03</td>\n",
              "    </tr>\n",
              "    <tr>\n",
              "      <th>3</th>\n",
              "      <td>2</td>\n",
              "      <td>Filho(a)</td>\n",
              "      <td>2009-07-03</td>\n",
              "    </tr>\n",
              "    <tr>\n",
              "      <th>4</th>\n",
              "      <td>4</td>\n",
              "      <td>Pai ou Mae</td>\n",
              "      <td>1927-11-07</td>\n",
              "    </tr>\n",
              "  </tbody>\n",
              "</table>\n",
              "</div>"
            ],
            "text/plain": [
              "   ID      Parentesco DtNascimento\n",
              "0   1      Pai ou Mae   1945-07-26\n",
              "1   1  Companheiro(a)   1980-08-28\n",
              "2   2         Conjuge   1975-07-03\n",
              "3   2        Filho(a)   2009-07-03\n",
              "4   4      Pai ou Mae   1927-11-07"
            ]
          },
          "metadata": {
            "tags": []
          },
          "execution_count": 17
        }
      ]
    },
    {
      "cell_type": "code",
      "metadata": {
        "id": "GYA9RrFPLki5",
        "colab": {
          "base_uri": "https://localhost:8080/"
        },
        "outputId": "a71bc401-cbbc-4be2-ff9f-4278dd401986"
      },
      "source": [
        "# Volume de dados\n",
        "print(dependentes.shape[0])"
      ],
      "execution_count": 18,
      "outputs": [
        {
          "output_type": "stream",
          "text": [
            "17049\n"
          ],
          "name": "stdout"
        }
      ]
    },
    {
      "cell_type": "code",
      "metadata": {
        "id": "iLoSVP5BUeB5"
      },
      "source": [
        "# Observou-se que existia uma separação entre Filho maior de 24 anos e Filho, porém para este estudo, não é necessária essa distinção\n",
        "dependentes.loc[dependentes['Parentesco'].str.contains('Filho'),'Parentesco'] = 'Filho(a)'"
      ],
      "execution_count": 19,
      "outputs": []
    },
    {
      "cell_type": "code",
      "metadata": {
        "id": "8SFd1LCOhw__"
      },
      "source": [
        "# Observou-se que tem alguns dados repetidos --> Escluir linhas repetidas"
      ],
      "execution_count": 20,
      "outputs": []
    },
    {
      "cell_type": "code",
      "metadata": {
        "id": "OKcxF2aQ8m1c",
        "colab": {
          "base_uri": "https://localhost:8080/"
        },
        "outputId": "14d35ec6-3716-43aa-ece5-95b30f393df6"
      },
      "source": [
        "# Analisando a distribuição dos dependentes dos Participantes\n",
        "dependentes.Parentesco.value_counts(normalize=True)"
      ],
      "execution_count": 21,
      "outputs": [
        {
          "output_type": "execute_result",
          "data": {
            "text/plain": [
              "Filho(a)             0.363071\n",
              "Pai ou Mae           0.250572\n",
              "Conjuge              0.213913\n",
              "Irmao ou Irma        0.102469\n",
              "Designado            0.036952\n",
              "Companheiro(a)       0.025691\n",
              "Enteado(a)           0.003930\n",
              "Ex-Conjuge           0.001408\n",
              "Sogro(a)             0.001232\n",
              "Menor sob Guarda     0.000411\n",
              "Ex-Companheiro(a)    0.000352\n",
              "Name: Parentesco, dtype: float64"
            ]
          },
          "metadata": {
            "tags": []
          },
          "execution_count": 21
        }
      ]
    },
    {
      "cell_type": "code",
      "metadata": {
        "id": "gvsU9w1dbRA0",
        "colab": {
          "base_uri": "https://localhost:8080/",
          "height": 297
        },
        "outputId": "5dd2f8d2-4f4b-4bbc-da0f-96d76d7708ff"
      },
      "source": [
        "# Gráfico da distribuição de Parentesco\n",
        "plt.pie(dependentes.Parentesco.value_counts());\n",
        "plt.legend(labels=dependentes['Parentesco'].value_counts().index.tolist());\n",
        "plt.axis('equal');\n",
        "plt.tight_layout();"
      ],
      "execution_count": 22,
      "outputs": [
        {
          "output_type": "display_data",
          "data": {
            "image/png": "[encoded data removed]",
            "text/plain": [
              "<Figure size 432x288 with 1 Axes>"
            ]
          },
          "metadata": {
            "tags": []
          }
        }
      ]
    },
    {
      "cell_type": "markdown",
      "metadata": {
        "id": "mc35Bm7inDsu"
      },
      "source": [
        "#### Histórico de Contribuição dos Participantes"
      ]
    },
    {
      "cell_type": "code",
      "metadata": {
        "id": "ZkynulxmlpQG",
        "colab": {
          "base_uri": "https://localhost:8080/",
          "height": 204
        },
        "outputId": "2c0c63eb-a26f-427f-8b8e-4a6115a4ab06"
      },
      "source": [
        "# Importando o arquivo historico contibuicao\n",
        "historicoctb = pd.read_csv('historico ctb.csv', delimiter= \";\",decimal=',')\n",
        "\n",
        "# Converte o formato das colunas DtNascimento para datetime\n",
        "historicoctb['DtVigencia']= pd.to_datetime(historicoctb['DtVigencia'],dayfirst= True)\n",
        "\n",
        "# Visualização dos dados\n",
        "historicoctb.head()"
      ],
      "execution_count": 23,
      "outputs": [
        {
          "output_type": "execute_result",
          "data": {
            "text/html": [
              "<div>\n",
              "<style scoped>\n",
              "    .dataframe tbody tr th:only-of-type {\n",
              "        vertical-align: middle;\n",
              "    }\n",
              "\n",
              "    .dataframe tbody tr th {\n",
              "        vertical-align: top;\n",
              "    }\n",
              "\n",
              "    .dataframe thead th {\n",
              "        text-align: right;\n",
              "    }\n",
              "</style>\n",
              "<table border=\"1\" class=\"dataframe\">\n",
              "  <thead>\n",
              "    <tr style=\"text-align: right;\">\n",
              "      <th></th>\n",
              "      <th>ID</th>\n",
              "      <th>DtVigencia</th>\n",
              "      <th>CtbBasica</th>\n",
              "      <th>CtbAdicional</th>\n",
              "    </tr>\n",
              "  </thead>\n",
              "  <tbody>\n",
              "    <tr>\n",
              "      <th>0</th>\n",
              "      <td>1</td>\n",
              "      <td>2012-05-16</td>\n",
              "      <td>4.0</td>\n",
              "      <td>0.0</td>\n",
              "    </tr>\n",
              "    <tr>\n",
              "      <th>1</th>\n",
              "      <td>2</td>\n",
              "      <td>2012-02-03</td>\n",
              "      <td>8.0</td>\n",
              "      <td>0.0</td>\n",
              "    </tr>\n",
              "    <tr>\n",
              "      <th>2</th>\n",
              "      <td>3</td>\n",
              "      <td>2011-04-12</td>\n",
              "      <td>5.0</td>\n",
              "      <td>0.0</td>\n",
              "    </tr>\n",
              "    <tr>\n",
              "      <th>3</th>\n",
              "      <td>4</td>\n",
              "      <td>1999-01-01</td>\n",
              "      <td>8.0</td>\n",
              "      <td>0.0</td>\n",
              "    </tr>\n",
              "    <tr>\n",
              "      <th>4</th>\n",
              "      <td>4</td>\n",
              "      <td>2004-01-01</td>\n",
              "      <td>8.0</td>\n",
              "      <td>4.0</td>\n",
              "    </tr>\n",
              "  </tbody>\n",
              "</table>\n",
              "</div>"
            ],
            "text/plain": [
              "   ID DtVigencia  CtbBasica  CtbAdicional\n",
              "0   1 2012-05-16        4.0           0.0\n",
              "1   2 2012-02-03        8.0           0.0\n",
              "2   3 2011-04-12        5.0           0.0\n",
              "3   4 1999-01-01        8.0           0.0\n",
              "4   4 2004-01-01        8.0           4.0"
            ]
          },
          "metadata": {
            "tags": []
          },
          "execution_count": 23
        }
      ]
    },
    {
      "cell_type": "code",
      "metadata": {
        "id": "jjkAzsygF1sF",
        "colab": {
          "base_uri": "https://localhost:8080/",
          "height": 204
        },
        "outputId": "86e70ab0-f3f5-4bfa-86d2-2f73887c0eb5"
      },
      "source": [
        "# Criando coluna com a soma das Contribuições (CtbBasica + CtbAdicional)\n",
        "sum_column = historicoctb[\"CtbBasica\"] + historicoctb[\"CtbAdicional\"]\n",
        "historicoctb[\"Contribuicao\"] = sum_column\n",
        "historicoctb.head()"
      ],
      "execution_count": 24,
      "outputs": [
        {
          "output_type": "execute_result",
          "data": {
            "text/html": [
              "<div>\n",
              "<style scoped>\n",
              "    .dataframe tbody tr th:only-of-type {\n",
              "        vertical-align: middle;\n",
              "    }\n",
              "\n",
              "    .dataframe tbody tr th {\n",
              "        vertical-align: top;\n",
              "    }\n",
              "\n",
              "    .dataframe thead th {\n",
              "        text-align: right;\n",
              "    }\n",
              "</style>\n",
              "<table border=\"1\" class=\"dataframe\">\n",
              "  <thead>\n",
              "    <tr style=\"text-align: right;\">\n",
              "      <th></th>\n",
              "      <th>ID</th>\n",
              "      <th>DtVigencia</th>\n",
              "      <th>CtbBasica</th>\n",
              "      <th>CtbAdicional</th>\n",
              "      <th>Contribuicao</th>\n",
              "    </tr>\n",
              "  </thead>\n",
              "  <tbody>\n",
              "    <tr>\n",
              "      <th>0</th>\n",
              "      <td>1</td>\n",
              "      <td>2012-05-16</td>\n",
              "      <td>4.0</td>\n",
              "      <td>0.0</td>\n",
              "      <td>4.0</td>\n",
              "    </tr>\n",
              "    <tr>\n",
              "      <th>1</th>\n",
              "      <td>2</td>\n",
              "      <td>2012-02-03</td>\n",
              "      <td>8.0</td>\n",
              "      <td>0.0</td>\n",
              "      <td>8.0</td>\n",
              "    </tr>\n",
              "    <tr>\n",
              "      <th>2</th>\n",
              "      <td>3</td>\n",
              "      <td>2011-04-12</td>\n",
              "      <td>5.0</td>\n",
              "      <td>0.0</td>\n",
              "      <td>5.0</td>\n",
              "    </tr>\n",
              "    <tr>\n",
              "      <th>3</th>\n",
              "      <td>4</td>\n",
              "      <td>1999-01-01</td>\n",
              "      <td>8.0</td>\n",
              "      <td>0.0</td>\n",
              "      <td>8.0</td>\n",
              "    </tr>\n",
              "    <tr>\n",
              "      <th>4</th>\n",
              "      <td>4</td>\n",
              "      <td>2004-01-01</td>\n",
              "      <td>8.0</td>\n",
              "      <td>4.0</td>\n",
              "      <td>12.0</td>\n",
              "    </tr>\n",
              "  </tbody>\n",
              "</table>\n",
              "</div>"
            ],
            "text/plain": [
              "   ID DtVigencia  CtbBasica  CtbAdicional  Contribuicao\n",
              "0   1 2012-05-16        4.0           0.0           4.0\n",
              "1   2 2012-02-03        8.0           0.0           8.0\n",
              "2   3 2011-04-12        5.0           0.0           5.0\n",
              "3   4 1999-01-01        8.0           0.0           8.0\n",
              "4   4 2004-01-01        8.0           4.0          12.0"
            ]
          },
          "metadata": {
            "tags": []
          },
          "execution_count": 24
        }
      ]
    },
    {
      "cell_type": "markdown",
      "metadata": {
        "id": "ELrHzJugMMfN"
      },
      "source": [
        "###### Tratamento dos Dados"
      ]
    },
    {
      "cell_type": "code",
      "metadata": {
        "id": "Ex_XLJT9mxLY",
        "colab": {
          "base_uri": "https://localhost:8080/"
        },
        "outputId": "0cf2af67-38b9-4973-ee64-69046170d567"
      },
      "source": [
        "# Existem valores nulos (por coluna)? \n",
        "print(historicoctb.isnull().any())"
      ],
      "execution_count": 25,
      "outputs": [
        {
          "output_type": "stream",
          "text": [
            "ID              False\n",
            "DtVigencia      False\n",
            "CtbBasica       False\n",
            "CtbAdicional    False\n",
            "Contribuicao    False\n",
            "dtype: bool\n"
          ],
          "name": "stdout"
        }
      ]
    },
    {
      "cell_type": "code",
      "metadata": {
        "id": "w97HqsfzLoDX",
        "colab": {
          "base_uri": "https://localhost:8080/"
        },
        "outputId": "cd1d17d5-a947-4001-d419-ee987a4ba9c0"
      },
      "source": [
        "len(historicoctb)"
      ],
      "execution_count": 26,
      "outputs": [
        {
          "output_type": "execute_result",
          "data": {
            "text/plain": [
              "11505"
            ]
          },
          "metadata": {
            "tags": []
          },
          "execution_count": 26
        }
      ]
    },
    {
      "cell_type": "code",
      "metadata": {
        "id": "fWBWHgHSD12X"
      },
      "source": [
        "# Limpando inconsistências\n",
        "\n",
        "# 1. % Ctb. Basica = 0 e % Ctb. Adicional = 0 -> se participante parou de contribuir, não tem relevância para o estudo\n",
        "historicoctb = historicoctb[historicoctb.Contribuicao != 0]\n",
        "\n",
        "# 2. Contribuição > 8% -> pelo Regulamento do Plano, o máximo que já foi permitido, foi de 8% de Contribuição Básica\n",
        "historicoctb = historicoctb[historicoctb.CtbBasica < 9.0]\n",
        "\n",
        "#ID 4 apresentou 54% de contribuição adicional em 21/05/2012"
      ],
      "execution_count": 27,
      "outputs": []
    },
    {
      "cell_type": "code",
      "metadata": {
        "id": "hTFaidcSRXAD",
        "colab": {
          "base_uri": "https://localhost:8080/"
        },
        "outputId": "39539de6-c389-4afd-ebb7-08b61d4b8580"
      },
      "source": [
        " # Checando quantos dados restam\n",
        "len(historicoctb)"
      ],
      "execution_count": 28,
      "outputs": [
        {
          "output_type": "execute_result",
          "data": {
            "text/plain": [
              "11415"
            ]
          },
          "metadata": {
            "tags": []
          },
          "execution_count": 28
        }
      ]
    },
    {
      "cell_type": "code",
      "metadata": {
        "id": "6V9-E-kBSYdQ",
        "colab": {
          "base_uri": "https://localhost:8080/",
          "height": 204
        },
        "outputId": "c44dbf73-7cf4-4698-cc90-569b02e2a2d5"
      },
      "source": [
        "# Visualizando informações mais relevantes\n",
        "contribuicao = historicoctb [['ID', 'DtVigencia', 'Contribuicao']] \n",
        "contribuicao.head()"
      ],
      "execution_count": 29,
      "outputs": [
        {
          "output_type": "execute_result",
          "data": {
            "text/html": [
              "<div>\n",
              "<style scoped>\n",
              "    .dataframe tbody tr th:only-of-type {\n",
              "        vertical-align: middle;\n",
              "    }\n",
              "\n",
              "    .dataframe tbody tr th {\n",
              "        vertical-align: top;\n",
              "    }\n",
              "\n",
              "    .dataframe thead th {\n",
              "        text-align: right;\n",
              "    }\n",
              "</style>\n",
              "<table border=\"1\" class=\"dataframe\">\n",
              "  <thead>\n",
              "    <tr style=\"text-align: right;\">\n",
              "      <th></th>\n",
              "      <th>ID</th>\n",
              "      <th>DtVigencia</th>\n",
              "      <th>Contribuicao</th>\n",
              "    </tr>\n",
              "  </thead>\n",
              "  <tbody>\n",
              "    <tr>\n",
              "      <th>0</th>\n",
              "      <td>1</td>\n",
              "      <td>2012-05-16</td>\n",
              "      <td>4.0</td>\n",
              "    </tr>\n",
              "    <tr>\n",
              "      <th>1</th>\n",
              "      <td>2</td>\n",
              "      <td>2012-02-03</td>\n",
              "      <td>8.0</td>\n",
              "    </tr>\n",
              "    <tr>\n",
              "      <th>2</th>\n",
              "      <td>3</td>\n",
              "      <td>2011-04-12</td>\n",
              "      <td>5.0</td>\n",
              "    </tr>\n",
              "    <tr>\n",
              "      <th>3</th>\n",
              "      <td>4</td>\n",
              "      <td>1999-01-01</td>\n",
              "      <td>8.0</td>\n",
              "    </tr>\n",
              "    <tr>\n",
              "      <th>4</th>\n",
              "      <td>4</td>\n",
              "      <td>2004-01-01</td>\n",
              "      <td>12.0</td>\n",
              "    </tr>\n",
              "  </tbody>\n",
              "</table>\n",
              "</div>"
            ],
            "text/plain": [
              "   ID DtVigencia  Contribuicao\n",
              "0   1 2012-05-16           4.0\n",
              "1   2 2012-02-03           8.0\n",
              "2   3 2011-04-12           5.0\n",
              "3   4 1999-01-01           8.0\n",
              "4   4 2004-01-01          12.0"
            ]
          },
          "metadata": {
            "tags": []
          },
          "execution_count": 29
        }
      ]
    },
    {
      "cell_type": "code",
      "metadata": {
        "id": "UOZZhS_e9D51",
        "colab": {
          "base_uri": "https://localhost:8080/"
        },
        "outputId": "6046649b-84ea-403e-e18f-067349fa5bad"
      },
      "source": [
        "# Analisando a distribuição das Contribuições dos Participantes\n",
        "contribuicao.Contribuicao.value_counts(normalize=True)"
      ],
      "execution_count": 30,
      "outputs": [
        {
          "output_type": "execute_result",
          "data": {
            "text/plain": [
              "8.0     0.303285\n",
              "4.0     0.189750\n",
              "3.0     0.100832\n",
              "12.0    0.095313\n",
              "5.0     0.095050\n",
              "6.0     0.053176\n",
              "10.0    0.044503\n",
              "7.0     0.041524\n",
              "2.0     0.017784\n",
              "1.0     0.014192\n",
              "9.0     0.008060\n",
              "15.0    0.005869\n",
              "16.0    0.005344\n",
              "14.0    0.005081\n",
              "20.0    0.004906\n",
              "11.0    0.004818\n",
              "13.0    0.003329\n",
              "18.0    0.001752\n",
              "17.0    0.001139\n",
              "30.0    0.000701\n",
              "25.0    0.000613\n",
              "22.0    0.000438\n",
              "23.0    0.000438\n",
              "26.0    0.000350\n",
              "32.0    0.000175\n",
              "24.0    0.000175\n",
              "19.0    0.000175\n",
              "34.0    0.000175\n",
              "35.0    0.000175\n",
              "33.0    0.000175\n",
              "62.0    0.000088\n",
              "45.0    0.000088\n",
              "21.0    0.000088\n",
              "52.0    0.000088\n",
              "29.0    0.000088\n",
              "50.0    0.000088\n",
              "28.0    0.000088\n",
              "55.0    0.000088\n",
              "Name: Contribuicao, dtype: float64"
            ]
          },
          "metadata": {
            "tags": []
          },
          "execution_count": 30
        }
      ]
    },
    {
      "cell_type": "code",
      "metadata": {
        "id": "T5vMozTdlcbo",
        "colab": {
          "base_uri": "https://localhost:8080/"
        },
        "outputId": "9776a4a3-4118-444b-b81b-bca38a9c1b5b"
      },
      "source": [
        "# Analisando a distribuição dos dados de Contribuição\n",
        "contribuicao['Contribuicao'].describe()"
      ],
      "execution_count": 31,
      "outputs": [
        {
          "output_type": "execute_result",
          "data": {
            "text/plain": [
              "count    11415.000000\n",
              "mean         6.899956\n",
              "std          3.568717\n",
              "min          1.000000\n",
              "25%          4.000000\n",
              "50%          7.000000\n",
              "75%          8.000000\n",
              "max         62.000000\n",
              "Name: Contribuicao, dtype: float64"
            ]
          },
          "metadata": {
            "tags": []
          },
          "execution_count": 31
        }
      ]
    },
    {
      "cell_type": "code",
      "metadata": {
        "id": "47riweRQfYXD",
        "colab": {
          "base_uri": "https://localhost:8080/",
          "height": 268
        },
        "outputId": "3292d60f-8ffd-4b45-a683-d31e048fd22b"
      },
      "source": [
        "# Gráfico de Distribuição das Contribuições\n",
        "plt.hist(contribuicao['Contribuicao'], bins=30, label='Contribuicao', density=True)\n",
        "plt.legend();"
      ],
      "execution_count": 32,
      "outputs": [
        {
          "output_type": "display_data",
          "data": {
            "image/png": "[encoded data removed]",
            "text/plain": [
              "<Figure size 432x288 with 1 Axes>"
            ]
          },
          "metadata": {
            "tags": [],
            "needs_background": "light"
          }
        }
      ]
    },
    {
      "cell_type": "markdown",
      "metadata": {
        "id": "-OFiu6kinH5p"
      },
      "source": [
        "#### Histórico do Perfil dos Participantes"
      ]
    },
    {
      "cell_type": "code",
      "metadata": {
        "colab": {
          "base_uri": "https://localhost:8080/",
          "height": 204
        },
        "id": "7Rc3pJitlpNF",
        "outputId": "2d4f3b78-0e3a-425d-9f8e-027d36d500f0"
      },
      "source": [
        "# Importando o arquivo historico perfil\n",
        "historicoprfl = pd.read_csv('historico perfil.csv', delimiter= \";\", decimal=',', encoding='latin-1')\n",
        "\n",
        "# convert the 'Date' column to datetime format\n",
        "historicoprfl['DtVigencia']= pd.to_datetime(historicoprfl['DtVigencia'],dayfirst= True )\n",
        "\n",
        "# Visualização dos dados\n",
        "historicoprfl.head()"
      ],
      "execution_count": 33,
      "outputs": [
        {
          "output_type": "execute_result",
          "data": {
            "text/html": [
              "<div>\n",
              "<style scoped>\n",
              "    .dataframe tbody tr th:only-of-type {\n",
              "        vertical-align: middle;\n",
              "    }\n",
              "\n",
              "    .dataframe tbody tr th {\n",
              "        vertical-align: top;\n",
              "    }\n",
              "\n",
              "    .dataframe thead th {\n",
              "        text-align: right;\n",
              "    }\n",
              "</style>\n",
              "<table border=\"1\" class=\"dataframe\">\n",
              "  <thead>\n",
              "    <tr style=\"text-align: right;\">\n",
              "      <th></th>\n",
              "      <th>ID</th>\n",
              "      <th>DtVigencia</th>\n",
              "      <th>TipoPerfil</th>\n",
              "      <th>Alocacao</th>\n",
              "    </tr>\n",
              "  </thead>\n",
              "  <tbody>\n",
              "    <tr>\n",
              "      <th>0</th>\n",
              "      <td>1</td>\n",
              "      <td>2012-05-16</td>\n",
              "      <td>Renda Fixa</td>\n",
              "      <td>60.0</td>\n",
              "    </tr>\n",
              "    <tr>\n",
              "      <th>1</th>\n",
              "      <td>1</td>\n",
              "      <td>2012-05-16</td>\n",
              "      <td>Renda Variavel</td>\n",
              "      <td>40.0</td>\n",
              "    </tr>\n",
              "    <tr>\n",
              "      <th>2</th>\n",
              "      <td>1</td>\n",
              "      <td>2012-11-01</td>\n",
              "      <td>Renda Fixa</td>\n",
              "      <td>60.0</td>\n",
              "    </tr>\n",
              "    <tr>\n",
              "      <th>3</th>\n",
              "      <td>1</td>\n",
              "      <td>2012-11-01</td>\n",
              "      <td>Renda Variavel</td>\n",
              "      <td>40.0</td>\n",
              "    </tr>\n",
              "    <tr>\n",
              "      <th>4</th>\n",
              "      <td>1</td>\n",
              "      <td>2013-11-01</td>\n",
              "      <td>Renda Fixa</td>\n",
              "      <td>60.0</td>\n",
              "    </tr>\n",
              "  </tbody>\n",
              "</table>\n",
              "</div>"
            ],
            "text/plain": [
              "   ID DtVigencia      TipoPerfil  Alocacao\n",
              "0   1 2012-05-16      Renda Fixa      60.0\n",
              "1   1 2012-05-16  Renda Variavel      40.0\n",
              "2   1 2012-11-01      Renda Fixa      60.0\n",
              "3   1 2012-11-01  Renda Variavel      40.0\n",
              "4   1 2013-11-01      Renda Fixa      60.0"
            ]
          },
          "metadata": {
            "tags": []
          },
          "execution_count": 33
        }
      ]
    },
    {
      "cell_type": "code",
      "metadata": {
        "colab": {
          "base_uri": "https://localhost:8080/",
          "height": 235
        },
        "id": "T9H8_155oXRU",
        "outputId": "ce701326-898b-4cab-be3f-1164bfad0f11"
      },
      "source": [
        "# Agrupando casos em que um mesmo TipoPerfil aparece para mesmo ID e DtVigencia\n",
        "grupoperfil = historicoprfl.groupby([\"ID\",\"DtVigencia\",\"TipoPerfil\"])\n",
        "grupoperfil = grupoperfil.sum()\n",
        "grupoperfil.head()"
      ],
      "execution_count": 34,
      "outputs": [
        {
          "output_type": "execute_result",
          "data": {
            "text/html": [
              "<div>\n",
              "<style scoped>\n",
              "    .dataframe tbody tr th:only-of-type {\n",
              "        vertical-align: middle;\n",
              "    }\n",
              "\n",
              "    .dataframe tbody tr th {\n",
              "        vertical-align: top;\n",
              "    }\n",
              "\n",
              "    .dataframe thead th {\n",
              "        text-align: right;\n",
              "    }\n",
              "</style>\n",
              "<table border=\"1\" class=\"dataframe\">\n",
              "  <thead>\n",
              "    <tr style=\"text-align: right;\">\n",
              "      <th></th>\n",
              "      <th></th>\n",
              "      <th></th>\n",
              "      <th>Alocacao</th>\n",
              "    </tr>\n",
              "    <tr>\n",
              "      <th>ID</th>\n",
              "      <th>DtVigencia</th>\n",
              "      <th>TipoPerfil</th>\n",
              "      <th></th>\n",
              "    </tr>\n",
              "  </thead>\n",
              "  <tbody>\n",
              "    <tr>\n",
              "      <th rowspan=\"5\" valign=\"top\">1</th>\n",
              "      <th rowspan=\"2\" valign=\"top\">2012-05-16</th>\n",
              "      <th>Renda Fixa</th>\n",
              "      <td>60.0</td>\n",
              "    </tr>\n",
              "    <tr>\n",
              "      <th>Renda Variavel</th>\n",
              "      <td>40.0</td>\n",
              "    </tr>\n",
              "    <tr>\n",
              "      <th rowspan=\"2\" valign=\"top\">2012-11-01</th>\n",
              "      <th>Renda Fixa</th>\n",
              "      <td>60.0</td>\n",
              "    </tr>\n",
              "    <tr>\n",
              "      <th>Renda Variavel</th>\n",
              "      <td>40.0</td>\n",
              "    </tr>\n",
              "    <tr>\n",
              "      <th>2013-11-01</th>\n",
              "      <th>Renda Fixa</th>\n",
              "      <td>60.0</td>\n",
              "    </tr>\n",
              "  </tbody>\n",
              "</table>\n",
              "</div>"
            ],
            "text/plain": [
              "                              Alocacao\n",
              "ID DtVigencia TipoPerfil              \n",
              "1  2012-05-16 Renda Fixa          60.0\n",
              "              Renda Variavel      40.0\n",
              "   2012-11-01 Renda Fixa          60.0\n",
              "              Renda Variavel      40.0\n",
              "   2013-11-01 Renda Fixa          60.0"
            ]
          },
          "metadata": {
            "tags": []
          },
          "execution_count": 34
        }
      ]
    },
    {
      "cell_type": "code",
      "metadata": {
        "colab": {
          "base_uri": "https://localhost:8080/",
          "height": 204
        },
        "id": "CpGvqy1kqA1M",
        "outputId": "998eaca2-7da6-46c8-bd3d-deae94d938a8"
      },
      "source": [
        "# Reorganizando a tabela\n",
        "grupoperfil = grupoperfil.reset_index()\n",
        "grupoperfil.head()"
      ],
      "execution_count": 35,
      "outputs": [
        {
          "output_type": "execute_result",
          "data": {
            "text/html": [
              "<div>\n",
              "<style scoped>\n",
              "    .dataframe tbody tr th:only-of-type {\n",
              "        vertical-align: middle;\n",
              "    }\n",
              "\n",
              "    .dataframe tbody tr th {\n",
              "        vertical-align: top;\n",
              "    }\n",
              "\n",
              "    .dataframe thead th {\n",
              "        text-align: right;\n",
              "    }\n",
              "</style>\n",
              "<table border=\"1\" class=\"dataframe\">\n",
              "  <thead>\n",
              "    <tr style=\"text-align: right;\">\n",
              "      <th></th>\n",
              "      <th>ID</th>\n",
              "      <th>DtVigencia</th>\n",
              "      <th>TipoPerfil</th>\n",
              "      <th>Alocacao</th>\n",
              "    </tr>\n",
              "  </thead>\n",
              "  <tbody>\n",
              "    <tr>\n",
              "      <th>0</th>\n",
              "      <td>1</td>\n",
              "      <td>2012-05-16</td>\n",
              "      <td>Renda Fixa</td>\n",
              "      <td>60.0</td>\n",
              "    </tr>\n",
              "    <tr>\n",
              "      <th>1</th>\n",
              "      <td>1</td>\n",
              "      <td>2012-05-16</td>\n",
              "      <td>Renda Variavel</td>\n",
              "      <td>40.0</td>\n",
              "    </tr>\n",
              "    <tr>\n",
              "      <th>2</th>\n",
              "      <td>1</td>\n",
              "      <td>2012-11-01</td>\n",
              "      <td>Renda Fixa</td>\n",
              "      <td>60.0</td>\n",
              "    </tr>\n",
              "    <tr>\n",
              "      <th>3</th>\n",
              "      <td>1</td>\n",
              "      <td>2012-11-01</td>\n",
              "      <td>Renda Variavel</td>\n",
              "      <td>40.0</td>\n",
              "    </tr>\n",
              "    <tr>\n",
              "      <th>4</th>\n",
              "      <td>1</td>\n",
              "      <td>2013-11-01</td>\n",
              "      <td>Renda Fixa</td>\n",
              "      <td>60.0</td>\n",
              "    </tr>\n",
              "  </tbody>\n",
              "</table>\n",
              "</div>"
            ],
            "text/plain": [
              "   ID DtVigencia      TipoPerfil  Alocacao\n",
              "0   1 2012-05-16      Renda Fixa      60.0\n",
              "1   1 2012-05-16  Renda Variavel      40.0\n",
              "2   1 2012-11-01      Renda Fixa      60.0\n",
              "3   1 2012-11-01  Renda Variavel      40.0\n",
              "4   1 2013-11-01      Renda Fixa      60.0"
            ]
          },
          "metadata": {
            "tags": []
          },
          "execution_count": 35
        }
      ]
    },
    {
      "cell_type": "markdown",
      "metadata": {
        "id": "rehe74EvMOVH"
      },
      "source": [
        "###### Tratamento dos Dados"
      ]
    },
    {
      "cell_type": "code",
      "metadata": {
        "colab": {
          "base_uri": "https://localhost:8080/"
        },
        "id": "noywEmdKlpJ3",
        "outputId": "d95ac993-6ab2-441c-df3c-893e325e9fba"
      },
      "source": [
        "# Existem valores nulos (por coluna)? \n",
        "print(grupoperfil.isnull().any())"
      ],
      "execution_count": 36,
      "outputs": [
        {
          "output_type": "stream",
          "text": [
            "ID            False\n",
            "DtVigencia    False\n",
            "TipoPerfil    False\n",
            "Alocacao      False\n",
            "dtype: bool\n"
          ],
          "name": "stdout"
        }
      ]
    },
    {
      "cell_type": "code",
      "metadata": {
        "colab": {
          "base_uri": "https://localhost:8080/",
          "height": 204
        },
        "id": "DwQwEGR3lo5k",
        "outputId": "00fcb7f5-7a86-43bd-aa6b-fc07b8149f29"
      },
      "source": [
        "# Criando uma nova tabela (perfil) com colunas de RendaFixa e RendaVariavel \n",
        "rendafixa = grupoperfil.loc[grupoperfil['TipoPerfil'] == 'Renda Fixa']\n",
        "rendafixa = rendafixa.drop(columns=['TipoPerfil'])\n",
        "rendafixa = rendafixa.rename(columns={\"Alocacao\":\"RendaFixa\"}) \n",
        "rendavariavel = grupoperfil.loc[grupoperfil['TipoPerfil'] == 'Renda Variavel']\n",
        "rendavariavel = rendavariavel.drop(columns=['TipoPerfil'])\n",
        "perfil = pd.merge(rendafixa, rendavariavel, how='left', on=['ID','DtVigencia'])\n",
        "perfil = perfil.rename(columns={\"Alocacao\":\"RendaVariavel\"}) \n",
        "perfil.head()"
      ],
      "execution_count": 37,
      "outputs": [
        {
          "output_type": "execute_result",
          "data": {
            "text/html": [
              "<div>\n",
              "<style scoped>\n",
              "    .dataframe tbody tr th:only-of-type {\n",
              "        vertical-align: middle;\n",
              "    }\n",
              "\n",
              "    .dataframe tbody tr th {\n",
              "        vertical-align: top;\n",
              "    }\n",
              "\n",
              "    .dataframe thead th {\n",
              "        text-align: right;\n",
              "    }\n",
              "</style>\n",
              "<table border=\"1\" class=\"dataframe\">\n",
              "  <thead>\n",
              "    <tr style=\"text-align: right;\">\n",
              "      <th></th>\n",
              "      <th>ID</th>\n",
              "      <th>DtVigencia</th>\n",
              "      <th>RendaFixa</th>\n",
              "      <th>RendaVariavel</th>\n",
              "    </tr>\n",
              "  </thead>\n",
              "  <tbody>\n",
              "    <tr>\n",
              "      <th>0</th>\n",
              "      <td>1</td>\n",
              "      <td>2012-05-16</td>\n",
              "      <td>60.0</td>\n",
              "      <td>40.0</td>\n",
              "    </tr>\n",
              "    <tr>\n",
              "      <th>1</th>\n",
              "      <td>1</td>\n",
              "      <td>2012-11-01</td>\n",
              "      <td>60.0</td>\n",
              "      <td>40.0</td>\n",
              "    </tr>\n",
              "    <tr>\n",
              "      <th>2</th>\n",
              "      <td>1</td>\n",
              "      <td>2013-11-01</td>\n",
              "      <td>60.0</td>\n",
              "      <td>40.0</td>\n",
              "    </tr>\n",
              "    <tr>\n",
              "      <th>3</th>\n",
              "      <td>1</td>\n",
              "      <td>2014-11-01</td>\n",
              "      <td>60.0</td>\n",
              "      <td>40.0</td>\n",
              "    </tr>\n",
              "    <tr>\n",
              "      <th>4</th>\n",
              "      <td>1</td>\n",
              "      <td>2015-07-01</td>\n",
              "      <td>60.0</td>\n",
              "      <td>40.0</td>\n",
              "    </tr>\n",
              "  </tbody>\n",
              "</table>\n",
              "</div>"
            ],
            "text/plain": [
              "   ID DtVigencia  RendaFixa  RendaVariavel\n",
              "0   1 2012-05-16       60.0           40.0\n",
              "1   1 2012-11-01       60.0           40.0\n",
              "2   1 2013-11-01       60.0           40.0\n",
              "3   1 2014-11-01       60.0           40.0\n",
              "4   1 2015-07-01       60.0           40.0"
            ]
          },
          "metadata": {
            "tags": []
          },
          "execution_count": 37
        }
      ]
    },
    {
      "cell_type": "code",
      "metadata": {
        "colab": {
          "base_uri": "https://localhost:8080/"
        },
        "id": "za1Y1KcKGn55",
        "outputId": "563eeec6-41f9-4f7e-8b15-3c7e9fc88c16"
      },
      "source": [
        "# Conferindo dimensão da tabela rendafixa\n",
        "len(rendafixa)"
      ],
      "execution_count": 38,
      "outputs": [
        {
          "output_type": "execute_result",
          "data": {
            "text/plain": [
              "65340"
            ]
          },
          "metadata": {
            "tags": []
          },
          "execution_count": 38
        }
      ]
    },
    {
      "cell_type": "code",
      "metadata": {
        "colab": {
          "base_uri": "https://localhost:8080/"
        },
        "id": "nVbPKbXHQXa4",
        "outputId": "00d4f714-683a-4c8a-ef86-3f6ccd1725b1"
      },
      "source": [
        "# Conferindo dimensão da tabela rendavariavel\n",
        "len(rendavariavel)"
      ],
      "execution_count": 39,
      "outputs": [
        {
          "output_type": "execute_result",
          "data": {
            "text/plain": [
              "40735"
            ]
          },
          "metadata": {
            "tags": []
          },
          "execution_count": 39
        }
      ]
    },
    {
      "cell_type": "code",
      "metadata": {
        "colab": {
          "base_uri": "https://localhost:8080/"
        },
        "id": "sNOdV2oDQasL",
        "outputId": "1d9fb546-6998-4b6e-c88d-334de2281ff0"
      },
      "source": [
        "# Conferindo dimensão da tabela perfil -- tem que ser igual a rendafixa\n",
        "len(perfil)"
      ],
      "execution_count": 40,
      "outputs": [
        {
          "output_type": "execute_result",
          "data": {
            "text/plain": [
              "65340"
            ]
          },
          "metadata": {
            "tags": []
          },
          "execution_count": 40
        }
      ]
    },
    {
      "cell_type": "code",
      "metadata": {
        "colab": {
          "base_uri": "https://localhost:8080/"
        },
        "id": "0iEaSbS1Fvlg",
        "outputId": "be3c875d-dda7-4817-f92d-9ffe6a91a7b7"
      },
      "source": [
        "# tem dados nulos?\n",
        "print(perfil.isnull().any())"
      ],
      "execution_count": 41,
      "outputs": [
        {
          "output_type": "stream",
          "text": [
            "ID               False\n",
            "DtVigencia       False\n",
            "RendaFixa        False\n",
            "RendaVariavel     True\n",
            "dtype: bool\n"
          ],
          "name": "stdout"
        }
      ]
    },
    {
      "cell_type": "code",
      "metadata": {
        "colab": {
          "base_uri": "https://localhost:8080/"
        },
        "id": "aj4rSuUuGLwx",
        "outputId": "befad6fe-7166-45fb-b848-813259e42e20"
      },
      "source": [
        "# Preenchendo dados nulos com 0, pois Alocação Total (Renda Fixa + Renda Variável) = 100%\n",
        "perfil['RendaVariavel'] = perfil['RendaVariavel'].fillna(0)\n",
        "print(perfil.isnull().any())"
      ],
      "execution_count": 42,
      "outputs": [
        {
          "output_type": "stream",
          "text": [
            "ID               False\n",
            "DtVigencia       False\n",
            "RendaFixa        False\n",
            "RendaVariavel    False\n",
            "dtype: bool\n"
          ],
          "name": "stdout"
        }
      ]
    },
    {
      "cell_type": "code",
      "metadata": {
        "colab": {
          "base_uri": "https://localhost:8080/",
          "height": 204
        },
        "id": "zACMW3QKKKCB",
        "outputId": "8bd8fc7a-8157-44e5-d52d-6c7329eae9d0"
      },
      "source": [
        "# Criando coluna com a soma das Alocações (RendaFixa + RendaVariavel) para checar se total = 100%\n",
        "sum_alocacao = perfil[\"RendaFixa\"] + perfil[\"RendaVariavel\"]\n",
        "perfil[\"AlocacaoTotal\"]  = sum_alocacao\n",
        "perfil.head()"
      ],
      "execution_count": 43,
      "outputs": [
        {
          "output_type": "execute_result",
          "data": {
            "text/html": [
              "<div>\n",
              "<style scoped>\n",
              "    .dataframe tbody tr th:only-of-type {\n",
              "        vertical-align: middle;\n",
              "    }\n",
              "\n",
              "    .dataframe tbody tr th {\n",
              "        vertical-align: top;\n",
              "    }\n",
              "\n",
              "    .dataframe thead th {\n",
              "        text-align: right;\n",
              "    }\n",
              "</style>\n",
              "<table border=\"1\" class=\"dataframe\">\n",
              "  <thead>\n",
              "    <tr style=\"text-align: right;\">\n",
              "      <th></th>\n",
              "      <th>ID</th>\n",
              "      <th>DtVigencia</th>\n",
              "      <th>RendaFixa</th>\n",
              "      <th>RendaVariavel</th>\n",
              "      <th>AlocacaoTotal</th>\n",
              "    </tr>\n",
              "  </thead>\n",
              "  <tbody>\n",
              "    <tr>\n",
              "      <th>0</th>\n",
              "      <td>1</td>\n",
              "      <td>2012-05-16</td>\n",
              "      <td>60.0</td>\n",
              "      <td>40.0</td>\n",
              "      <td>100.0</td>\n",
              "    </tr>\n",
              "    <tr>\n",
              "      <th>1</th>\n",
              "      <td>1</td>\n",
              "      <td>2012-11-01</td>\n",
              "      <td>60.0</td>\n",
              "      <td>40.0</td>\n",
              "      <td>100.0</td>\n",
              "    </tr>\n",
              "    <tr>\n",
              "      <th>2</th>\n",
              "      <td>1</td>\n",
              "      <td>2013-11-01</td>\n",
              "      <td>60.0</td>\n",
              "      <td>40.0</td>\n",
              "      <td>100.0</td>\n",
              "    </tr>\n",
              "    <tr>\n",
              "      <th>3</th>\n",
              "      <td>1</td>\n",
              "      <td>2014-11-01</td>\n",
              "      <td>60.0</td>\n",
              "      <td>40.0</td>\n",
              "      <td>100.0</td>\n",
              "    </tr>\n",
              "    <tr>\n",
              "      <th>4</th>\n",
              "      <td>1</td>\n",
              "      <td>2015-07-01</td>\n",
              "      <td>60.0</td>\n",
              "      <td>40.0</td>\n",
              "      <td>100.0</td>\n",
              "    </tr>\n",
              "  </tbody>\n",
              "</table>\n",
              "</div>"
            ],
            "text/plain": [
              "   ID DtVigencia  RendaFixa  RendaVariavel  AlocacaoTotal\n",
              "0   1 2012-05-16       60.0           40.0          100.0\n",
              "1   1 2012-11-01       60.0           40.0          100.0\n",
              "2   1 2013-11-01       60.0           40.0          100.0\n",
              "3   1 2014-11-01       60.0           40.0          100.0\n",
              "4   1 2015-07-01       60.0           40.0          100.0"
            ]
          },
          "metadata": {
            "tags": []
          },
          "execution_count": 43
        }
      ]
    },
    {
      "cell_type": "code",
      "metadata": {
        "colab": {
          "base_uri": "https://localhost:8080/",
          "height": 49
        },
        "id": "j8vOrPxktwPi",
        "outputId": "7c511c52-a7c7-40ab-b59a-67d8f29084da"
      },
      "source": [
        "# Existe AlocacaoTotal <> 100% ?\n",
        "inconsistencia_perfil = perfil[perfil.AlocacaoTotal != 100]\n",
        "inconsistencia_perfil"
      ],
      "execution_count": 44,
      "outputs": [
        {
          "output_type": "execute_result",
          "data": {
            "text/html": [
              "<div>\n",
              "<style scoped>\n",
              "    .dataframe tbody tr th:only-of-type {\n",
              "        vertical-align: middle;\n",
              "    }\n",
              "\n",
              "    .dataframe tbody tr th {\n",
              "        vertical-align: top;\n",
              "    }\n",
              "\n",
              "    .dataframe thead th {\n",
              "        text-align: right;\n",
              "    }\n",
              "</style>\n",
              "<table border=\"1\" class=\"dataframe\">\n",
              "  <thead>\n",
              "    <tr style=\"text-align: right;\">\n",
              "      <th></th>\n",
              "      <th>ID</th>\n",
              "      <th>DtVigencia</th>\n",
              "      <th>RendaFixa</th>\n",
              "      <th>RendaVariavel</th>\n",
              "      <th>AlocacaoTotal</th>\n",
              "    </tr>\n",
              "  </thead>\n",
              "  <tbody>\n",
              "  </tbody>\n",
              "</table>\n",
              "</div>"
            ],
            "text/plain": [
              "Empty DataFrame\n",
              "Columns: [ID, DtVigencia, RendaFixa, RendaVariavel, AlocacaoTotal]\n",
              "Index: []"
            ]
          },
          "metadata": {
            "tags": []
          },
          "execution_count": 44
        }
      ]
    },
    {
      "cell_type": "code",
      "metadata": {
        "colab": {
          "base_uri": "https://localhost:8080/",
          "height": 204
        },
        "id": "tW8JMRNPvm9_",
        "outputId": "59fa7d94-7cc6-46d9-871b-bbf0e054e5ea"
      },
      "source": [
        "# Selecionando colunas relevantes e ordenando por DtVigencia para analisar alterações de alocação ao longo do tempo\n",
        "perfil = perfil [['ID', 'DtVigencia', 'RendaFixa', 'RendaVariavel']]\n",
        "perfil.sort_values(by=\"DtVigencia\")\n",
        "perfil.head() "
      ],
      "execution_count": 45,
      "outputs": [
        {
          "output_type": "execute_result",
          "data": {
            "text/html": [
              "<div>\n",
              "<style scoped>\n",
              "    .dataframe tbody tr th:only-of-type {\n",
              "        vertical-align: middle;\n",
              "    }\n",
              "\n",
              "    .dataframe tbody tr th {\n",
              "        vertical-align: top;\n",
              "    }\n",
              "\n",
              "    .dataframe thead th {\n",
              "        text-align: right;\n",
              "    }\n",
              "</style>\n",
              "<table border=\"1\" class=\"dataframe\">\n",
              "  <thead>\n",
              "    <tr style=\"text-align: right;\">\n",
              "      <th></th>\n",
              "      <th>ID</th>\n",
              "      <th>DtVigencia</th>\n",
              "      <th>RendaFixa</th>\n",
              "      <th>RendaVariavel</th>\n",
              "    </tr>\n",
              "  </thead>\n",
              "  <tbody>\n",
              "    <tr>\n",
              "      <th>0</th>\n",
              "      <td>1</td>\n",
              "      <td>2012-05-16</td>\n",
              "      <td>60.0</td>\n",
              "      <td>40.0</td>\n",
              "    </tr>\n",
              "    <tr>\n",
              "      <th>1</th>\n",
              "      <td>1</td>\n",
              "      <td>2012-11-01</td>\n",
              "      <td>60.0</td>\n",
              "      <td>40.0</td>\n",
              "    </tr>\n",
              "    <tr>\n",
              "      <th>2</th>\n",
              "      <td>1</td>\n",
              "      <td>2013-11-01</td>\n",
              "      <td>60.0</td>\n",
              "      <td>40.0</td>\n",
              "    </tr>\n",
              "    <tr>\n",
              "      <th>3</th>\n",
              "      <td>1</td>\n",
              "      <td>2014-11-01</td>\n",
              "      <td>60.0</td>\n",
              "      <td>40.0</td>\n",
              "    </tr>\n",
              "    <tr>\n",
              "      <th>4</th>\n",
              "      <td>1</td>\n",
              "      <td>2015-07-01</td>\n",
              "      <td>60.0</td>\n",
              "      <td>40.0</td>\n",
              "    </tr>\n",
              "  </tbody>\n",
              "</table>\n",
              "</div>"
            ],
            "text/plain": [
              "   ID DtVigencia  RendaFixa  RendaVariavel\n",
              "0   1 2012-05-16       60.0           40.0\n",
              "1   1 2012-11-01       60.0           40.0\n",
              "2   1 2013-11-01       60.0           40.0\n",
              "3   1 2014-11-01       60.0           40.0\n",
              "4   1 2015-07-01       60.0           40.0"
            ]
          },
          "metadata": {
            "tags": []
          },
          "execution_count": 45
        }
      ]
    },
    {
      "cell_type": "markdown",
      "metadata": {
        "id": "seu8hSgomV4C"
      },
      "source": [
        "###### Análise dos Dados"
      ]
    },
    {
      "cell_type": "code",
      "metadata": {
        "colab": {
          "base_uri": "https://localhost:8080/",
          "height": 204
        },
        "id": "WSXE50Gm7lgD",
        "outputId": "110a4ee0-3b5d-4e29-806c-fbb8a6b5c7e7"
      },
      "source": [
        "# Analisando Alterações de Alocação\n",
        "\n",
        "# Alteração de Alocação em Renda Fixa\n",
        "perfil[\"DiffAlocacao\"]  = perfil.RendaFixa.diff()\n",
        "\n",
        "# Alteração de ID\n",
        "perfil[\"DiffID\"] = perfil.ID.diff()\n",
        "\n",
        "# Alteração de Data\n",
        "perfil[\"DiffData\"] = perfil.DtVigencia.diff()\n",
        "\n",
        "# Quando não tem com o que comparar, preenche com n/a, então substitui na por 0\n",
        "perfil['DiffAlocacao'] = perfil['DiffAlocacao'].fillna(0)\n",
        "perfil['DiffID'] = perfil['DiffID'].fillna(0)\n",
        "perfil[\"DiffData\"] = perfil[\"DiffData\"].fillna(timedelta(days=0))\n",
        "\n",
        "# Visualizando a nova tabela perfil\n",
        "perfil.head()"
      ],
      "execution_count": 46,
      "outputs": [
        {
          "output_type": "execute_result",
          "data": {
            "text/html": [
              "<div>\n",
              "<style scoped>\n",
              "    .dataframe tbody tr th:only-of-type {\n",
              "        vertical-align: middle;\n",
              "    }\n",
              "\n",
              "    .dataframe tbody tr th {\n",
              "        vertical-align: top;\n",
              "    }\n",
              "\n",
              "    .dataframe thead th {\n",
              "        text-align: right;\n",
              "    }\n",
              "</style>\n",
              "<table border=\"1\" class=\"dataframe\">\n",
              "  <thead>\n",
              "    <tr style=\"text-align: right;\">\n",
              "      <th></th>\n",
              "      <th>ID</th>\n",
              "      <th>DtVigencia</th>\n",
              "      <th>RendaFixa</th>\n",
              "      <th>RendaVariavel</th>\n",
              "      <th>DiffAlocacao</th>\n",
              "      <th>DiffID</th>\n",
              "      <th>DiffData</th>\n",
              "    </tr>\n",
              "  </thead>\n",
              "  <tbody>\n",
              "    <tr>\n",
              "      <th>0</th>\n",
              "      <td>1</td>\n",
              "      <td>2012-05-16</td>\n",
              "      <td>60.0</td>\n",
              "      <td>40.0</td>\n",
              "      <td>0.0</td>\n",
              "      <td>0.0</td>\n",
              "      <td>0 days</td>\n",
              "    </tr>\n",
              "    <tr>\n",
              "      <th>1</th>\n",
              "      <td>1</td>\n",
              "      <td>2012-11-01</td>\n",
              "      <td>60.0</td>\n",
              "      <td>40.0</td>\n",
              "      <td>0.0</td>\n",
              "      <td>0.0</td>\n",
              "      <td>169 days</td>\n",
              "    </tr>\n",
              "    <tr>\n",
              "      <th>2</th>\n",
              "      <td>1</td>\n",
              "      <td>2013-11-01</td>\n",
              "      <td>60.0</td>\n",
              "      <td>40.0</td>\n",
              "      <td>0.0</td>\n",
              "      <td>0.0</td>\n",
              "      <td>365 days</td>\n",
              "    </tr>\n",
              "    <tr>\n",
              "      <th>3</th>\n",
              "      <td>1</td>\n",
              "      <td>2014-11-01</td>\n",
              "      <td>60.0</td>\n",
              "      <td>40.0</td>\n",
              "      <td>0.0</td>\n",
              "      <td>0.0</td>\n",
              "      <td>365 days</td>\n",
              "    </tr>\n",
              "    <tr>\n",
              "      <th>4</th>\n",
              "      <td>1</td>\n",
              "      <td>2015-07-01</td>\n",
              "      <td>60.0</td>\n",
              "      <td>40.0</td>\n",
              "      <td>0.0</td>\n",
              "      <td>0.0</td>\n",
              "      <td>242 days</td>\n",
              "    </tr>\n",
              "  </tbody>\n",
              "</table>\n",
              "</div>"
            ],
            "text/plain": [
              "   ID DtVigencia  RendaFixa  RendaVariavel  DiffAlocacao  DiffID DiffData\n",
              "0   1 2012-05-16       60.0           40.0           0.0     0.0   0 days\n",
              "1   1 2012-11-01       60.0           40.0           0.0     0.0 169 days\n",
              "2   1 2013-11-01       60.0           40.0           0.0     0.0 365 days\n",
              "3   1 2014-11-01       60.0           40.0           0.0     0.0 365 days\n",
              "4   1 2015-07-01       60.0           40.0           0.0     0.0 242 days"
            ]
          },
          "metadata": {
            "tags": []
          },
          "execution_count": 46
        }
      ]
    },
    {
      "cell_type": "code",
      "metadata": {
        "colab": {
          "base_uri": "https://localhost:8080/"
        },
        "id": "DJiVtbqHpJ7S",
        "outputId": "ce4d7583-c4a5-4956-efaa-edb1d5be64b2"
      },
      "source": [
        "len(perfil)"
      ],
      "execution_count": 47,
      "outputs": [
        {
          "output_type": "execute_result",
          "data": {
            "text/plain": [
              "65340"
            ]
          },
          "metadata": {
            "tags": []
          },
          "execution_count": 47
        }
      ]
    },
    {
      "cell_type": "code",
      "metadata": {
        "colab": {
          "base_uri": "https://localhost:8080/",
          "height": 204
        },
        "id": "faTE1tajWMH8",
        "outputId": "cb778ef9-5cb2-4fe2-b945-e272eb9b5f2a"
      },
      "source": [
        "# Criando tabela com as alocação na DtVigencia mais recente\n",
        "ultimoperfil = perfil[perfil.DtVigencia == max(perfil.DtVigencia)]\n",
        "ultimoperfil.head()"
      ],
      "execution_count": 48,
      "outputs": [
        {
          "output_type": "execute_result",
          "data": {
            "text/html": [
              "<div>\n",
              "<style scoped>\n",
              "    .dataframe tbody tr th:only-of-type {\n",
              "        vertical-align: middle;\n",
              "    }\n",
              "\n",
              "    .dataframe tbody tr th {\n",
              "        vertical-align: top;\n",
              "    }\n",
              "\n",
              "    .dataframe thead th {\n",
              "        text-align: right;\n",
              "    }\n",
              "</style>\n",
              "<table border=\"1\" class=\"dataframe\">\n",
              "  <thead>\n",
              "    <tr style=\"text-align: right;\">\n",
              "      <th></th>\n",
              "      <th>ID</th>\n",
              "      <th>DtVigencia</th>\n",
              "      <th>RendaFixa</th>\n",
              "      <th>RendaVariavel</th>\n",
              "      <th>DiffAlocacao</th>\n",
              "      <th>DiffID</th>\n",
              "      <th>DiffData</th>\n",
              "    </tr>\n",
              "  </thead>\n",
              "  <tbody>\n",
              "    <tr>\n",
              "      <th>10</th>\n",
              "      <td>1</td>\n",
              "      <td>2020-11-03</td>\n",
              "      <td>60.0</td>\n",
              "      <td>40.0</td>\n",
              "      <td>0.0</td>\n",
              "      <td>0.0</td>\n",
              "      <td>368 days</td>\n",
              "    </tr>\n",
              "    <tr>\n",
              "      <th>21</th>\n",
              "      <td>2</td>\n",
              "      <td>2020-11-03</td>\n",
              "      <td>80.0</td>\n",
              "      <td>20.0</td>\n",
              "      <td>0.0</td>\n",
              "      <td>0.0</td>\n",
              "      <td>368 days</td>\n",
              "    </tr>\n",
              "    <tr>\n",
              "      <th>32</th>\n",
              "      <td>3</td>\n",
              "      <td>2020-11-03</td>\n",
              "      <td>80.0</td>\n",
              "      <td>20.0</td>\n",
              "      <td>0.0</td>\n",
              "      <td>0.0</td>\n",
              "      <td>368 days</td>\n",
              "    </tr>\n",
              "    <tr>\n",
              "      <th>53</th>\n",
              "      <td>4</td>\n",
              "      <td>2020-11-03</td>\n",
              "      <td>95.0</td>\n",
              "      <td>5.0</td>\n",
              "      <td>0.0</td>\n",
              "      <td>0.0</td>\n",
              "      <td>368 days</td>\n",
              "    </tr>\n",
              "    <tr>\n",
              "      <th>71</th>\n",
              "      <td>5</td>\n",
              "      <td>2020-11-03</td>\n",
              "      <td>100.0</td>\n",
              "      <td>0.0</td>\n",
              "      <td>0.0</td>\n",
              "      <td>0.0</td>\n",
              "      <td>368 days</td>\n",
              "    </tr>\n",
              "  </tbody>\n",
              "</table>\n",
              "</div>"
            ],
            "text/plain": [
              "    ID DtVigencia  RendaFixa  RendaVariavel  DiffAlocacao  DiffID DiffData\n",
              "10   1 2020-11-03       60.0           40.0           0.0     0.0 368 days\n",
              "21   2 2020-11-03       80.0           20.0           0.0     0.0 368 days\n",
              "32   3 2020-11-03       80.0           20.0           0.0     0.0 368 days\n",
              "53   4 2020-11-03       95.0            5.0           0.0     0.0 368 days\n",
              "71   5 2020-11-03      100.0            0.0           0.0     0.0 368 days"
            ]
          },
          "metadata": {
            "tags": []
          },
          "execution_count": 48
        }
      ]
    },
    {
      "cell_type": "markdown",
      "metadata": {
        "id": "-G0kDldGe4Mh"
      },
      "source": [
        "###Analisando o perfil dos participantes que têm Renda Variavel"
      ]
    },
    {
      "cell_type": "code",
      "metadata": {
        "colab": {
          "base_uri": "https://localhost:8080/",
          "height": 238
        },
        "id": "C6Z_g-n4eBJd",
        "outputId": "8ad87872-07a3-4c8c-db99-eb47436d9255"
      },
      "source": [
        "# Montando tabela de IDs com alocação mais recente em Renda Variável --> ver perfil de participante que tem Renda Variável hoje\n",
        "alocRV = ultimoperfil[perfil.RendaVariavel > 0]\n",
        "alocRV = alocRV.drop(columns=['RendaFixa','DiffAlocacao','DiffData','DiffID'])\n",
        "alocRV.head()"
      ],
      "execution_count": 49,
      "outputs": [
        {
          "output_type": "stream",
          "text": [
            "/usr/local/lib/python3.7/dist-packages/ipykernel_launcher.py:2: UserWarning: Boolean Series key will be reindexed to match DataFrame index.\n",
            "  \n"
          ],
          "name": "stderr"
        },
        {
          "output_type": "execute_result",
          "data": {
            "text/html": [
              "<div>\n",
              "<style scoped>\n",
              "    .dataframe tbody tr th:only-of-type {\n",
              "        vertical-align: middle;\n",
              "    }\n",
              "\n",
              "    .dataframe tbody tr th {\n",
              "        vertical-align: top;\n",
              "    }\n",
              "\n",
              "    .dataframe thead th {\n",
              "        text-align: right;\n",
              "    }\n",
              "</style>\n",
              "<table border=\"1\" class=\"dataframe\">\n",
              "  <thead>\n",
              "    <tr style=\"text-align: right;\">\n",
              "      <th></th>\n",
              "      <th>ID</th>\n",
              "      <th>DtVigencia</th>\n",
              "      <th>RendaVariavel</th>\n",
              "    </tr>\n",
              "  </thead>\n",
              "  <tbody>\n",
              "    <tr>\n",
              "      <th>10</th>\n",
              "      <td>1</td>\n",
              "      <td>2020-11-03</td>\n",
              "      <td>40.0</td>\n",
              "    </tr>\n",
              "    <tr>\n",
              "      <th>21</th>\n",
              "      <td>2</td>\n",
              "      <td>2020-11-03</td>\n",
              "      <td>20.0</td>\n",
              "    </tr>\n",
              "    <tr>\n",
              "      <th>32</th>\n",
              "      <td>3</td>\n",
              "      <td>2020-11-03</td>\n",
              "      <td>20.0</td>\n",
              "    </tr>\n",
              "    <tr>\n",
              "      <th>53</th>\n",
              "      <td>4</td>\n",
              "      <td>2020-11-03</td>\n",
              "      <td>5.0</td>\n",
              "    </tr>\n",
              "    <tr>\n",
              "      <th>93</th>\n",
              "      <td>6</td>\n",
              "      <td>2020-11-03</td>\n",
              "      <td>10.0</td>\n",
              "    </tr>\n",
              "  </tbody>\n",
              "</table>\n",
              "</div>"
            ],
            "text/plain": [
              "    ID DtVigencia  RendaVariavel\n",
              "10   1 2020-11-03           40.0\n",
              "21   2 2020-11-03           20.0\n",
              "32   3 2020-11-03           20.0\n",
              "53   4 2020-11-03            5.0\n",
              "93   6 2020-11-03           10.0"
            ]
          },
          "metadata": {
            "tags": []
          },
          "execution_count": 49
        }
      ]
    },
    {
      "cell_type": "code",
      "metadata": {
        "colab": {
          "base_uri": "https://localhost:8080/"
        },
        "id": "aGOvK-1ZMZHL",
        "outputId": "3056f3cd-6c68-4f87-c994-4351047ff1e7"
      },
      "source": [
        "# Quantidade de dados nessa tabela\n",
        "len(alocRV)"
      ],
      "execution_count": 50,
      "outputs": [
        {
          "output_type": "execute_result",
          "data": {
            "text/plain": [
              "3737"
            ]
          },
          "metadata": {
            "tags": []
          },
          "execution_count": 50
        }
      ]
    },
    {
      "cell_type": "markdown",
      "metadata": {
        "id": "_xONHCMtMayQ"
      },
      "source": [
        "####Analisando as características dos participantes que têm Renda Variavel"
      ]
    },
    {
      "cell_type": "code",
      "metadata": {
        "colab": {
          "base_uri": "https://localhost:8080/",
          "height": 204
        },
        "id": "QQ3-7ewZeNBM",
        "outputId": "8f659874-098b-4f40-93bc-c21055d1ef3e"
      },
      "source": [
        "# Criando uma nova tabela com todos os ID's dos que têm alocação em Renda Variável, juntando com a tabela grupo\n",
        "grupo_alocRV = pd.merge(alocRV, grupo, how='left', on=['ID'])\n",
        "grupo_alocRV = grupo_alocRV.drop(columns=['RendaVariavel','DtVigencia'])\n",
        "grupo_alocRV.head()"
      ],
      "execution_count": 51,
      "outputs": [
        {
          "output_type": "execute_result",
          "data": {
            "text/html": [
              "<div>\n",
              "<style scoped>\n",
              "    .dataframe tbody tr th:only-of-type {\n",
              "        vertical-align: middle;\n",
              "    }\n",
              "\n",
              "    .dataframe tbody tr th {\n",
              "        vertical-align: top;\n",
              "    }\n",
              "\n",
              "    .dataframe thead th {\n",
              "        text-align: right;\n",
              "    }\n",
              "</style>\n",
              "<table border=\"1\" class=\"dataframe\">\n",
              "  <thead>\n",
              "    <tr style=\"text-align: right;\">\n",
              "      <th></th>\n",
              "      <th>ID</th>\n",
              "      <th>DtNascimento</th>\n",
              "      <th>Sexo</th>\n",
              "      <th>Escolaridade</th>\n",
              "      <th>FaixaSalarial</th>\n",
              "      <th>DtIncricaoPlano</th>\n",
              "    </tr>\n",
              "  </thead>\n",
              "  <tbody>\n",
              "    <tr>\n",
              "      <th>0</th>\n",
              "      <td>1</td>\n",
              "      <td>1976-01-30</td>\n",
              "      <td>M</td>\n",
              "      <td>Superior Completo</td>\n",
              "      <td>L2</td>\n",
              "      <td>2012-05-16</td>\n",
              "    </tr>\n",
              "    <tr>\n",
              "      <th>1</th>\n",
              "      <td>2</td>\n",
              "      <td>1978-10-30</td>\n",
              "      <td>M</td>\n",
              "      <td>Superior Completo</td>\n",
              "      <td>L1</td>\n",
              "      <td>2012-02-03</td>\n",
              "    </tr>\n",
              "    <tr>\n",
              "      <th>2</th>\n",
              "      <td>3</td>\n",
              "      <td>1975-11-13</td>\n",
              "      <td>F</td>\n",
              "      <td>Superior Completo</td>\n",
              "      <td>L1</td>\n",
              "      <td>2011-04-12</td>\n",
              "    </tr>\n",
              "    <tr>\n",
              "      <th>3</th>\n",
              "      <td>4</td>\n",
              "      <td>1955-06-02</td>\n",
              "      <td>M</td>\n",
              "      <td>Superior Completo</td>\n",
              "      <td>L1</td>\n",
              "      <td>1984-06-25</td>\n",
              "    </tr>\n",
              "    <tr>\n",
              "      <th>4</th>\n",
              "      <td>6</td>\n",
              "      <td>1956-04-03</td>\n",
              "      <td>M</td>\n",
              "      <td>Superior Completo</td>\n",
              "      <td>L1</td>\n",
              "      <td>1976-05-24</td>\n",
              "    </tr>\n",
              "  </tbody>\n",
              "</table>\n",
              "</div>"
            ],
            "text/plain": [
              "   ID DtNascimento Sexo       Escolaridade FaixaSalarial DtIncricaoPlano\n",
              "0   1   1976-01-30    M  Superior Completo            L2      2012-05-16\n",
              "1   2   1978-10-30    M  Superior Completo            L1      2012-02-03\n",
              "2   3   1975-11-13    F  Superior Completo            L1      2011-04-12\n",
              "3   4   1955-06-02    M  Superior Completo            L1      1984-06-25\n",
              "4   6   1956-04-03    M  Superior Completo            L1      1976-05-24"
            ]
          },
          "metadata": {
            "tags": []
          },
          "execution_count": 51
        }
      ]
    },
    {
      "cell_type": "code",
      "metadata": {
        "colab": {
          "base_uri": "https://localhost:8080/"
        },
        "id": "uEFd5WijljcH",
        "outputId": "323fb220-c369-4bcd-b8cb-b0fa67936caa"
      },
      "source": [
        "# Analisando se existe um grupo de participantes específico que aloca em Renda Variável\n",
        "grupo_alocRV.DtNascimento.describe(datetime_is_numeric=True)\n",
        "# Observa-se que mais da metade dos participantes estão atualmente alocados em Renda Variável (3737 de 6044), sendo um grupo bem diverso"
      ],
      "execution_count": 52,
      "outputs": [
        {
          "output_type": "execute_result",
          "data": {
            "text/plain": [
              "count                             3737\n",
              "mean     1977-06-30 08:32:06.679153792\n",
              "min                1948-12-29 00:00:00\n",
              "25%                1971-07-06 00:00:00\n",
              "50%                1978-10-30 00:00:00\n",
              "75%                1984-03-05 00:00:00\n",
              "max                2001-02-02 00:00:00\n",
              "Name: DtNascimento, dtype: object"
            ]
          },
          "metadata": {
            "tags": []
          },
          "execution_count": 52
        }
      ]
    },
    {
      "cell_type": "code",
      "metadata": {
        "colab": {
          "base_uri": "https://localhost:8080/"
        },
        "id": "48mNgX_r0zxE",
        "outputId": "de6eb595-1d2f-4564-f1d6-a5590712fece"
      },
      "source": [
        "# Considerando que o grupo é bem variado, não há uma expectativa sobre a Data de Inscrição no Plano\n",
        "grupo_alocRV.DtIncricaoPlano.describe(datetime_is_numeric=True)"
      ],
      "execution_count": 53,
      "outputs": [
        {
          "output_type": "execute_result",
          "data": {
            "text/plain": [
              "count                             3737\n",
              "mean     2010-06-28 15:08:14.193206016\n",
              "min                1975-08-01 00:00:00\n",
              "25%                2005-11-22 00:00:00\n",
              "50%                2014-01-24 00:00:00\n",
              "75%                2018-11-06 00:00:00\n",
              "max                2020-09-30 00:00:00\n",
              "Name: DtIncricaoPlano, dtype: object"
            ]
          },
          "metadata": {
            "tags": []
          },
          "execution_count": 53
        }
      ]
    },
    {
      "cell_type": "code",
      "metadata": {
        "colab": {
          "base_uri": "https://localhost:8080/"
        },
        "id": "inrwW7ToaTaC",
        "outputId": "65d4ccbc-17e2-4c26-a4b0-ea5efa6b46ed"
      },
      "source": [
        "# Analisando a distribuição de Escolaridade neste grupo\n",
        "grupo_alocRV['Escolaridade'].value_counts(normalize=True)"
      ],
      "execution_count": 54,
      "outputs": [
        {
          "output_type": "execute_result",
          "data": {
            "text/plain": [
              "Superior Completo      0.628579\n",
              "2o. Grau Completo      0.222638\n",
              "Pos-Graduacao          0.096334\n",
              "Superior Incompleto    0.037463\n",
              "Mestrado               0.006957\n",
              "2o. Grau Incompleto    0.006690\n",
              "1o. Grau Completo      0.001338\n",
              "Name: Escolaridade, dtype: float64"
            ]
          },
          "metadata": {
            "tags": []
          },
          "execution_count": 54
        }
      ]
    },
    {
      "cell_type": "code",
      "metadata": {
        "colab": {
          "base_uri": "https://localhost:8080/"
        },
        "id": "c78VrRcnbone",
        "outputId": "766cb316-ccf5-4234-a4cf-21195b732074"
      },
      "source": [
        "# Analisando a distribuição de Escolaridade no grupo total\n",
        "grupo['Escolaridade'].value_counts(normalize=True)"
      ],
      "execution_count": 55,
      "outputs": [
        {
          "output_type": "execute_result",
          "data": {
            "text/plain": [
              "Superior Completo      0.635341\n",
              "2o. Grau Completo      0.217075\n",
              "Pos-Graduacao          0.095963\n",
              "Superior Incompleto    0.036400\n",
              "Mestrado               0.007280\n",
              "2o. Grau Incompleto    0.006618\n",
              "1o. Grau Completo      0.001324\n",
              "Name: Escolaridade, dtype: float64"
            ]
          },
          "metadata": {
            "tags": []
          },
          "execution_count": 55
        }
      ]
    },
    {
      "cell_type": "code",
      "metadata": {
        "colab": {
          "base_uri": "https://localhost:8080/",
          "height": 297
        },
        "id": "ENxY5iPlnVZc",
        "outputId": "db64ead9-8fa4-4c07-f527-96e88677e979"
      },
      "source": [
        "# Gráfico de Distribuição de Escolaridade \n",
        "# Observa-se que a proporção de \"Superior Completo\" é pouco menor nesse grupo do que no grupo total \n",
        "# e que a proporção de \"2º Grau Completo\" é pouco maior\n",
        "plt.pie(grupo_alocRV.Escolaridade.value_counts());\n",
        "plt.legend(labels=grupo_alocRV['Escolaridade'].value_counts().index.tolist());\n",
        "plt.axis('equal');\n",
        "plt.tight_layout();"
      ],
      "execution_count": 56,
      "outputs": [
        {
          "output_type": "display_data",
          "data": {
            "image/png": "[encoded data removed]",
            "text/plain": [
              "<Figure size 432x288 with 1 Axes>"
            ]
          },
          "metadata": {
            "tags": []
          }
        }
      ]
    },
    {
      "cell_type": "code",
      "metadata": {
        "colab": {
          "base_uri": "https://localhost:8080/"
        },
        "id": "o-9hZl8VywkS",
        "outputId": "55eede2a-87d8-4347-fe53-8cbe25c9687f"
      },
      "source": [
        "# Analisando a distribuição de Sexo neste grupo\n",
        "grupo_alocRV['Sexo'].value_counts(normalize=True)"
      ],
      "execution_count": 57,
      "outputs": [
        {
          "output_type": "execute_result",
          "data": {
            "text/plain": [
              "M    0.759433\n",
              "F    0.240567\n",
              "Name: Sexo, dtype: float64"
            ]
          },
          "metadata": {
            "tags": []
          },
          "execution_count": 57
        }
      ]
    },
    {
      "cell_type": "code",
      "metadata": {
        "colab": {
          "base_uri": "https://localhost:8080/"
        },
        "id": "fm4UQwq9cIEs",
        "outputId": "a8486d06-0fd6-45a0-af46-3df0a5373451"
      },
      "source": [
        "# Analisando a distribuição de Sexo no grupo total\n",
        "grupo['Sexo'].value_counts(normalize=True)"
      ],
      "execution_count": 58,
      "outputs": [
        {
          "output_type": "execute_result",
          "data": {
            "text/plain": [
              "M    0.731635\n",
              "F    0.268365\n",
              "Name: Sexo, dtype: float64"
            ]
          },
          "metadata": {
            "tags": []
          },
          "execution_count": 58
        }
      ]
    },
    {
      "cell_type": "code",
      "metadata": {
        "colab": {
          "base_uri": "https://localhost:8080/",
          "height": 297
        },
        "id": "AI1pH8nenyFe",
        "outputId": "4e34e509-207c-4ef0-8061-b8cc1e807f78"
      },
      "source": [
        "# Gráfico de Distribuição de Sexo\n",
        "# Observa-se que a proporção de homens nesse grupo é pouco maior do que no grupo total\n",
        "plt.pie(grupo_alocRV.Sexo.value_counts());\n",
        "plt.legend(labels=grupo_alocRV['Sexo'].value_counts().index.tolist());\n",
        "plt.axis('equal');\n",
        "plt.tight_layout();"
      ],
      "execution_count": 59,
      "outputs": [
        {
          "output_type": "display_data",
          "data": {
            "image/png": "[encoded data removed]",
            "text/plain": [
              "<Figure size 432x288 with 1 Axes>"
            ]
          },
          "metadata": {
            "tags": []
          }
        }
      ]
    },
    {
      "cell_type": "code",
      "metadata": {
        "colab": {
          "base_uri": "https://localhost:8080/"
        },
        "id": "fbx1rQyYy4AP",
        "outputId": "984158aa-916a-477d-8154-be5520fefcf8"
      },
      "source": [
        "# Analisando a Distribuição de Faixa Salarial neste grupo\n",
        "grupo_alocRV['FaixaSalarial'].value_counts(normalize=True)"
      ],
      "execution_count": 60,
      "outputs": [
        {
          "output_type": "execute_result",
          "data": {
            "text/plain": [
              "L2    0.697083\n",
              "L3    0.220498\n",
              "L1    0.082419\n",
              "Name: FaixaSalarial, dtype: float64"
            ]
          },
          "metadata": {
            "tags": []
          },
          "execution_count": 60
        }
      ]
    },
    {
      "cell_type": "code",
      "metadata": {
        "colab": {
          "base_uri": "https://localhost:8080/"
        },
        "id": "g5ItC6V0cXBQ",
        "outputId": "afb0c3c3-7d49-4752-dd31-99959674faa7"
      },
      "source": [
        "# Analisando a Distribuição de Faixa Salarial no grupo total\n",
        "grupo['FaixaSalarial'].value_counts(normalize=True)"
      ],
      "execution_count": 61,
      "outputs": [
        {
          "output_type": "execute_result",
          "data": {
            "text/plain": [
              "L2    0.704831\n",
              "L3    0.212111\n",
              "L1    0.083058\n",
              "Name: FaixaSalarial, dtype: float64"
            ]
          },
          "metadata": {
            "tags": []
          },
          "execution_count": 61
        }
      ]
    },
    {
      "cell_type": "code",
      "metadata": {
        "colab": {
          "base_uri": "https://localhost:8080/",
          "height": 297
        },
        "id": "piiKm8Son3eS",
        "outputId": "6ba948e4-429d-4b27-f499-1696081d42ba"
      },
      "source": [
        "# Gráfico de Distribuição de Faixa Salarial \n",
        "# Observa-se que a proporção de L2 é pouco menor neste grupo do que no grupo total e de L3 é pouco maior\n",
        "plt.pie(grupo_alocRV.FaixaSalarial.value_counts());\n",
        "plt.legend(labels=grupo_alocRV['FaixaSalarial'].value_counts().index.tolist());\n",
        "plt.axis('equal');\n",
        "plt.tight_layout();"
      ],
      "execution_count": 62,
      "outputs": [
        {
          "output_type": "display_data",
          "data": {
            "image/png": "[encoded data removed]",
            "text/plain": [
              "<Figure size 432x288 with 1 Axes>"
            ]
          },
          "metadata": {
            "tags": []
          }
        }
      ]
    },
    {
      "cell_type": "markdown",
      "metadata": {
        "id": "mW_mX2iQMqQI"
      },
      "source": [
        "####Analisando as características dos dependentes dos participantes que têm Renda Variavel"
      ]
    },
    {
      "cell_type": "code",
      "metadata": {
        "colab": {
          "base_uri": "https://localhost:8080/",
          "height": 204
        },
        "id": "BqblmEgHIb8j",
        "outputId": "4dec2513-6500-41ac-fcd4-13dba7f783df"
      },
      "source": [
        "# Criando uma nova tabela com todos os ID's dos que têm alocações em Renda Variável, juntando com a tabela dependentes\n",
        "dependentes_alocRV = pd.merge(alocRV, dependentes, how='left', on=['ID'])\n",
        "dependentes_alocRV = dependentes_alocRV.drop(columns=['RendaVariavel','DtVigencia'])\n",
        "dependentes_alocRV.head()"
      ],
      "execution_count": 63,
      "outputs": [
        {
          "output_type": "execute_result",
          "data": {
            "text/html": [
              "<div>\n",
              "<style scoped>\n",
              "    .dataframe tbody tr th:only-of-type {\n",
              "        vertical-align: middle;\n",
              "    }\n",
              "\n",
              "    .dataframe tbody tr th {\n",
              "        vertical-align: top;\n",
              "    }\n",
              "\n",
              "    .dataframe thead th {\n",
              "        text-align: right;\n",
              "    }\n",
              "</style>\n",
              "<table border=\"1\" class=\"dataframe\">\n",
              "  <thead>\n",
              "    <tr style=\"text-align: right;\">\n",
              "      <th></th>\n",
              "      <th>ID</th>\n",
              "      <th>Parentesco</th>\n",
              "      <th>DtNascimento</th>\n",
              "    </tr>\n",
              "  </thead>\n",
              "  <tbody>\n",
              "    <tr>\n",
              "      <th>0</th>\n",
              "      <td>1</td>\n",
              "      <td>Pai ou Mae</td>\n",
              "      <td>1945-07-26</td>\n",
              "    </tr>\n",
              "    <tr>\n",
              "      <th>1</th>\n",
              "      <td>1</td>\n",
              "      <td>Companheiro(a)</td>\n",
              "      <td>1980-08-28</td>\n",
              "    </tr>\n",
              "    <tr>\n",
              "      <th>2</th>\n",
              "      <td>2</td>\n",
              "      <td>Conjuge</td>\n",
              "      <td>1975-07-03</td>\n",
              "    </tr>\n",
              "    <tr>\n",
              "      <th>3</th>\n",
              "      <td>2</td>\n",
              "      <td>Filho(a)</td>\n",
              "      <td>2009-07-03</td>\n",
              "    </tr>\n",
              "    <tr>\n",
              "      <th>4</th>\n",
              "      <td>3</td>\n",
              "      <td>NaN</td>\n",
              "      <td>NaT</td>\n",
              "    </tr>\n",
              "  </tbody>\n",
              "</table>\n",
              "</div>"
            ],
            "text/plain": [
              "   ID      Parentesco DtNascimento\n",
              "0   1      Pai ou Mae   1945-07-26\n",
              "1   1  Companheiro(a)   1980-08-28\n",
              "2   2         Conjuge   1975-07-03\n",
              "3   2        Filho(a)   2009-07-03\n",
              "4   3             NaN          NaT"
            ]
          },
          "metadata": {
            "tags": []
          },
          "execution_count": 63
        }
      ]
    },
    {
      "cell_type": "code",
      "metadata": {
        "colab": {
          "base_uri": "https://localhost:8080/"
        },
        "id": "erZReSysYVzg",
        "outputId": "d5a51eb2-d71b-4cf4-df8f-93afa38681d8"
      },
      "source": [
        "# Excluindo valores nulos\n",
        "dependentes_alocRV_clean=dependentes_alocRV.dropna()\n",
        "print(dependentes_alocRV_clean.isnull().any())"
      ],
      "execution_count": 64,
      "outputs": [
        {
          "output_type": "stream",
          "text": [
            "ID              False\n",
            "Parentesco      False\n",
            "DtNascimento    False\n",
            "dtype: bool\n"
          ],
          "name": "stdout"
        }
      ]
    },
    {
      "cell_type": "code",
      "metadata": {
        "colab": {
          "base_uri": "https://localhost:8080/"
        },
        "id": "jEvUj6oMLkXR",
        "outputId": "08adff35-a9eb-44d6-b004-2fec87c997d9"
      },
      "source": [
        "# Verificando se existe um grupo de dependentes em comum entre os participantes\n",
        "# Analisando as datas de nascimento dos dependentes\n",
        "dependentes_alocRV = dependentes_alocRV_clean\n",
        "dependentes_alocRV.DtNascimento.describe(datetime_is_numeric=True)\n",
        "# Observa-se que é um grupo bem diverso"
      ],
      "execution_count": 65,
      "outputs": [
        {
          "output_type": "execute_result",
          "data": {
            "text/plain": [
              "count                            10463\n",
              "mean     1980-09-03 11:31:59.564180416\n",
              "min                1900-01-01 00:00:00\n",
              "25%                1962-03-26 00:00:00\n",
              "50%                1982-04-30 00:00:00\n",
              "75%                1999-12-21 12:00:00\n",
              "max                2020-11-01 00:00:00\n",
              "Name: DtNascimento, dtype: object"
            ]
          },
          "metadata": {
            "tags": []
          },
          "execution_count": 65
        }
      ]
    },
    {
      "cell_type": "code",
      "metadata": {
        "colab": {
          "base_uri": "https://localhost:8080/"
        },
        "id": "e3q6xyNtMzm5",
        "outputId": "2b7828e0-e493-4e97-98d7-150c3e2e586d"
      },
      "source": [
        "# Analisando a distribuição de Parentesco neste grupo\n",
        "dependentes_alocRV['Parentesco'].value_counts(normalize=True)"
      ],
      "execution_count": 66,
      "outputs": [
        {
          "output_type": "execute_result",
          "data": {
            "text/plain": [
              "Filho(a)             0.365383\n",
              "Pai ou Mae           0.253369\n",
              "Conjuge              0.214566\n",
              "Irmao ou Irma        0.100545\n",
              "Designado            0.034598\n",
              "Companheiro(a)       0.024563\n",
              "Enteado(a)           0.003823\n",
              "Ex-Conjuge           0.001434\n",
              "Sogro(a)             0.000956\n",
              "Ex-Companheiro(a)    0.000478\n",
              "Menor sob Guarda     0.000287\n",
              "Name: Parentesco, dtype: float64"
            ]
          },
          "metadata": {
            "tags": []
          },
          "execution_count": 66
        }
      ]
    },
    {
      "cell_type": "code",
      "metadata": {
        "colab": {
          "base_uri": "https://localhost:8080/"
        },
        "id": "h6aCg0pNNVN6",
        "outputId": "82299ba8-be6e-4386-9a5a-0a8bf1f4011c"
      },
      "source": [
        "# Analisando a distribuição de Parentesco no grupo total\n",
        "dependentes['Parentesco'].value_counts(normalize=True)"
      ],
      "execution_count": 67,
      "outputs": [
        {
          "output_type": "execute_result",
          "data": {
            "text/plain": [
              "Filho(a)             0.363071\n",
              "Pai ou Mae           0.250572\n",
              "Conjuge              0.213913\n",
              "Irmao ou Irma        0.102469\n",
              "Designado            0.036952\n",
              "Companheiro(a)       0.025691\n",
              "Enteado(a)           0.003930\n",
              "Ex-Conjuge           0.001408\n",
              "Sogro(a)             0.001232\n",
              "Menor sob Guarda     0.000411\n",
              "Ex-Companheiro(a)    0.000352\n",
              "Name: Parentesco, dtype: float64"
            ]
          },
          "metadata": {
            "tags": []
          },
          "execution_count": 67
        }
      ]
    },
    {
      "cell_type": "code",
      "metadata": {
        "colab": {
          "base_uri": "https://localhost:8080/",
          "height": 297
        },
        "id": "T8CAAIL1NdN4",
        "outputId": "6be613ae-de12-49f3-aa5d-41b57e429eec"
      },
      "source": [
        "# Gráfico de Distribuição de Parentesco \n",
        "# Observa-se que a distribuição é bem similar a do grupo total\n",
        "plt.pie(dependentes_alocRV.Parentesco.value_counts());\n",
        "plt.legend(labels=dependentes_alocRV['Parentesco'].value_counts().index.tolist());\n",
        "plt.axis('equal');\n",
        "plt.tight_layout();"
      ],
      "execution_count": 68,
      "outputs": [
        {
          "output_type": "display_data",
          "data": {
            "image/png": "[encoded data removed]",
            "text/plain": [
              "<Figure size 432x288 with 1 Axes>"
            ]
          },
          "metadata": {
            "tags": []
          }
        }
      ]
    },
    {
      "cell_type": "markdown",
      "metadata": {
        "id": "5a6aWrHhcU_6"
      },
      "source": [
        "####Analisando as características das Contribuições dos participantes que têm Renda Variavel"
      ]
    },
    {
      "cell_type": "code",
      "metadata": {
        "colab": {
          "base_uri": "https://localhost:8080/",
          "height": 359
        },
        "id": "UOc7Nap_COcz",
        "outputId": "6ed5405e-e647-4911-fee6-122477da6ba2"
      },
      "source": [
        "# Criando tabela com IDs e  maior DtVigencia da Contribuicao\n",
        "# Agrupando dados com mesmo ID\n",
        "IDcontribuicao = contribuicao.groupby([\"ID\"])\n",
        "ultimacontribuicao = IDcontribuicao['DtVigencia'].max()\n",
        "ultimacontribuicao = ultimacontribuicao.reset_index()\n",
        "ultimacontribuicao.head(10)"
      ],
      "execution_count": 69,
      "outputs": [
        {
          "output_type": "execute_result",
          "data": {
            "text/html": [
              "<div>\n",
              "<style scoped>\n",
              "    .dataframe tbody tr th:only-of-type {\n",
              "        vertical-align: middle;\n",
              "    }\n",
              "\n",
              "    .dataframe tbody tr th {\n",
              "        vertical-align: top;\n",
              "    }\n",
              "\n",
              "    .dataframe thead th {\n",
              "        text-align: right;\n",
              "    }\n",
              "</style>\n",
              "<table border=\"1\" class=\"dataframe\">\n",
              "  <thead>\n",
              "    <tr style=\"text-align: right;\">\n",
              "      <th></th>\n",
              "      <th>ID</th>\n",
              "      <th>DtVigencia</th>\n",
              "    </tr>\n",
              "  </thead>\n",
              "  <tbody>\n",
              "    <tr>\n",
              "      <th>0</th>\n",
              "      <td>1</td>\n",
              "      <td>2012-05-16</td>\n",
              "    </tr>\n",
              "    <tr>\n",
              "      <th>1</th>\n",
              "      <td>2</td>\n",
              "      <td>2012-02-03</td>\n",
              "    </tr>\n",
              "    <tr>\n",
              "      <th>2</th>\n",
              "      <td>3</td>\n",
              "      <td>2011-04-12</td>\n",
              "    </tr>\n",
              "    <tr>\n",
              "      <th>3</th>\n",
              "      <td>4</td>\n",
              "      <td>2012-05-21</td>\n",
              "    </tr>\n",
              "    <tr>\n",
              "      <th>4</th>\n",
              "      <td>5</td>\n",
              "      <td>2006-03-07</td>\n",
              "    </tr>\n",
              "    <tr>\n",
              "      <th>5</th>\n",
              "      <td>6</td>\n",
              "      <td>2010-01-01</td>\n",
              "    </tr>\n",
              "    <tr>\n",
              "      <th>6</th>\n",
              "      <td>7</td>\n",
              "      <td>1999-01-01</td>\n",
              "    </tr>\n",
              "    <tr>\n",
              "      <th>7</th>\n",
              "      <td>8</td>\n",
              "      <td>2015-05-01</td>\n",
              "    </tr>\n",
              "    <tr>\n",
              "      <th>8</th>\n",
              "      <td>9</td>\n",
              "      <td>2012-01-01</td>\n",
              "    </tr>\n",
              "    <tr>\n",
              "      <th>9</th>\n",
              "      <td>10</td>\n",
              "      <td>1999-01-01</td>\n",
              "    </tr>\n",
              "  </tbody>\n",
              "</table>\n",
              "</div>"
            ],
            "text/plain": [
              "   ID DtVigencia\n",
              "0   1 2012-05-16\n",
              "1   2 2012-02-03\n",
              "2   3 2011-04-12\n",
              "3   4 2012-05-21\n",
              "4   5 2006-03-07\n",
              "5   6 2010-01-01\n",
              "6   7 1999-01-01\n",
              "7   8 2015-05-01\n",
              "8   9 2012-01-01\n",
              "9  10 1999-01-01"
            ]
          },
          "metadata": {
            "tags": []
          },
          "execution_count": 69
        }
      ]
    },
    {
      "cell_type": "code",
      "metadata": {
        "id": "uxL5K_6hImi6"
      },
      "source": [
        "# Inserindo a coluna Contribuicao de volta na tabela\n",
        "contribuicao_ult = pd.merge(ultimacontribuicao, contribuicao, how='left', on=['ID','DtVigencia'])"
      ],
      "execution_count": 70,
      "outputs": []
    },
    {
      "cell_type": "code",
      "metadata": {
        "colab": {
          "base_uri": "https://localhost:8080/"
        },
        "id": "XE3vRY4DJ6id",
        "outputId": "1a96d551-66bd-4302-9d43-714c4cf2fd31"
      },
      "source": [
        "print(contribuicao_ult.isnull().any())"
      ],
      "execution_count": 71,
      "outputs": [
        {
          "output_type": "stream",
          "text": [
            "ID              False\n",
            "DtVigencia      False\n",
            "Contribuicao    False\n",
            "dtype: bool\n"
          ],
          "name": "stdout"
        }
      ]
    },
    {
      "cell_type": "code",
      "metadata": {
        "colab": {
          "base_uri": "https://localhost:8080/"
        },
        "id": "8y5Mo6GVbAAc",
        "outputId": "16265377-8bec-4c90-a01b-2f6d817e4375"
      },
      "source": [
        "print(alocRV.isnull().any())"
      ],
      "execution_count": 72,
      "outputs": [
        {
          "output_type": "stream",
          "text": [
            "ID               False\n",
            "DtVigencia       False\n",
            "RendaVariavel    False\n",
            "dtype: bool\n"
          ],
          "name": "stdout"
        }
      ]
    },
    {
      "cell_type": "code",
      "metadata": {
        "colab": {
          "base_uri": "https://localhost:8080/",
          "height": 204
        },
        "id": "gm3pgFaocd9J",
        "outputId": "199cc578-a2df-46fc-a4d3-93a7534d5f39"
      },
      "source": [
        "# Criando uma nova tabela com todos os ID's dos que têm alocações em Renda Variável, juntando com a tabela dependentes\n",
        "contribuicao_alocRV = pd.merge(alocRV, contribuicao_ult, how='inner', on=['ID'])\n",
        "contribuicao_alocRV = contribuicao_alocRV.drop(columns=['RendaVariavel','DtVigencia_y'])\n",
        "contribuicao_alocRV = contribuicao_alocRV.rename(columns={\"DtVigencia_x\": \"DtVigencia\"})\n",
        "contribuicao_alocRV.head()"
      ],
      "execution_count": 73,
      "outputs": [
        {
          "output_type": "execute_result",
          "data": {
            "text/html": [
              "<div>\n",
              "<style scoped>\n",
              "    .dataframe tbody tr th:only-of-type {\n",
              "        vertical-align: middle;\n",
              "    }\n",
              "\n",
              "    .dataframe tbody tr th {\n",
              "        vertical-align: top;\n",
              "    }\n",
              "\n",
              "    .dataframe thead th {\n",
              "        text-align: right;\n",
              "    }\n",
              "</style>\n",
              "<table border=\"1\" class=\"dataframe\">\n",
              "  <thead>\n",
              "    <tr style=\"text-align: right;\">\n",
              "      <th></th>\n",
              "      <th>ID</th>\n",
              "      <th>DtVigencia</th>\n",
              "      <th>Contribuicao</th>\n",
              "    </tr>\n",
              "  </thead>\n",
              "  <tbody>\n",
              "    <tr>\n",
              "      <th>0</th>\n",
              "      <td>1</td>\n",
              "      <td>2020-11-03</td>\n",
              "      <td>4.0</td>\n",
              "    </tr>\n",
              "    <tr>\n",
              "      <th>1</th>\n",
              "      <td>2</td>\n",
              "      <td>2020-11-03</td>\n",
              "      <td>8.0</td>\n",
              "    </tr>\n",
              "    <tr>\n",
              "      <th>2</th>\n",
              "      <td>3</td>\n",
              "      <td>2020-11-03</td>\n",
              "      <td>5.0</td>\n",
              "    </tr>\n",
              "    <tr>\n",
              "      <th>3</th>\n",
              "      <td>4</td>\n",
              "      <td>2020-11-03</td>\n",
              "      <td>62.0</td>\n",
              "    </tr>\n",
              "    <tr>\n",
              "      <th>4</th>\n",
              "      <td>6</td>\n",
              "      <td>2020-11-03</td>\n",
              "      <td>15.0</td>\n",
              "    </tr>\n",
              "  </tbody>\n",
              "</table>\n",
              "</div>"
            ],
            "text/plain": [
              "   ID DtVigencia  Contribuicao\n",
              "0   1 2020-11-03           4.0\n",
              "1   2 2020-11-03           8.0\n",
              "2   3 2020-11-03           5.0\n",
              "3   4 2020-11-03          62.0\n",
              "4   6 2020-11-03          15.0"
            ]
          },
          "metadata": {
            "tags": []
          },
          "execution_count": 73
        }
      ]
    },
    {
      "cell_type": "code",
      "metadata": {
        "colab": {
          "base_uri": "https://localhost:8080/"
        },
        "id": "O2yJAyJXHprz",
        "outputId": "91d4d3f8-f420-4844-e52d-2767cf3d852d"
      },
      "source": [
        "print(contribuicao_alocRV.isnull().any())"
      ],
      "execution_count": 74,
      "outputs": [
        {
          "output_type": "stream",
          "text": [
            "ID              False\n",
            "DtVigencia      False\n",
            "Contribuicao    False\n",
            "dtype: bool\n"
          ],
          "name": "stdout"
        }
      ]
    },
    {
      "cell_type": "code",
      "metadata": {
        "colab": {
          "base_uri": "https://localhost:8080/"
        },
        "id": "srtZcNzNgeBS",
        "outputId": "de007d5a-1e4a-4979-844d-2ed041ebd059"
      },
      "source": [
        "# Verificando se é um grupo de participantes com uma característica específica de contribuições\n",
        "contribuicao_alocRV.Contribuicao.describe()\n",
        "# Observa-se que é um grupo bem diverso e similar ao grupo total"
      ],
      "execution_count": 75,
      "outputs": [
        {
          "output_type": "execute_result",
          "data": {
            "text/plain": [
              "count    3720.000000\n",
              "mean        6.734140\n",
              "std         3.314235\n",
              "min         1.000000\n",
              "25%         4.000000\n",
              "50%         7.000000\n",
              "75%         8.000000\n",
              "max        62.000000\n",
              "Name: Contribuicao, dtype: float64"
            ]
          },
          "metadata": {
            "tags": []
          },
          "execution_count": 75
        }
      ]
    },
    {
      "cell_type": "code",
      "metadata": {
        "colab": {
          "base_uri": "https://localhost:8080/"
        },
        "id": "LnDn7w4baLJ7",
        "outputId": "1ee486d0-d260-4b3c-ce75-78eb19f5a3f0"
      },
      "source": [
        "# Verificando a moda desta distribuição\n",
        "contribuicao_alocRV.Contribuicao.mode()"
      ],
      "execution_count": 76,
      "outputs": [
        {
          "output_type": "execute_result",
          "data": {
            "text/plain": [
              "0    8.0\n",
              "dtype: float64"
            ]
          },
          "metadata": {
            "tags": []
          },
          "execution_count": 76
        }
      ]
    },
    {
      "cell_type": "code",
      "metadata": {
        "colab": {
          "base_uri": "https://localhost:8080/"
        },
        "id": "c22Na8dHgFeI",
        "outputId": "92fe7633-0386-4001-c487-05dced8af369"
      },
      "source": [
        "# Verificando a distribuição da Contribuição do grupo total\n",
        "contribuicao.Contribuicao.describe()"
      ],
      "execution_count": 77,
      "outputs": [
        {
          "output_type": "execute_result",
          "data": {
            "text/plain": [
              "count    11415.000000\n",
              "mean         6.899956\n",
              "std          3.568717\n",
              "min          1.000000\n",
              "25%          4.000000\n",
              "50%          7.000000\n",
              "75%          8.000000\n",
              "max         62.000000\n",
              "Name: Contribuicao, dtype: float64"
            ]
          },
          "metadata": {
            "tags": []
          },
          "execution_count": 77
        }
      ]
    },
    {
      "cell_type": "code",
      "metadata": {
        "colab": {
          "base_uri": "https://localhost:8080/"
        },
        "id": "QLbSczVcaSNx",
        "outputId": "4b55c576-34fb-4df7-9e96-c3b6ab52f52e"
      },
      "source": [
        "# Verificando a moda desta distribuição\n",
        "contribuicao.Contribuicao.mode()"
      ],
      "execution_count": 78,
      "outputs": [
        {
          "output_type": "execute_result",
          "data": {
            "text/plain": [
              "0    8.0\n",
              "dtype: float64"
            ]
          },
          "metadata": {
            "tags": []
          },
          "execution_count": 78
        }
      ]
    },
    {
      "cell_type": "code",
      "metadata": {
        "colab": {
          "base_uri": "https://localhost:8080/",
          "height": 265
        },
        "id": "IqvVORdocpJ6",
        "outputId": "ef7237ee-156d-439e-e5eb-5831f7319e15"
      },
      "source": [
        "# Gráfico de Distribuição das Contribuições\n",
        "plt.hist(contribuicao_alocRV['Contribuicao'], bins=30, label='Contribuicao', density=True)\n",
        "plt.legend();\n",
        "# Observa-se um comportamento muito próximo ao do grupo total"
      ],
      "execution_count": 79,
      "outputs": [
        {
          "output_type": "display_data",
          "data": {
            "image/png": "[encoded data removed]",
            "text/plain": [
              "<Figure size 432x288 with 1 Axes>"
            ]
          },
          "metadata": {
            "tags": [],
            "needs_background": "light"
          }
        }
      ]
    },
    {
      "cell_type": "markdown",
      "metadata": {
        "id": "xObLn0wM1A2o"
      },
      "source": [
        "###Analisando o perfil dos 25% dos participantes que mais têm Renda Variável"
      ]
    },
    {
      "cell_type": "code",
      "metadata": {
        "colab": {
          "base_uri": "https://localhost:8080/"
        },
        "id": "9ZO8j67F1SjT",
        "outputId": "fa361ef6-76b4-4128-d34b-5b9b4a349b83"
      },
      "source": [
        "# Na tabela perfil, observa-se que 25% dos participantes têm entre 30% e 60% de alocação em Renda Variável\n",
        "ultimoperfil.RendaVariavel.describe()"
      ],
      "execution_count": 80,
      "outputs": [
        {
          "output_type": "execute_result",
          "data": {
            "text/plain": [
              "count    6042.000000\n",
              "mean       18.587223\n",
              "std        21.075119\n",
              "min         0.000000\n",
              "25%         0.000000\n",
              "50%        10.000000\n",
              "75%        30.000000\n",
              "max        60.000000\n",
              "Name: RendaVariavel, dtype: float64"
            ]
          },
          "metadata": {
            "tags": []
          },
          "execution_count": 80
        }
      ]
    },
    {
      "cell_type": "code",
      "metadata": {
        "colab": {
          "base_uri": "https://localhost:8080/",
          "height": 204
        },
        "id": "JW-mLFs607mk",
        "outputId": "08b474fc-4ff1-482f-e54e-591ba80fedbd"
      },
      "source": [
        "# Montando tabela de IDs com alocação de pelo menos 30% em Renda Variável\n",
        "maioresRV = ultimoperfil[ultimoperfil.RendaVariavel >= 30]\n",
        "maioresRV = maioresRV.drop(columns=['RendaFixa','DiffAlocacao','DiffData','DiffID'])\n",
        "maioresRV.head()"
      ],
      "execution_count": 81,
      "outputs": [
        {
          "output_type": "execute_result",
          "data": {
            "text/html": [
              "<div>\n",
              "<style scoped>\n",
              "    .dataframe tbody tr th:only-of-type {\n",
              "        vertical-align: middle;\n",
              "    }\n",
              "\n",
              "    .dataframe tbody tr th {\n",
              "        vertical-align: top;\n",
              "    }\n",
              "\n",
              "    .dataframe thead th {\n",
              "        text-align: right;\n",
              "    }\n",
              "</style>\n",
              "<table border=\"1\" class=\"dataframe\">\n",
              "  <thead>\n",
              "    <tr style=\"text-align: right;\">\n",
              "      <th></th>\n",
              "      <th>ID</th>\n",
              "      <th>DtVigencia</th>\n",
              "      <th>RendaVariavel</th>\n",
              "    </tr>\n",
              "  </thead>\n",
              "  <tbody>\n",
              "    <tr>\n",
              "      <th>10</th>\n",
              "      <td>1</td>\n",
              "      <td>2020-11-03</td>\n",
              "      <td>40.0</td>\n",
              "    </tr>\n",
              "    <tr>\n",
              "      <th>784</th>\n",
              "      <td>41</td>\n",
              "      <td>2020-11-03</td>\n",
              "      <td>50.0</td>\n",
              "    </tr>\n",
              "    <tr>\n",
              "      <th>927</th>\n",
              "      <td>54</td>\n",
              "      <td>2020-11-03</td>\n",
              "      <td>60.0</td>\n",
              "    </tr>\n",
              "    <tr>\n",
              "      <th>1552</th>\n",
              "      <td>88</td>\n",
              "      <td>2020-11-03</td>\n",
              "      <td>30.0</td>\n",
              "    </tr>\n",
              "    <tr>\n",
              "      <th>1598</th>\n",
              "      <td>92</td>\n",
              "      <td>2020-11-03</td>\n",
              "      <td>50.0</td>\n",
              "    </tr>\n",
              "  </tbody>\n",
              "</table>\n",
              "</div>"
            ],
            "text/plain": [
              "      ID DtVigencia  RendaVariavel\n",
              "10     1 2020-11-03           40.0\n",
              "784   41 2020-11-03           50.0\n",
              "927   54 2020-11-03           60.0\n",
              "1552  88 2020-11-03           30.0\n",
              "1598  92 2020-11-03           50.0"
            ]
          },
          "metadata": {
            "tags": []
          },
          "execution_count": 81
        }
      ]
    },
    {
      "cell_type": "markdown",
      "metadata": {
        "id": "fxP-pjgGN1sQ"
      },
      "source": [
        "####Analisando as características dos participantes que mais têm Renda Variável"
      ]
    },
    {
      "cell_type": "code",
      "metadata": {
        "colab": {
          "base_uri": "https://localhost:8080/",
          "height": 204
        },
        "id": "6wN7SPxw1ind",
        "outputId": "b8489584-a732-4f8a-abcf-6b5b7711aebc"
      },
      "source": [
        "# Criando uma nova tabela com todos os ID's e características dos que têm maiores alocações em Renda Variável\n",
        "grupo_maioresRV = pd.merge(maioresRV, grupo, how='left', on=['ID'])\n",
        "grupo_maioresRV.head()"
      ],
      "execution_count": 82,
      "outputs": [
        {
          "output_type": "execute_result",
          "data": {
            "text/html": [
              "<div>\n",
              "<style scoped>\n",
              "    .dataframe tbody tr th:only-of-type {\n",
              "        vertical-align: middle;\n",
              "    }\n",
              "\n",
              "    .dataframe tbody tr th {\n",
              "        vertical-align: top;\n",
              "    }\n",
              "\n",
              "    .dataframe thead th {\n",
              "        text-align: right;\n",
              "    }\n",
              "</style>\n",
              "<table border=\"1\" class=\"dataframe\">\n",
              "  <thead>\n",
              "    <tr style=\"text-align: right;\">\n",
              "      <th></th>\n",
              "      <th>ID</th>\n",
              "      <th>DtVigencia</th>\n",
              "      <th>RendaVariavel</th>\n",
              "      <th>DtNascimento</th>\n",
              "      <th>Sexo</th>\n",
              "      <th>Escolaridade</th>\n",
              "      <th>FaixaSalarial</th>\n",
              "      <th>DtIncricaoPlano</th>\n",
              "    </tr>\n",
              "  </thead>\n",
              "  <tbody>\n",
              "    <tr>\n",
              "      <th>0</th>\n",
              "      <td>1</td>\n",
              "      <td>2020-11-03</td>\n",
              "      <td>40.0</td>\n",
              "      <td>1976-01-30</td>\n",
              "      <td>M</td>\n",
              "      <td>Superior Completo</td>\n",
              "      <td>L2</td>\n",
              "      <td>2012-05-16</td>\n",
              "    </tr>\n",
              "    <tr>\n",
              "      <th>1</th>\n",
              "      <td>41</td>\n",
              "      <td>2020-11-03</td>\n",
              "      <td>50.0</td>\n",
              "      <td>1980-09-15</td>\n",
              "      <td>F</td>\n",
              "      <td>2o. Grau Completo</td>\n",
              "      <td>L1</td>\n",
              "      <td>2017-04-18</td>\n",
              "    </tr>\n",
              "    <tr>\n",
              "      <th>2</th>\n",
              "      <td>54</td>\n",
              "      <td>2020-11-03</td>\n",
              "      <td>60.0</td>\n",
              "      <td>1980-03-05</td>\n",
              "      <td>F</td>\n",
              "      <td>Superior Completo</td>\n",
              "      <td>L1</td>\n",
              "      <td>2019-03-14</td>\n",
              "    </tr>\n",
              "    <tr>\n",
              "      <th>3</th>\n",
              "      <td>88</td>\n",
              "      <td>2020-11-03</td>\n",
              "      <td>30.0</td>\n",
              "      <td>1976-11-23</td>\n",
              "      <td>M</td>\n",
              "      <td>2o. Grau Completo</td>\n",
              "      <td>L2</td>\n",
              "      <td>2019-05-31</td>\n",
              "    </tr>\n",
              "    <tr>\n",
              "      <th>4</th>\n",
              "      <td>92</td>\n",
              "      <td>2020-11-03</td>\n",
              "      <td>50.0</td>\n",
              "      <td>1985-12-06</td>\n",
              "      <td>M</td>\n",
              "      <td>Superior Completo</td>\n",
              "      <td>L2</td>\n",
              "      <td>2019-01-02</td>\n",
              "    </tr>\n",
              "  </tbody>\n",
              "</table>\n",
              "</div>"
            ],
            "text/plain": [
              "   ID DtVigencia  ...  FaixaSalarial DtIncricaoPlano\n",
              "0   1 2020-11-03  ...             L2      2012-05-16\n",
              "1  41 2020-11-03  ...             L1      2017-04-18\n",
              "2  54 2020-11-03  ...             L1      2019-03-14\n",
              "3  88 2020-11-03  ...             L2      2019-05-31\n",
              "4  92 2020-11-03  ...             L2      2019-01-02\n",
              "\n",
              "[5 rows x 8 columns]"
            ]
          },
          "metadata": {
            "tags": []
          },
          "execution_count": 82
        }
      ]
    },
    {
      "cell_type": "code",
      "metadata": {
        "colab": {
          "base_uri": "https://localhost:8080/"
        },
        "id": "-geWCgRl1ikt",
        "outputId": "d9fa3b79-9a6d-427a-d19e-56a8526abb28"
      },
      "source": [
        "# É esperado que a idade máxima seja <55 anos,\n",
        "# pois existe uma regra do plano que participantes elegíveis (maiores de 55 anos) só podem alocar até 20% em RV\n",
        "grupo_maioresRV.DtNascimento.describe(datetime_is_numeric=True)"
      ],
      "execution_count": 83,
      "outputs": [
        {
          "output_type": "execute_result",
          "data": {
            "text/plain": [
              "count                             1774\n",
              "mean     1981-10-06 09:58:14.475761024\n",
              "min                1970-11-07 00:00:00\n",
              "25%                1977-08-04 06:00:00\n",
              "50%                1981-06-15 12:00:00\n",
              "75%                1986-01-05 06:00:00\n",
              "max                2001-02-02 00:00:00\n",
              "Name: DtNascimento, dtype: object"
            ]
          },
          "metadata": {
            "tags": []
          },
          "execution_count": 83
        }
      ]
    },
    {
      "cell_type": "code",
      "metadata": {
        "colab": {
          "base_uri": "https://localhost:8080/"
        },
        "id": "XbogrtEM1ijR",
        "outputId": "ed577e4e-f27e-455b-eebd-7ea310041db7"
      },
      "source": [
        "# Considerando que a idade máxima é 50 anos, espera-se que as Datas de Inscrição sejam no mínimo 1990\n",
        "grupo_maioresRV.DtIncricaoPlano.describe(datetime_is_numeric=True)"
      ],
      "execution_count": 84,
      "outputs": [
        {
          "output_type": "execute_result",
          "data": {
            "text/plain": [
              "count                             1774\n",
              "mean     2014-07-23 18:22:19.346110208\n",
              "min                1993-11-24 00:00:00\n",
              "25%                2011-03-30 06:00:00\n",
              "50%                2016-11-24 00:00:00\n",
              "75%                2019-03-27 18:00:00\n",
              "max                2020-09-30 00:00:00\n",
              "Name: DtIncricaoPlano, dtype: object"
            ]
          },
          "metadata": {
            "tags": []
          },
          "execution_count": 84
        }
      ]
    },
    {
      "cell_type": "code",
      "metadata": {
        "colab": {
          "base_uri": "https://localhost:8080/"
        },
        "id": "IfroRGUL1ifE",
        "outputId": "3db48109-166e-4ce3-e71c-4f93497fdf58"
      },
      "source": [
        "# Analisando a distribuição de Escolaridade neste grupo\n",
        "grupo_maioresRV['Escolaridade'].value_counts(normalize=True)"
      ],
      "execution_count": 85,
      "outputs": [
        {
          "output_type": "execute_result",
          "data": {
            "text/plain": [
              "Superior Completo      0.605411\n",
              "2o. Grau Completo      0.250282\n",
              "Pos-Graduacao          0.080045\n",
              "Superior Incompleto    0.049042\n",
              "2o. Grau Incompleto    0.008455\n",
              "Mestrado               0.006201\n",
              "1o. Grau Completo      0.000564\n",
              "Name: Escolaridade, dtype: float64"
            ]
          },
          "metadata": {
            "tags": []
          },
          "execution_count": 85
        }
      ]
    },
    {
      "cell_type": "code",
      "metadata": {
        "colab": {
          "base_uri": "https://localhost:8080/"
        },
        "id": "ncYu5jMp1icK",
        "outputId": "0e0d4cc6-7f7a-42ad-c669-a0bc356a5ea4"
      },
      "source": [
        "# Analisando a distribuição de Escolaridade no grupo total\n",
        "grupo['Escolaridade'].value_counts(normalize=True)"
      ],
      "execution_count": 86,
      "outputs": [
        {
          "output_type": "execute_result",
          "data": {
            "text/plain": [
              "Superior Completo      0.635341\n",
              "2o. Grau Completo      0.217075\n",
              "Pos-Graduacao          0.095963\n",
              "Superior Incompleto    0.036400\n",
              "Mestrado               0.007280\n",
              "2o. Grau Incompleto    0.006618\n",
              "1o. Grau Completo      0.001324\n",
              "Name: Escolaridade, dtype: float64"
            ]
          },
          "metadata": {
            "tags": []
          },
          "execution_count": 86
        }
      ]
    },
    {
      "cell_type": "code",
      "metadata": {
        "colab": {
          "base_uri": "https://localhost:8080/",
          "height": 297
        },
        "id": "h35bJXaT1xlY",
        "outputId": "99e0895f-a86a-42e0-ea3c-1ea129ad4982"
      },
      "source": [
        "# Gráfico de Distribuição de Escolaridade \n",
        "# Observa-se que a proporção de \"Superior Completo\" é menor nesse grupo do que no grupo total e que a proporção de \"2º Grau Completo\" é maior\n",
        "plt.pie(grupo_maioresRV.Escolaridade.value_counts());\n",
        "plt.legend(labels=grupo_maioresRV['Escolaridade'].value_counts().index.tolist());\n",
        "plt.axis('equal');\n",
        "plt.tight_layout();"
      ],
      "execution_count": 87,
      "outputs": [
        {
          "output_type": "display_data",
          "data": {
            "image/png": "[encoded data removed]",
            "text/plain": [
              "<Figure size 432x288 with 1 Axes>"
            ]
          },
          "metadata": {
            "tags": []
          }
        }
      ]
    },
    {
      "cell_type": "code",
      "metadata": {
        "colab": {
          "base_uri": "https://localhost:8080/"
        },
        "id": "rVUJcFbU1xg8",
        "outputId": "0567ae4a-bade-4fac-b55e-21775c758be7"
      },
      "source": [
        "# Analisando a distribuição de Sexo neste grupo\n",
        "grupo_maioresRV['Sexo'].value_counts(normalize=True)"
      ],
      "execution_count": 88,
      "outputs": [
        {
          "output_type": "execute_result",
          "data": {
            "text/plain": [
              "M    0.782413\n",
              "F    0.217587\n",
              "Name: Sexo, dtype: float64"
            ]
          },
          "metadata": {
            "tags": []
          },
          "execution_count": 88
        }
      ]
    },
    {
      "cell_type": "code",
      "metadata": {
        "colab": {
          "base_uri": "https://localhost:8080/"
        },
        "id": "GcXPMuUt1xeR",
        "outputId": "3ccc01d8-00e9-418a-ef3e-d45bb6da9231"
      },
      "source": [
        "# Analisando a distribuição de Sexo no grupo total\n",
        "grupo['Sexo'].value_counts(normalize=True)"
      ],
      "execution_count": 89,
      "outputs": [
        {
          "output_type": "execute_result",
          "data": {
            "text/plain": [
              "M    0.731635\n",
              "F    0.268365\n",
              "Name: Sexo, dtype: float64"
            ]
          },
          "metadata": {
            "tags": []
          },
          "execution_count": 89
        }
      ]
    },
    {
      "cell_type": "code",
      "metadata": {
        "colab": {
          "base_uri": "https://localhost:8080/",
          "height": 297
        },
        "id": "9358CQkL1xbo",
        "outputId": "35134890-1d0b-4221-d3f8-53e406de1673"
      },
      "source": [
        "# Gráfico de Distribuição de Sexo\n",
        "# Observa-se que a proporção de homens nesse grupo é maior do que no grupo total\n",
        "plt.pie(grupo_maioresRV.Sexo.value_counts());\n",
        "plt.legend(labels=grupo_maioresRV['Sexo'].value_counts().index.tolist());\n",
        "plt.axis('equal');\n",
        "plt.tight_layout();"
      ],
      "execution_count": 90,
      "outputs": [
        {
          "output_type": "display_data",
          "data": {
            "image/png": "[encoded data removed]",
            "text/plain": [
              "<Figure size 432x288 with 1 Axes>"
            ]
          },
          "metadata": {
            "tags": []
          }
        }
      ]
    },
    {
      "cell_type": "code",
      "metadata": {
        "colab": {
          "base_uri": "https://localhost:8080/"
        },
        "id": "XvU2nu1T1xYs",
        "outputId": "b138ed1a-0987-4c57-cbf7-df814476006e"
      },
      "source": [
        "# Analisando a Distribuição de Faixa Salarial neste grupo\n",
        "grupo_maioresRV['FaixaSalarial'].value_counts(normalize=True)"
      ],
      "execution_count": 91,
      "outputs": [
        {
          "output_type": "execute_result",
          "data": {
            "text/plain": [
              "L2    0.749718\n",
              "L3    0.153326\n",
              "L1    0.096956\n",
              "Name: FaixaSalarial, dtype: float64"
            ]
          },
          "metadata": {
            "tags": []
          },
          "execution_count": 91
        }
      ]
    },
    {
      "cell_type": "code",
      "metadata": {
        "colab": {
          "base_uri": "https://localhost:8080/"
        },
        "id": "1Eo1sVah1iY5",
        "outputId": "80144ca7-0cd8-46df-be41-b97426d140bf"
      },
      "source": [
        "# Analisando a Distribuição de Faixa Salarial no grupo total\n",
        "grupo['FaixaSalarial'].value_counts(normalize=True)"
      ],
      "execution_count": 92,
      "outputs": [
        {
          "output_type": "execute_result",
          "data": {
            "text/plain": [
              "L2    0.704831\n",
              "L3    0.212111\n",
              "L1    0.083058\n",
              "Name: FaixaSalarial, dtype: float64"
            ]
          },
          "metadata": {
            "tags": []
          },
          "execution_count": 92
        }
      ]
    },
    {
      "cell_type": "code",
      "metadata": {
        "colab": {
          "base_uri": "https://localhost:8080/",
          "height": 297
        },
        "id": "6s8ndwOE2Ifi",
        "outputId": "7110ca46-25db-40fc-eddf-1e05494ab759"
      },
      "source": [
        "# Gráfico Distribuição de Faixa Salarial de Faixa Salarial\n",
        "# Observa-se que a proporção de L2 é maior neste grupo do que no grupo total e de L3 é menor\n",
        "plt.pie(grupo_maioresRV.FaixaSalarial.value_counts());\n",
        "plt.legend(labels=grupo_maioresRV['FaixaSalarial'].value_counts().index.tolist());\n",
        "plt.axis('equal');\n",
        "plt.tight_layout();"
      ],
      "execution_count": 93,
      "outputs": [
        {
          "output_type": "display_data",
          "data": {
            "image/png": "[encoded data removed]",
            "text/plain": [
              "<Figure size 432x288 with 1 Axes>"
            ]
          },
          "metadata": {
            "tags": []
          }
        }
      ]
    },
    {
      "cell_type": "markdown",
      "metadata": {
        "id": "7sFVSVwbN-SS"
      },
      "source": [
        "####Analisando as características dos dependentes destes participantes"
      ]
    },
    {
      "cell_type": "code",
      "metadata": {
        "colab": {
          "base_uri": "https://localhost:8080/",
          "height": 204
        },
        "id": "q6GYZVUDOHxx",
        "outputId": "5c26b365-25ce-4a95-e24e-b9478f43e698"
      },
      "source": [
        "# Criando uma nova tabela com todos os ID's e dependentes dos participantes que têm maiores alocações em Renda Variável\n",
        "dependentes_maioresRV = pd.merge(maioresRV, dependentes, how='left', on=['ID'])\n",
        "dependentes_maioresRV = dependentes_maioresRV.drop(columns=['RendaVariavel','DtVigencia'])\n",
        "dependentes_maioresRV.head()"
      ],
      "execution_count": 94,
      "outputs": [
        {
          "output_type": "execute_result",
          "data": {
            "text/html": [
              "<div>\n",
              "<style scoped>\n",
              "    .dataframe tbody tr th:only-of-type {\n",
              "        vertical-align: middle;\n",
              "    }\n",
              "\n",
              "    .dataframe tbody tr th {\n",
              "        vertical-align: top;\n",
              "    }\n",
              "\n",
              "    .dataframe thead th {\n",
              "        text-align: right;\n",
              "    }\n",
              "</style>\n",
              "<table border=\"1\" class=\"dataframe\">\n",
              "  <thead>\n",
              "    <tr style=\"text-align: right;\">\n",
              "      <th></th>\n",
              "      <th>ID</th>\n",
              "      <th>Parentesco</th>\n",
              "      <th>DtNascimento</th>\n",
              "    </tr>\n",
              "  </thead>\n",
              "  <tbody>\n",
              "    <tr>\n",
              "      <th>0</th>\n",
              "      <td>1</td>\n",
              "      <td>Pai ou Mae</td>\n",
              "      <td>1945-07-26</td>\n",
              "    </tr>\n",
              "    <tr>\n",
              "      <th>1</th>\n",
              "      <td>1</td>\n",
              "      <td>Companheiro(a)</td>\n",
              "      <td>1980-08-28</td>\n",
              "    </tr>\n",
              "    <tr>\n",
              "      <th>2</th>\n",
              "      <td>41</td>\n",
              "      <td>Conjuge</td>\n",
              "      <td>1974-12-11</td>\n",
              "    </tr>\n",
              "    <tr>\n",
              "      <th>3</th>\n",
              "      <td>41</td>\n",
              "      <td>Filho(a)</td>\n",
              "      <td>2007-06-04</td>\n",
              "    </tr>\n",
              "    <tr>\n",
              "      <th>4</th>\n",
              "      <td>54</td>\n",
              "      <td>Filho(a)</td>\n",
              "      <td>2002-10-17</td>\n",
              "    </tr>\n",
              "  </tbody>\n",
              "</table>\n",
              "</div>"
            ],
            "text/plain": [
              "   ID      Parentesco DtNascimento\n",
              "0   1      Pai ou Mae   1945-07-26\n",
              "1   1  Companheiro(a)   1980-08-28\n",
              "2  41         Conjuge   1974-12-11\n",
              "3  41        Filho(a)   2007-06-04\n",
              "4  54        Filho(a)   2002-10-17"
            ]
          },
          "metadata": {
            "tags": []
          },
          "execution_count": 94
        }
      ]
    },
    {
      "cell_type": "code",
      "metadata": {
        "colab": {
          "base_uri": "https://localhost:8080/"
        },
        "id": "VFzofvAmduR1",
        "outputId": "7e52afb7-bd1d-463a-9012-a64e13f6a8db"
      },
      "source": [
        "# Excluindo valores nulos\n",
        "dependentes_maioresRV_clean=dependentes_maioresRV.dropna()\n",
        "print(dependentes_maioresRV_clean.isnull().any())"
      ],
      "execution_count": 95,
      "outputs": [
        {
          "output_type": "stream",
          "text": [
            "ID              False\n",
            "Parentesco      False\n",
            "DtNascimento    False\n",
            "dtype: bool\n"
          ],
          "name": "stdout"
        }
      ]
    },
    {
      "cell_type": "code",
      "metadata": {
        "colab": {
          "base_uri": "https://localhost:8080/"
        },
        "id": "bqLPsT6YO_0J",
        "outputId": "4832989c-2d5d-4e67-8439-10f2e33451e0"
      },
      "source": [
        "# Verificando se existe um grupo de dependentes em comum entre os participantes\n",
        "dependentes_maioresRV = dependentes_maioresRV_clean\n",
        "dependentes_maioresRV.DtNascimento.describe(datetime_is_numeric=True)\n",
        "# Observa-se que é um grupo bem diverso"
      ],
      "execution_count": 96,
      "outputs": [
        {
          "output_type": "execute_result",
          "data": {
            "text/plain": [
              "count                             4541\n",
              "mean     1982-09-19 03:02:39.348163072\n",
              "min                1900-01-01 00:00:00\n",
              "25%                1962-02-08 00:00:00\n",
              "50%                1982-09-08 00:00:00\n",
              "75%                2004-09-16 00:00:00\n",
              "max                2020-11-01 00:00:00\n",
              "Name: DtNascimento, dtype: object"
            ]
          },
          "metadata": {
            "tags": []
          },
          "execution_count": 96
        }
      ]
    },
    {
      "cell_type": "code",
      "metadata": {
        "colab": {
          "base_uri": "https://localhost:8080/"
        },
        "id": "Fj65pjQeVLbl",
        "outputId": "9693a22f-700a-4177-b2d1-2c15d4570385"
      },
      "source": [
        "# Analisando a distribuição de Parentesco neste grupo\n",
        "dependentes_maioresRV['Parentesco'].value_counts(normalize=True)"
      ],
      "execution_count": 97,
      "outputs": [
        {
          "output_type": "execute_result",
          "data": {
            "text/plain": [
              "Filho(a)             0.312706\n",
              "Pai ou Mae           0.290685\n",
              "Conjuge              0.224620\n",
              "Irmao ou Irma        0.109888\n",
              "Designado            0.035455\n",
              "Companheiro(a)       0.018498\n",
              "Enteado(a)           0.003964\n",
              "Ex-Conjuge           0.001762\n",
              "Sogro(a)             0.001321\n",
              "Menor sob Guarda     0.000661\n",
              "Ex-Companheiro(a)    0.000440\n",
              "Name: Parentesco, dtype: float64"
            ]
          },
          "metadata": {
            "tags": []
          },
          "execution_count": 97
        }
      ]
    },
    {
      "cell_type": "code",
      "metadata": {
        "colab": {
          "base_uri": "https://localhost:8080/"
        },
        "id": "K5TtEIytVR0H",
        "outputId": "75f53fa2-e150-4244-dfb9-757198d28eb6"
      },
      "source": [
        "# Analisando a distribuição de Parentesco no grupo total\n",
        "dependentes['Parentesco'].value_counts(normalize=True)"
      ],
      "execution_count": 98,
      "outputs": [
        {
          "output_type": "execute_result",
          "data": {
            "text/plain": [
              "Filho(a)             0.363071\n",
              "Pai ou Mae           0.250572\n",
              "Conjuge              0.213913\n",
              "Irmao ou Irma        0.102469\n",
              "Designado            0.036952\n",
              "Companheiro(a)       0.025691\n",
              "Enteado(a)           0.003930\n",
              "Ex-Conjuge           0.001408\n",
              "Sogro(a)             0.001232\n",
              "Menor sob Guarda     0.000411\n",
              "Ex-Companheiro(a)    0.000352\n",
              "Name: Parentesco, dtype: float64"
            ]
          },
          "metadata": {
            "tags": []
          },
          "execution_count": 98
        }
      ]
    },
    {
      "cell_type": "code",
      "metadata": {
        "colab": {
          "base_uri": "https://localhost:8080/",
          "height": 297
        },
        "id": "vEEv5qxxVXLc",
        "outputId": "3d51ddd8-6cc0-48f7-d066-95b71aeca88e"
      },
      "source": [
        "# Gráfico de Distribuição de Parentesco \n",
        "# Observa-se que a proporção de Filho(a) é menor neste grupo do que no grupo total, e a proporção de Pai ou Mae é maior\n",
        "plt.pie(dependentes_maioresRV.Parentesco.value_counts());\n",
        "plt.legend(labels=dependentes_maioresRV['Parentesco'].value_counts().index.tolist());\n",
        "plt.axis('equal');\n",
        "plt.tight_layout();"
      ],
      "execution_count": 99,
      "outputs": [
        {
          "output_type": "display_data",
          "data": {
            "image/png": "[encoded data removed]",
            "text/plain": [
              "<Figure size 432x288 with 1 Axes>"
            ]
          },
          "metadata": {
            "tags": []
          }
        }
      ]
    },
    {
      "cell_type": "markdown",
      "metadata": {
        "id": "spmgI8aIfxqK"
      },
      "source": [
        "####Analisando as contribuições destes participantes"
      ]
    },
    {
      "cell_type": "code",
      "metadata": {
        "colab": {
          "base_uri": "https://localhost:8080/",
          "height": 204
        },
        "id": "t3z2PjdHf35l",
        "outputId": "0b242393-46d2-475d-ffe8-5246d70b4835"
      },
      "source": [
        "# Criando uma nova tabela com todos os ID's com as contribuições dos participantes que têm maiores alocações em Renda Variável\n",
        "contribuicao_maioresRV = pd.merge(maioresRV, contribuicao_ult, how='inner', on=['ID'])\n",
        "contribuicao_maioresRV = contribuicao_maioresRV.drop(columns=['RendaVariavel','DtVigencia_y'])\n",
        "contribuicao_maioresRV = contribuicao_maioresRV.rename(columns={\"DtVigencia_x\": \"DtVigencia\"})\n",
        "contribuicao_maioresRV.head()"
      ],
      "execution_count": 100,
      "outputs": [
        {
          "output_type": "execute_result",
          "data": {
            "text/html": [
              "<div>\n",
              "<style scoped>\n",
              "    .dataframe tbody tr th:only-of-type {\n",
              "        vertical-align: middle;\n",
              "    }\n",
              "\n",
              "    .dataframe tbody tr th {\n",
              "        vertical-align: top;\n",
              "    }\n",
              "\n",
              "    .dataframe thead th {\n",
              "        text-align: right;\n",
              "    }\n",
              "</style>\n",
              "<table border=\"1\" class=\"dataframe\">\n",
              "  <thead>\n",
              "    <tr style=\"text-align: right;\">\n",
              "      <th></th>\n",
              "      <th>ID</th>\n",
              "      <th>DtVigencia</th>\n",
              "      <th>Contribuicao</th>\n",
              "    </tr>\n",
              "  </thead>\n",
              "  <tbody>\n",
              "    <tr>\n",
              "      <th>0</th>\n",
              "      <td>1</td>\n",
              "      <td>2020-11-03</td>\n",
              "      <td>4.0</td>\n",
              "    </tr>\n",
              "    <tr>\n",
              "      <th>1</th>\n",
              "      <td>41</td>\n",
              "      <td>2020-11-03</td>\n",
              "      <td>4.0</td>\n",
              "    </tr>\n",
              "    <tr>\n",
              "      <th>2</th>\n",
              "      <td>54</td>\n",
              "      <td>2020-11-03</td>\n",
              "      <td>4.0</td>\n",
              "    </tr>\n",
              "    <tr>\n",
              "      <th>3</th>\n",
              "      <td>88</td>\n",
              "      <td>2020-11-03</td>\n",
              "      <td>4.0</td>\n",
              "    </tr>\n",
              "    <tr>\n",
              "      <th>4</th>\n",
              "      <td>92</td>\n",
              "      <td>2020-11-03</td>\n",
              "      <td>4.0</td>\n",
              "    </tr>\n",
              "  </tbody>\n",
              "</table>\n",
              "</div>"
            ],
            "text/plain": [
              "   ID DtVigencia  Contribuicao\n",
              "0   1 2020-11-03           4.0\n",
              "1  41 2020-11-03           4.0\n",
              "2  54 2020-11-03           4.0\n",
              "3  88 2020-11-03           4.0\n",
              "4  92 2020-11-03           4.0"
            ]
          },
          "metadata": {
            "tags": []
          },
          "execution_count": 100
        }
      ]
    },
    {
      "cell_type": "code",
      "metadata": {
        "colab": {
          "base_uri": "https://localhost:8080/"
        },
        "id": "e-xm5F4Hf33E",
        "outputId": "f1fb6871-2633-48d7-a071-a85930843f8d"
      },
      "source": [
        "# Verificando se é um grupo de participantes com uma característica específica de contribuições\n",
        "contribuicao_maioresRV.Contribuicao.describe()\n",
        "# Observa-se que é um grupo bem diverso, porém diferente do grupo total, já que apresenta menores contribuições"
      ],
      "execution_count": 101,
      "outputs": [
        {
          "output_type": "execute_result",
          "data": {
            "text/plain": [
              "count    1769.000000\n",
              "mean        5.984737\n",
              "std         2.776211\n",
              "min         1.000000\n",
              "25%         4.000000\n",
              "50%         5.000000\n",
              "75%         8.000000\n",
              "max        20.000000\n",
              "Name: Contribuicao, dtype: float64"
            ]
          },
          "metadata": {
            "tags": []
          },
          "execution_count": 101
        }
      ]
    },
    {
      "cell_type": "code",
      "metadata": {
        "colab": {
          "base_uri": "https://localhost:8080/"
        },
        "id": "0yK5rmXDhQUX",
        "outputId": "c000f07a-5dc1-4ac4-9042-d449b0b261f7"
      },
      "source": [
        "# Verificando a moda desta distribuição\n",
        "contribuicao_maioresRV.Contribuicao.mode()"
      ],
      "execution_count": 102,
      "outputs": [
        {
          "output_type": "execute_result",
          "data": {
            "text/plain": [
              "0    4.0\n",
              "dtype: float64"
            ]
          },
          "metadata": {
            "tags": []
          },
          "execution_count": 102
        }
      ]
    },
    {
      "cell_type": "code",
      "metadata": {
        "colab": {
          "base_uri": "https://localhost:8080/"
        },
        "id": "OVdpwpcff30B",
        "outputId": "887e20e2-afcd-4c9b-c3cf-a6c7fb306bfb"
      },
      "source": [
        "# Verificando a distribuição do grupo total\n",
        "contribuicao.Contribuicao.describe()"
      ],
      "execution_count": 103,
      "outputs": [
        {
          "output_type": "execute_result",
          "data": {
            "text/plain": [
              "count    11415.000000\n",
              "mean         6.899956\n",
              "std          3.568717\n",
              "min          1.000000\n",
              "25%          4.000000\n",
              "50%          7.000000\n",
              "75%          8.000000\n",
              "max         62.000000\n",
              "Name: Contribuicao, dtype: float64"
            ]
          },
          "metadata": {
            "tags": []
          },
          "execution_count": 103
        }
      ]
    },
    {
      "cell_type": "code",
      "metadata": {
        "colab": {
          "base_uri": "https://localhost:8080/"
        },
        "id": "R7zGFHu8hUar",
        "outputId": "325c8723-96f4-42c5-a83c-c3e585608e93"
      },
      "source": [
        "# Verificando a moda desta distribuição\n",
        "contribuicao.Contribuicao.mode()"
      ],
      "execution_count": 104,
      "outputs": [
        {
          "output_type": "execute_result",
          "data": {
            "text/plain": [
              "0    8.0\n",
              "dtype: float64"
            ]
          },
          "metadata": {
            "tags": []
          },
          "execution_count": 104
        }
      ]
    },
    {
      "cell_type": "code",
      "metadata": {
        "colab": {
          "base_uri": "https://localhost:8080/",
          "height": 265
        },
        "id": "ZGnLMi0Df3m2",
        "outputId": "a33292f9-49c6-446f-e0ad-00eae9ec4682"
      },
      "source": [
        "# Gráfico de Distribuição das Contribuições\n",
        "plt.hist(contribuicao_maioresRV['Contribuicao'], bins=30, label='Contribuição (%)', density=True)\n",
        "plt.legend();\n",
        "# Observa-se que a média, o desvio padrão e a moda são menores do que o grupo total, com um máximo de contribuição = 20%"
      ],
      "execution_count": 105,
      "outputs": [
        {
          "output_type": "display_data",
          "data": {
            "image/png": "[encoded data removed]",
            "text/plain": [
              "<Figure size 432x288 with 1 Axes>"
            ]
          },
          "metadata": {
            "tags": [],
            "needs_background": "light"
          }
        }
      ]
    },
    {
      "cell_type": "markdown",
      "metadata": {
        "id": "Mqr0_AUx87sF"
      },
      "source": [
        "###Analisando o perfil dos participantes que têm Renda Fixa (todos)"
      ]
    },
    {
      "cell_type": "code",
      "metadata": {
        "colab": {
          "base_uri": "https://localhost:8080/",
          "height": 204
        },
        "id": "t4up-5cn89t2",
        "outputId": "6e5deced-6bd1-44ec-b8b4-36a97cd01cf6"
      },
      "source": [
        "# Montando tabela de IDs com alocação mais recente em Renda Fixa\n",
        "# São todos os participantes, porque a alocação máxima permitida em RV é 60%\n",
        "alocRF = ultimoperfil[ultimoperfil.RendaFixa > 0]\n",
        "alocRF = alocRF.drop(columns=['RendaVariavel','DiffAlocacao','DiffData','DiffID'])\n",
        "alocRF.head()"
      ],
      "execution_count": 106,
      "outputs": [
        {
          "output_type": "execute_result",
          "data": {
            "text/html": [
              "<div>\n",
              "<style scoped>\n",
              "    .dataframe tbody tr th:only-of-type {\n",
              "        vertical-align: middle;\n",
              "    }\n",
              "\n",
              "    .dataframe tbody tr th {\n",
              "        vertical-align: top;\n",
              "    }\n",
              "\n",
              "    .dataframe thead th {\n",
              "        text-align: right;\n",
              "    }\n",
              "</style>\n",
              "<table border=\"1\" class=\"dataframe\">\n",
              "  <thead>\n",
              "    <tr style=\"text-align: right;\">\n",
              "      <th></th>\n",
              "      <th>ID</th>\n",
              "      <th>DtVigencia</th>\n",
              "      <th>RendaFixa</th>\n",
              "    </tr>\n",
              "  </thead>\n",
              "  <tbody>\n",
              "    <tr>\n",
              "      <th>10</th>\n",
              "      <td>1</td>\n",
              "      <td>2020-11-03</td>\n",
              "      <td>60.0</td>\n",
              "    </tr>\n",
              "    <tr>\n",
              "      <th>21</th>\n",
              "      <td>2</td>\n",
              "      <td>2020-11-03</td>\n",
              "      <td>80.0</td>\n",
              "    </tr>\n",
              "    <tr>\n",
              "      <th>32</th>\n",
              "      <td>3</td>\n",
              "      <td>2020-11-03</td>\n",
              "      <td>80.0</td>\n",
              "    </tr>\n",
              "    <tr>\n",
              "      <th>53</th>\n",
              "      <td>4</td>\n",
              "      <td>2020-11-03</td>\n",
              "      <td>95.0</td>\n",
              "    </tr>\n",
              "    <tr>\n",
              "      <th>71</th>\n",
              "      <td>5</td>\n",
              "      <td>2020-11-03</td>\n",
              "      <td>100.0</td>\n",
              "    </tr>\n",
              "  </tbody>\n",
              "</table>\n",
              "</div>"
            ],
            "text/plain": [
              "    ID DtVigencia  RendaFixa\n",
              "10   1 2020-11-03       60.0\n",
              "21   2 2020-11-03       80.0\n",
              "32   3 2020-11-03       80.0\n",
              "53   4 2020-11-03       95.0\n",
              "71   5 2020-11-03      100.0"
            ]
          },
          "metadata": {
            "tags": []
          },
          "execution_count": 106
        }
      ]
    },
    {
      "cell_type": "markdown",
      "metadata": {
        "id": "sI9sYolCcsCM"
      },
      "source": [
        "####Analisando as características dos participantes que têm Renda Fixa"
      ]
    },
    {
      "cell_type": "code",
      "metadata": {
        "colab": {
          "base_uri": "https://localhost:8080/",
          "height": 204
        },
        "id": "zERi4Wl69Hf2",
        "outputId": "bced197c-2453-4543-806f-b397f8a6b364"
      },
      "source": [
        "# Criando uma nova tabela com todos os ID's e características dos participantes que têm alocação em Renda Fixa\n",
        "grupo_alocRF = pd.merge(alocRF, grupo, how='left', on=['ID'])\n",
        "grupo_alocRF.head()"
      ],
      "execution_count": 107,
      "outputs": [
        {
          "output_type": "execute_result",
          "data": {
            "text/html": [
              "<div>\n",
              "<style scoped>\n",
              "    .dataframe tbody tr th:only-of-type {\n",
              "        vertical-align: middle;\n",
              "    }\n",
              "\n",
              "    .dataframe tbody tr th {\n",
              "        vertical-align: top;\n",
              "    }\n",
              "\n",
              "    .dataframe thead th {\n",
              "        text-align: right;\n",
              "    }\n",
              "</style>\n",
              "<table border=\"1\" class=\"dataframe\">\n",
              "  <thead>\n",
              "    <tr style=\"text-align: right;\">\n",
              "      <th></th>\n",
              "      <th>ID</th>\n",
              "      <th>DtVigencia</th>\n",
              "      <th>RendaFixa</th>\n",
              "      <th>DtNascimento</th>\n",
              "      <th>Sexo</th>\n",
              "      <th>Escolaridade</th>\n",
              "      <th>FaixaSalarial</th>\n",
              "      <th>DtIncricaoPlano</th>\n",
              "    </tr>\n",
              "  </thead>\n",
              "  <tbody>\n",
              "    <tr>\n",
              "      <th>0</th>\n",
              "      <td>1</td>\n",
              "      <td>2020-11-03</td>\n",
              "      <td>60.0</td>\n",
              "      <td>1976-01-30</td>\n",
              "      <td>M</td>\n",
              "      <td>Superior Completo</td>\n",
              "      <td>L2</td>\n",
              "      <td>2012-05-16</td>\n",
              "    </tr>\n",
              "    <tr>\n",
              "      <th>1</th>\n",
              "      <td>2</td>\n",
              "      <td>2020-11-03</td>\n",
              "      <td>80.0</td>\n",
              "      <td>1978-10-30</td>\n",
              "      <td>M</td>\n",
              "      <td>Superior Completo</td>\n",
              "      <td>L1</td>\n",
              "      <td>2012-02-03</td>\n",
              "    </tr>\n",
              "    <tr>\n",
              "      <th>2</th>\n",
              "      <td>3</td>\n",
              "      <td>2020-11-03</td>\n",
              "      <td>80.0</td>\n",
              "      <td>1975-11-13</td>\n",
              "      <td>F</td>\n",
              "      <td>Superior Completo</td>\n",
              "      <td>L1</td>\n",
              "      <td>2011-04-12</td>\n",
              "    </tr>\n",
              "    <tr>\n",
              "      <th>3</th>\n",
              "      <td>4</td>\n",
              "      <td>2020-11-03</td>\n",
              "      <td>95.0</td>\n",
              "      <td>1955-06-02</td>\n",
              "      <td>M</td>\n",
              "      <td>Superior Completo</td>\n",
              "      <td>L1</td>\n",
              "      <td>1984-06-25</td>\n",
              "    </tr>\n",
              "    <tr>\n",
              "      <th>4</th>\n",
              "      <td>5</td>\n",
              "      <td>2020-11-03</td>\n",
              "      <td>100.0</td>\n",
              "      <td>1971-03-17</td>\n",
              "      <td>F</td>\n",
              "      <td>Superior Completo</td>\n",
              "      <td>L1</td>\n",
              "      <td>2006-03-07</td>\n",
              "    </tr>\n",
              "  </tbody>\n",
              "</table>\n",
              "</div>"
            ],
            "text/plain": [
              "   ID DtVigencia  RendaFixa  ...       Escolaridade FaixaSalarial DtIncricaoPlano\n",
              "0   1 2020-11-03       60.0  ...  Superior Completo            L2      2012-05-16\n",
              "1   2 2020-11-03       80.0  ...  Superior Completo            L1      2012-02-03\n",
              "2   3 2020-11-03       80.0  ...  Superior Completo            L1      2011-04-12\n",
              "3   4 2020-11-03       95.0  ...  Superior Completo            L1      1984-06-25\n",
              "4   5 2020-11-03      100.0  ...  Superior Completo            L1      2006-03-07\n",
              "\n",
              "[5 rows x 8 columns]"
            ]
          },
          "metadata": {
            "tags": []
          },
          "execution_count": 107
        }
      ]
    },
    {
      "cell_type": "code",
      "metadata": {
        "colab": {
          "base_uri": "https://localhost:8080/"
        },
        "id": "jG39kWU_BtWS",
        "outputId": "81a8ad66-b73c-4d6b-955a-c9a8d4047bcb"
      },
      "source": [
        "len(grupo)"
      ],
      "execution_count": 108,
      "outputs": [
        {
          "output_type": "execute_result",
          "data": {
            "text/plain": [
              "6044"
            ]
          },
          "metadata": {
            "tags": []
          },
          "execution_count": 108
        }
      ]
    },
    {
      "cell_type": "code",
      "metadata": {
        "colab": {
          "base_uri": "https://localhost:8080/"
        },
        "id": "HgRYI5IBKQGh",
        "outputId": "46d09564-23ef-4830-c849-d46e73ad81ec"
      },
      "source": [
        "# Observou-se que não há dados de alocação para os IDs 42 e 1111, por isso há 6042 dados nesta tabela\n",
        "len(grupo_alocRF)\n",
        "# Como é o grupo total, não foi feita a análise deste grupo"
      ],
      "execution_count": 109,
      "outputs": [
        {
          "output_type": "execute_result",
          "data": {
            "text/plain": [
              "6042"
            ]
          },
          "metadata": {
            "tags": []
          },
          "execution_count": 109
        }
      ]
    },
    {
      "cell_type": "markdown",
      "metadata": {
        "id": "LtFNROWOXb28"
      },
      "source": [
        "####Analisando as características dos dependentes dos participantes que têm Renda Fixa"
      ]
    },
    {
      "cell_type": "code",
      "metadata": {
        "colab": {
          "base_uri": "https://localhost:8080/",
          "height": 204
        },
        "id": "c_4Hw9DbXkaz",
        "outputId": "d748566b-f66d-47a0-d10e-3dd0148bea6f"
      },
      "source": [
        "# Criando uma nova tabela com todos os ID's e os dependentes dos participantes que têm alocação em Renda Fixa\n",
        "dependentes_alocRF = pd.merge(alocRF, dependentes, how='left', on=['ID'])\n",
        "dependentes_alocRF = dependentes_alocRF.drop(columns=['RendaFixa','DtVigencia'])\n",
        "dependentes_alocRF.head()"
      ],
      "execution_count": 110,
      "outputs": [
        {
          "output_type": "execute_result",
          "data": {
            "text/html": [
              "<div>\n",
              "<style scoped>\n",
              "    .dataframe tbody tr th:only-of-type {\n",
              "        vertical-align: middle;\n",
              "    }\n",
              "\n",
              "    .dataframe tbody tr th {\n",
              "        vertical-align: top;\n",
              "    }\n",
              "\n",
              "    .dataframe thead th {\n",
              "        text-align: right;\n",
              "    }\n",
              "</style>\n",
              "<table border=\"1\" class=\"dataframe\">\n",
              "  <thead>\n",
              "    <tr style=\"text-align: right;\">\n",
              "      <th></th>\n",
              "      <th>ID</th>\n",
              "      <th>Parentesco</th>\n",
              "      <th>DtNascimento</th>\n",
              "    </tr>\n",
              "  </thead>\n",
              "  <tbody>\n",
              "    <tr>\n",
              "      <th>0</th>\n",
              "      <td>1</td>\n",
              "      <td>Pai ou Mae</td>\n",
              "      <td>1945-07-26</td>\n",
              "    </tr>\n",
              "    <tr>\n",
              "      <th>1</th>\n",
              "      <td>1</td>\n",
              "      <td>Companheiro(a)</td>\n",
              "      <td>1980-08-28</td>\n",
              "    </tr>\n",
              "    <tr>\n",
              "      <th>2</th>\n",
              "      <td>2</td>\n",
              "      <td>Conjuge</td>\n",
              "      <td>1975-07-03</td>\n",
              "    </tr>\n",
              "    <tr>\n",
              "      <th>3</th>\n",
              "      <td>2</td>\n",
              "      <td>Filho(a)</td>\n",
              "      <td>2009-07-03</td>\n",
              "    </tr>\n",
              "    <tr>\n",
              "      <th>4</th>\n",
              "      <td>3</td>\n",
              "      <td>NaN</td>\n",
              "      <td>NaT</td>\n",
              "    </tr>\n",
              "  </tbody>\n",
              "</table>\n",
              "</div>"
            ],
            "text/plain": [
              "   ID      Parentesco DtNascimento\n",
              "0   1      Pai ou Mae   1945-07-26\n",
              "1   1  Companheiro(a)   1980-08-28\n",
              "2   2         Conjuge   1975-07-03\n",
              "3   2        Filho(a)   2009-07-03\n",
              "4   3             NaN          NaT"
            ]
          },
          "metadata": {
            "tags": []
          },
          "execution_count": 110
        }
      ]
    },
    {
      "cell_type": "code",
      "metadata": {
        "colab": {
          "base_uri": "https://localhost:8080/"
        },
        "id": "a5wm8nVseAFF",
        "outputId": "2833a449-69a5-4eca-cdb2-cd65c9c926a2"
      },
      "source": [
        "# Excluindo valores nulos\n",
        "dependentes_alocRF_clean=dependentes_alocRF.dropna()\n",
        "print(dependentes_alocRF_clean.isnull().any())"
      ],
      "execution_count": 111,
      "outputs": [
        {
          "output_type": "stream",
          "text": [
            "ID              False\n",
            "Parentesco      False\n",
            "DtNascimento    False\n",
            "dtype: bool\n"
          ],
          "name": "stdout"
        }
      ]
    },
    {
      "cell_type": "code",
      "metadata": {
        "colab": {
          "base_uri": "https://localhost:8080/"
        },
        "id": "BdzgDhLhYVLt",
        "outputId": "78033940-d49e-45d6-ec8e-55b94a76fe3c"
      },
      "source": [
        "# Verificando se existe um grupo de dependentes em comum entre os participantes\n",
        "dependentes_alocRF = dependentes_alocRF_clean\n",
        "dependentes_alocRF.DtNascimento.describe(datetime_is_numeric=True)\n",
        "# Observa-se que é um grupo bem diverso e próximo ao grupo total"
      ],
      "execution_count": 112,
      "outputs": [
        {
          "output_type": "execute_result",
          "data": {
            "text/plain": [
              "count                            17042\n",
              "mean     1980-04-08 11:48:20.363807424\n",
              "min                1900-01-01 00:00:00\n",
              "25%                1961-11-06 18:00:00\n",
              "50%                1981-12-05 00:00:00\n",
              "75%                1999-06-25 18:00:00\n",
              "max                2020-11-01 00:00:00\n",
              "Name: DtNascimento, dtype: object"
            ]
          },
          "metadata": {
            "tags": []
          },
          "execution_count": 112
        }
      ]
    },
    {
      "cell_type": "code",
      "metadata": {
        "colab": {
          "base_uri": "https://localhost:8080/"
        },
        "id": "MDAFXtmaYXbG",
        "outputId": "7ac0845a-8da0-42f2-a90c-d695db56cf1d"
      },
      "source": [
        "# Analisando a distribuição de Parentesco neste grupo\n",
        "dependentes_alocRF['Parentesco'].value_counts(normalize=True)"
      ],
      "execution_count": 113,
      "outputs": [
        {
          "output_type": "execute_result",
          "data": {
            "text/plain": [
              "Filho(a)             0.362927\n",
              "Pai ou Mae           0.250675\n",
              "Conjuge              0.213883\n",
              "Irmao ou Irma        0.102511\n",
              "Designado            0.036967\n",
              "Companheiro(a)       0.025701\n",
              "Enteado(a)           0.003931\n",
              "Ex-Conjuge           0.001408\n",
              "Sogro(a)             0.001232\n",
              "Menor sob Guarda     0.000411\n",
              "Ex-Companheiro(a)    0.000352\n",
              "Name: Parentesco, dtype: float64"
            ]
          },
          "metadata": {
            "tags": []
          },
          "execution_count": 113
        }
      ]
    },
    {
      "cell_type": "code",
      "metadata": {
        "colab": {
          "base_uri": "https://localhost:8080/"
        },
        "id": "oWhgX6lDYZ8C",
        "outputId": "2558acc9-bf81-4387-fe82-957d2c859cc0"
      },
      "source": [
        "# Analisando a distribuição de Parentesco no grupo total\n",
        "dependentes['Parentesco'].value_counts(normalize=True)"
      ],
      "execution_count": 114,
      "outputs": [
        {
          "output_type": "execute_result",
          "data": {
            "text/plain": [
              "Filho(a)             0.363071\n",
              "Pai ou Mae           0.250572\n",
              "Conjuge              0.213913\n",
              "Irmao ou Irma        0.102469\n",
              "Designado            0.036952\n",
              "Companheiro(a)       0.025691\n",
              "Enteado(a)           0.003930\n",
              "Ex-Conjuge           0.001408\n",
              "Sogro(a)             0.001232\n",
              "Menor sob Guarda     0.000411\n",
              "Ex-Companheiro(a)    0.000352\n",
              "Name: Parentesco, dtype: float64"
            ]
          },
          "metadata": {
            "tags": []
          },
          "execution_count": 114
        }
      ]
    },
    {
      "cell_type": "code",
      "metadata": {
        "colab": {
          "base_uri": "https://localhost:8080/",
          "height": 297
        },
        "id": "XMQp6NthYcDn",
        "outputId": "5dd17bb4-8da1-4cbb-d73e-08f60692de2d"
      },
      "source": [
        "# Gráfico de Distribuição de Parentesco \n",
        "# Observa-se que a distribuição é bem similar a do grupo total\n",
        "plt.pie(dependentes_alocRF.Parentesco.value_counts());\n",
        "plt.legend(labels=dependentes_alocRF['Parentesco'].value_counts().index.tolist());\n",
        "plt.axis('equal');\n",
        "plt.tight_layout();"
      ],
      "execution_count": 115,
      "outputs": [
        {
          "output_type": "display_data",
          "data": {
            "image/png": "[encoded data removed]",
            "text/plain": [
              "<Figure size 432x288 with 1 Axes>"
            ]
          },
          "metadata": {
            "tags": []
          }
        }
      ]
    },
    {
      "cell_type": "markdown",
      "metadata": {
        "id": "0fBNmGNPRslL"
      },
      "source": [
        "####Analisando as contribuições destes participantes"
      ]
    },
    {
      "cell_type": "code",
      "metadata": {
        "colab": {
          "base_uri": "https://localhost:8080/",
          "height": 204
        },
        "id": "hneFzGHSRzt_",
        "outputId": "a30e14ed-ef9e-4144-d076-dfaa1e017edd"
      },
      "source": [
        "# Criando uma nova tabela com todos os ID's dos que têm alocações em Renda Fixa, juntando com a tabela contribuicao\n",
        "contribuicao_alocRF = pd.merge(alocRF, contribuicao_ult, how='inner', on=['ID'])\n",
        "contribuicao_alocRF = contribuicao_alocRF.drop(columns=['RendaFixa','DtVigencia_y'])\n",
        "contribuicao_alocRF = contribuicao_alocRF.rename(columns={\"DtVigencia_x\": \"DtVigencia\"})\n",
        "contribuicao_alocRF.head()"
      ],
      "execution_count": 116,
      "outputs": [
        {
          "output_type": "execute_result",
          "data": {
            "text/html": [
              "<div>\n",
              "<style scoped>\n",
              "    .dataframe tbody tr th:only-of-type {\n",
              "        vertical-align: middle;\n",
              "    }\n",
              "\n",
              "    .dataframe tbody tr th {\n",
              "        vertical-align: top;\n",
              "    }\n",
              "\n",
              "    .dataframe thead th {\n",
              "        text-align: right;\n",
              "    }\n",
              "</style>\n",
              "<table border=\"1\" class=\"dataframe\">\n",
              "  <thead>\n",
              "    <tr style=\"text-align: right;\">\n",
              "      <th></th>\n",
              "      <th>ID</th>\n",
              "      <th>DtVigencia</th>\n",
              "      <th>Contribuicao</th>\n",
              "    </tr>\n",
              "  </thead>\n",
              "  <tbody>\n",
              "    <tr>\n",
              "      <th>0</th>\n",
              "      <td>1</td>\n",
              "      <td>2020-11-03</td>\n",
              "      <td>4.0</td>\n",
              "    </tr>\n",
              "    <tr>\n",
              "      <th>1</th>\n",
              "      <td>2</td>\n",
              "      <td>2020-11-03</td>\n",
              "      <td>8.0</td>\n",
              "    </tr>\n",
              "    <tr>\n",
              "      <th>2</th>\n",
              "      <td>3</td>\n",
              "      <td>2020-11-03</td>\n",
              "      <td>5.0</td>\n",
              "    </tr>\n",
              "    <tr>\n",
              "      <th>3</th>\n",
              "      <td>4</td>\n",
              "      <td>2020-11-03</td>\n",
              "      <td>62.0</td>\n",
              "    </tr>\n",
              "    <tr>\n",
              "      <th>4</th>\n",
              "      <td>5</td>\n",
              "      <td>2020-11-03</td>\n",
              "      <td>8.0</td>\n",
              "    </tr>\n",
              "  </tbody>\n",
              "</table>\n",
              "</div>"
            ],
            "text/plain": [
              "   ID DtVigencia  Contribuicao\n",
              "0   1 2020-11-03           4.0\n",
              "1   2 2020-11-03           8.0\n",
              "2   3 2020-11-03           5.0\n",
              "3   4 2020-11-03          62.0\n",
              "4   5 2020-11-03           8.0"
            ]
          },
          "metadata": {
            "tags": []
          },
          "execution_count": 116
        }
      ]
    },
    {
      "cell_type": "code",
      "metadata": {
        "colab": {
          "base_uri": "https://localhost:8080/"
        },
        "id": "X-6fyl7NRzrw",
        "outputId": "a1a577b4-8c5e-4f36-b724-11f768717699"
      },
      "source": [
        "# Verificando se é um grupo de participantes com uma característica específica de contribuições\n",
        "contribuicao_alocRF.Contribuicao.describe()\n",
        "# Observa-se que é um grupo bem diverso e similar ao grupo total"
      ],
      "execution_count": 117,
      "outputs": [
        {
          "output_type": "execute_result",
          "data": {
            "text/plain": [
              "count    6021.000000\n",
              "mean        6.731108\n",
              "std         3.291327\n",
              "min         1.000000\n",
              "25%         4.000000\n",
              "50%         7.000000\n",
              "75%         8.000000\n",
              "max        62.000000\n",
              "Name: Contribuicao, dtype: float64"
            ]
          },
          "metadata": {
            "tags": []
          },
          "execution_count": 117
        }
      ]
    },
    {
      "cell_type": "code",
      "metadata": {
        "colab": {
          "base_uri": "https://localhost:8080/"
        },
        "id": "ewMg4-pBRzpA",
        "outputId": "e6097de6-d47b-4a23-98b5-1482773bd3d4"
      },
      "source": [
        "# Verificando a moda desta distribuição\n",
        "contribuicao_alocRF.Contribuicao.mode()"
      ],
      "execution_count": 118,
      "outputs": [
        {
          "output_type": "execute_result",
          "data": {
            "text/plain": [
              "0    8.0\n",
              "dtype: float64"
            ]
          },
          "metadata": {
            "tags": []
          },
          "execution_count": 118
        }
      ]
    },
    {
      "cell_type": "code",
      "metadata": {
        "colab": {
          "base_uri": "https://localhost:8080/"
        },
        "id": "RjjLlr1JRzmj",
        "outputId": "fe13a49f-47fd-449a-941b-e35ee830d590"
      },
      "source": [
        " # Verificando a distribuição do grupo total\n",
        "contribuicao.Contribuicao.describe()"
      ],
      "execution_count": 119,
      "outputs": [
        {
          "output_type": "execute_result",
          "data": {
            "text/plain": [
              "count    11415.000000\n",
              "mean         6.899956\n",
              "std          3.568717\n",
              "min          1.000000\n",
              "25%          4.000000\n",
              "50%          7.000000\n",
              "75%          8.000000\n",
              "max         62.000000\n",
              "Name: Contribuicao, dtype: float64"
            ]
          },
          "metadata": {
            "tags": []
          },
          "execution_count": 119
        }
      ]
    },
    {
      "cell_type": "code",
      "metadata": {
        "colab": {
          "base_uri": "https://localhost:8080/"
        },
        "id": "6krkBUB5Rzkr",
        "outputId": "b9c850de-7686-412d-93b7-2b5a3232e427"
      },
      "source": [
        "# Verificando a moda\n",
        "contribuicao.Contribuicao.mode()"
      ],
      "execution_count": 120,
      "outputs": [
        {
          "output_type": "execute_result",
          "data": {
            "text/plain": [
              "0    8.0\n",
              "dtype: float64"
            ]
          },
          "metadata": {
            "tags": []
          },
          "execution_count": 120
        }
      ]
    },
    {
      "cell_type": "code",
      "metadata": {
        "colab": {
          "base_uri": "https://localhost:8080/",
          "height": 265
        },
        "id": "iaOYylzXRzhb",
        "outputId": "f04ee772-5080-4cd3-a9a4-de2b857db366"
      },
      "source": [
        "# Gráfico de Distribuição das Contribuições\n",
        "plt.hist(contribuicao_alocRF['Contribuicao'], bins=30, label='Contribuição (%)', density=True)\n",
        "plt.legend();\n",
        "# Observa-se que como se trata da maioria do grupo total, a distribuição é bem similar"
      ],
      "execution_count": 121,
      "outputs": [
        {
          "output_type": "display_data",
          "data": {
            "image/png": "[encoded data removed]",
            "text/plain": [
              "<Figure size 432x288 with 1 Axes>"
            ]
          },
          "metadata": {
            "tags": [],
            "needs_background": "light"
          }
        }
      ]
    },
    {
      "cell_type": "markdown",
      "metadata": {
        "id": "0oIQKlr7oKSq"
      },
      "source": [
        "###Analisando o perfil dos participantes que têm pelo menos 70% em Renda Fixa"
      ]
    },
    {
      "cell_type": "code",
      "metadata": {
        "colab": {
          "base_uri": "https://localhost:8080/",
          "height": 204
        },
        "id": "0vovOUaEoRDP",
        "outputId": "bd9414c0-47d8-4aee-fc44-5a7f868affc1"
      },
      "source": [
        "# Montando tabela de IDs com alocação mais recente de pelo menos 70% em Renda Fixa \n",
        "antimaioresRV_RF = ultimoperfil[ultimoperfil.RendaFixa >= 70]\n",
        "antimaioresRV_RF = antimaioresRV_RF.drop(columns=['RendaVariavel','DiffAlocacao','DiffData','DiffID'])\n",
        "antimaioresRV_RF.head()"
      ],
      "execution_count": 149,
      "outputs": [
        {
          "output_type": "execute_result",
          "data": {
            "text/html": [
              "<div>\n",
              "<style scoped>\n",
              "    .dataframe tbody tr th:only-of-type {\n",
              "        vertical-align: middle;\n",
              "    }\n",
              "\n",
              "    .dataframe tbody tr th {\n",
              "        vertical-align: top;\n",
              "    }\n",
              "\n",
              "    .dataframe thead th {\n",
              "        text-align: right;\n",
              "    }\n",
              "</style>\n",
              "<table border=\"1\" class=\"dataframe\">\n",
              "  <thead>\n",
              "    <tr style=\"text-align: right;\">\n",
              "      <th></th>\n",
              "      <th>ID</th>\n",
              "      <th>DtVigencia</th>\n",
              "      <th>RendaFixa</th>\n",
              "    </tr>\n",
              "  </thead>\n",
              "  <tbody>\n",
              "    <tr>\n",
              "      <th>21</th>\n",
              "      <td>2</td>\n",
              "      <td>2020-11-03</td>\n",
              "      <td>80.0</td>\n",
              "    </tr>\n",
              "    <tr>\n",
              "      <th>32</th>\n",
              "      <td>3</td>\n",
              "      <td>2020-11-03</td>\n",
              "      <td>80.0</td>\n",
              "    </tr>\n",
              "    <tr>\n",
              "      <th>53</th>\n",
              "      <td>4</td>\n",
              "      <td>2020-11-03</td>\n",
              "      <td>95.0</td>\n",
              "    </tr>\n",
              "    <tr>\n",
              "      <th>71</th>\n",
              "      <td>5</td>\n",
              "      <td>2020-11-03</td>\n",
              "      <td>100.0</td>\n",
              "    </tr>\n",
              "    <tr>\n",
              "      <th>93</th>\n",
              "      <td>6</td>\n",
              "      <td>2020-11-03</td>\n",
              "      <td>90.0</td>\n",
              "    </tr>\n",
              "  </tbody>\n",
              "</table>\n",
              "</div>"
            ],
            "text/plain": [
              "    ID DtVigencia  RendaFixa\n",
              "21   2 2020-11-03       80.0\n",
              "32   3 2020-11-03       80.0\n",
              "53   4 2020-11-03       95.0\n",
              "71   5 2020-11-03      100.0\n",
              "93   6 2020-11-03       90.0"
            ]
          },
          "metadata": {
            "tags": []
          },
          "execution_count": 149
        }
      ]
    },
    {
      "cell_type": "markdown",
      "metadata": {
        "id": "LhWRgZyRo-X5"
      },
      "source": [
        "####Analisando as características dos participantes que têm pelo menos 70% em Renda Fixa"
      ]
    },
    {
      "cell_type": "code",
      "metadata": {
        "colab": {
          "base_uri": "https://localhost:8080/",
          "height": 204
        },
        "id": "YNTOGvqWouTZ",
        "outputId": "11ad61d5-3d0b-4df0-e6e0-b163d6832853"
      },
      "source": [
        "# Criando uma nova tabela com todos os ID's dos que têm alocações de pelo menos 70% em Renda Fixa \n",
        "grupo_antimaioresRV_RF = pd.merge(antimaioresRV_RF, grupo, how='left', on=['ID'])\n",
        "grupo_antimaioresRV_RF.head()"
      ],
      "execution_count": 150,
      "outputs": [
        {
          "output_type": "execute_result",
          "data": {
            "text/html": [
              "<div>\n",
              "<style scoped>\n",
              "    .dataframe tbody tr th:only-of-type {\n",
              "        vertical-align: middle;\n",
              "    }\n",
              "\n",
              "    .dataframe tbody tr th {\n",
              "        vertical-align: top;\n",
              "    }\n",
              "\n",
              "    .dataframe thead th {\n",
              "        text-align: right;\n",
              "    }\n",
              "</style>\n",
              "<table border=\"1\" class=\"dataframe\">\n",
              "  <thead>\n",
              "    <tr style=\"text-align: right;\">\n",
              "      <th></th>\n",
              "      <th>ID</th>\n",
              "      <th>DtVigencia</th>\n",
              "      <th>RendaFixa</th>\n",
              "      <th>DtNascimento</th>\n",
              "      <th>Sexo</th>\n",
              "      <th>Escolaridade</th>\n",
              "      <th>FaixaSalarial</th>\n",
              "      <th>DtIncricaoPlano</th>\n",
              "    </tr>\n",
              "  </thead>\n",
              "  <tbody>\n",
              "    <tr>\n",
              "      <th>0</th>\n",
              "      <td>2</td>\n",
              "      <td>2020-11-03</td>\n",
              "      <td>80.0</td>\n",
              "      <td>1978-10-30</td>\n",
              "      <td>M</td>\n",
              "      <td>Superior Completo</td>\n",
              "      <td>L1</td>\n",
              "      <td>2012-02-03</td>\n",
              "    </tr>\n",
              "    <tr>\n",
              "      <th>1</th>\n",
              "      <td>3</td>\n",
              "      <td>2020-11-03</td>\n",
              "      <td>80.0</td>\n",
              "      <td>1975-11-13</td>\n",
              "      <td>F</td>\n",
              "      <td>Superior Completo</td>\n",
              "      <td>L1</td>\n",
              "      <td>2011-04-12</td>\n",
              "    </tr>\n",
              "    <tr>\n",
              "      <th>2</th>\n",
              "      <td>4</td>\n",
              "      <td>2020-11-03</td>\n",
              "      <td>95.0</td>\n",
              "      <td>1955-06-02</td>\n",
              "      <td>M</td>\n",
              "      <td>Superior Completo</td>\n",
              "      <td>L1</td>\n",
              "      <td>1984-06-25</td>\n",
              "    </tr>\n",
              "    <tr>\n",
              "      <th>3</th>\n",
              "      <td>5</td>\n",
              "      <td>2020-11-03</td>\n",
              "      <td>100.0</td>\n",
              "      <td>1971-03-17</td>\n",
              "      <td>F</td>\n",
              "      <td>Superior Completo</td>\n",
              "      <td>L1</td>\n",
              "      <td>2006-03-07</td>\n",
              "    </tr>\n",
              "    <tr>\n",
              "      <th>4</th>\n",
              "      <td>6</td>\n",
              "      <td>2020-11-03</td>\n",
              "      <td>90.0</td>\n",
              "      <td>1956-04-03</td>\n",
              "      <td>M</td>\n",
              "      <td>Superior Completo</td>\n",
              "      <td>L1</td>\n",
              "      <td>1976-05-24</td>\n",
              "    </tr>\n",
              "  </tbody>\n",
              "</table>\n",
              "</div>"
            ],
            "text/plain": [
              "   ID DtVigencia  RendaFixa  ...       Escolaridade FaixaSalarial DtIncricaoPlano\n",
              "0   2 2020-11-03       80.0  ...  Superior Completo            L1      2012-02-03\n",
              "1   3 2020-11-03       80.0  ...  Superior Completo            L1      2011-04-12\n",
              "2   4 2020-11-03       95.0  ...  Superior Completo            L1      1984-06-25\n",
              "3   5 2020-11-03      100.0  ...  Superior Completo            L1      2006-03-07\n",
              "4   6 2020-11-03       90.0  ...  Superior Completo            L1      1976-05-24\n",
              "\n",
              "[5 rows x 8 columns]"
            ]
          },
          "metadata": {
            "tags": []
          },
          "execution_count": 150
        }
      ]
    },
    {
      "cell_type": "code",
      "metadata": {
        "colab": {
          "base_uri": "https://localhost:8080/"
        },
        "id": "uS3nY39cpMJV",
        "outputId": "bcf3233e-4e79-48e6-9166-21545d2edd57"
      },
      "source": [
        "# É esperado o oposto do que foi visto no grupo maioresRV\n",
        "grupo_antimaioresRV_RF.DtNascimento.describe(datetime_is_numeric=True)"
      ],
      "execution_count": 151,
      "outputs": [
        {
          "output_type": "execute_result",
          "data": {
            "text/plain": [
              "count                             4669\n",
              "mean     1975-06-07 03:09:22.090383232\n",
              "min                1948-05-13 00:00:00\n",
              "25%                1967-11-20 00:00:00\n",
              "50%                1976-09-06 00:00:00\n",
              "75%                1982-09-20 00:00:00\n",
              "max                1998-07-07 00:00:00\n",
              "Name: DtNascimento, dtype: object"
            ]
          },
          "metadata": {
            "tags": []
          },
          "execution_count": 151
        }
      ]
    },
    {
      "cell_type": "code",
      "metadata": {
        "colab": {
          "base_uri": "https://localhost:8080/"
        },
        "id": "9eladB9mpf9N",
        "outputId": "ecb6867f-58cb-4465-94b6-8871c097c746"
      },
      "source": [
        "# Como a Data  de Nascimento deste grupo é bastante diversa, não se espera um padrão na Data de Inscrição\n",
        "grupo_antimaioresRV_RF.DtIncricaoPlano.describe(datetime_is_numeric=True)"
      ],
      "execution_count": 152,
      "outputs": [
        {
          "output_type": "execute_result",
          "data": {
            "text/plain": [
              "count                             4669\n",
              "mean     2008-08-04 20:47:32.859280128\n",
              "min                1975-08-01 00:00:00\n",
              "25%                2003-02-20 00:00:00\n",
              "50%                2012-03-09 00:00:00\n",
              "75%                2017-07-24 00:00:00\n",
              "max                2020-09-29 00:00:00\n",
              "Name: DtIncricaoPlano, dtype: object"
            ]
          },
          "metadata": {
            "tags": []
          },
          "execution_count": 152
        }
      ]
    },
    {
      "cell_type": "code",
      "metadata": {
        "colab": {
          "base_uri": "https://localhost:8080/"
        },
        "id": "cpAqOvClps-Q",
        "outputId": "e61832e6-82d6-4029-cd03-ac9a5d7c7908"
      },
      "source": [
        "# Analisando a distribuição de Escolaridade neste grupo\n",
        "grupo_antimaioresRV_RF['Escolaridade'].value_counts(normalize=True)"
      ],
      "execution_count": 153,
      "outputs": [
        {
          "output_type": "execute_result",
          "data": {
            "text/plain": [
              "Superior Completo      0.645320\n",
              "2o. Grau Completo      0.204326\n",
              "Pos-Graduacao          0.102592\n",
              "Superior Incompleto    0.032769\n",
              "Mestrado               0.007496\n",
              "2o. Grau Incompleto    0.005997\n",
              "1o. Grau Completo      0.001499\n",
              "Name: Escolaridade, dtype: float64"
            ]
          },
          "metadata": {
            "tags": []
          },
          "execution_count": 153
        }
      ]
    },
    {
      "cell_type": "code",
      "metadata": {
        "colab": {
          "base_uri": "https://localhost:8080/"
        },
        "id": "bBnMPP6SpyMT",
        "outputId": "53d68367-c299-449a-c27d-b34df2c6cb2c"
      },
      "source": [
        "# Analisando a distribuição de Escolaridade no grupo total\n",
        "grupo['Escolaridade'].value_counts(normalize=True)"
      ],
      "execution_count": 154,
      "outputs": [
        {
          "output_type": "execute_result",
          "data": {
            "text/plain": [
              "Superior Completo      0.635341\n",
              "2o. Grau Completo      0.217075\n",
              "Pos-Graduacao          0.095963\n",
              "Superior Incompleto    0.036400\n",
              "Mestrado               0.007280\n",
              "2o. Grau Incompleto    0.006618\n",
              "1o. Grau Completo      0.001324\n",
              "Name: Escolaridade, dtype: float64"
            ]
          },
          "metadata": {
            "tags": []
          },
          "execution_count": 154
        }
      ]
    },
    {
      "cell_type": "code",
      "metadata": {
        "colab": {
          "base_uri": "https://localhost:8080/",
          "height": 297
        },
        "id": "fHd1gV_kp8Bn",
        "outputId": "c13447ca-aefa-4cf6-9b4c-306e3695e5eb"
      },
      "source": [
        "# Gráfico de Distribuição de Escolaridade \n",
        "# Observa-se que a proporção de \"Superior Completo\" é pouco maior nesse grupo do que no grupo total \n",
        "# e que a proporção de \"2º Grau Completo\" é pouco menor\n",
        "plt.pie(grupo_antimaioresRV_RF.Escolaridade.value_counts());\n",
        "plt.legend(labels=grupo_antimaioresRV_RF['Escolaridade'].value_counts().index.tolist());\n",
        "plt.axis('equal');\n",
        "plt.tight_layout();"
      ],
      "execution_count": 155,
      "outputs": [
        {
          "output_type": "display_data",
          "data": {
            "image/png": "[encoded data removed]",
            "text/plain": [
              "<Figure size 432x288 with 1 Axes>"
            ]
          },
          "metadata": {
            "tags": []
          }
        }
      ]
    },
    {
      "cell_type": "code",
      "metadata": {
        "colab": {
          "base_uri": "https://localhost:8080/"
        },
        "id": "WJxbKROIq1xy",
        "outputId": "d88fe7ae-8f28-4b20-f25d-71a9eeb0e3ca"
      },
      "source": [
        "# Analisando a distribuição de Sexo neste grupo\n",
        "grupo_antimaioresRV_RF['Sexo'].value_counts(normalize=True)"
      ],
      "execution_count": 156,
      "outputs": [
        {
          "output_type": "execute_result",
          "data": {
            "text/plain": [
              "M    0.713001\n",
              "F    0.286999\n",
              "Name: Sexo, dtype: float64"
            ]
          },
          "metadata": {
            "tags": []
          },
          "execution_count": 156
        }
      ]
    },
    {
      "cell_type": "code",
      "metadata": {
        "colab": {
          "base_uri": "https://localhost:8080/"
        },
        "id": "4u3yCDHGrAf7",
        "outputId": "3674632b-1997-4101-845b-7f7063aa1c4f"
      },
      "source": [
        "# Analisando a distribuição de Sexo no grupo total\n",
        "grupo['Sexo'].value_counts(normalize=True)"
      ],
      "execution_count": 157,
      "outputs": [
        {
          "output_type": "execute_result",
          "data": {
            "text/plain": [
              "M    0.731635\n",
              "F    0.268365\n",
              "Name: Sexo, dtype: float64"
            ]
          },
          "metadata": {
            "tags": []
          },
          "execution_count": 157
        }
      ]
    },
    {
      "cell_type": "code",
      "metadata": {
        "colab": {
          "base_uri": "https://localhost:8080/",
          "height": 297
        },
        "id": "YccMJ-aCrE55",
        "outputId": "81337671-6367-41fb-a6f8-e55fcaee58b4"
      },
      "source": [
        "# Gráfico de Distribuição de Sexo\n",
        "# Observa-se que a proporção de mulheres nesse grupo é maior do que no grupo total\n",
        "plt.pie(grupo_antimaioresRV_RF.Sexo.value_counts());\n",
        "plt.legend(labels=grupo_antimaioresRV_RF['Sexo'].value_counts().index.tolist());\n",
        "plt.axis('equal');\n",
        "plt.tight_layout();"
      ],
      "execution_count": 158,
      "outputs": [
        {
          "output_type": "display_data",
          "data": {
            "image/png": "[encoded data removed]",
            "text/plain": [
              "<Figure size 432x288 with 1 Axes>"
            ]
          },
          "metadata": {
            "tags": []
          }
        }
      ]
    },
    {
      "cell_type": "code",
      "metadata": {
        "colab": {
          "base_uri": "https://localhost:8080/"
        },
        "id": "if10mSsUrgbK",
        "outputId": "2028eb33-2e8a-418a-cfcc-5a2b0c9ae421"
      },
      "source": [
        "# Analisando a Distribuição de Faixa Salarial neste grupo\n",
        "grupo_antimaioresRV_RF['FaixaSalarial'].value_counts(normalize=True)"
      ],
      "execution_count": 159,
      "outputs": [
        {
          "output_type": "execute_result",
          "data": {
            "text/plain": [
              "L2    0.687942\n",
              "L3    0.234740\n",
              "L1    0.077318\n",
              "Name: FaixaSalarial, dtype: float64"
            ]
          },
          "metadata": {
            "tags": []
          },
          "execution_count": 159
        }
      ]
    },
    {
      "cell_type": "code",
      "metadata": {
        "colab": {
          "base_uri": "https://localhost:8080/"
        },
        "id": "AFUJeNg8roH4",
        "outputId": "c55962e0-1425-475b-fe2b-89d9640e6e9d"
      },
      "source": [
        "# Analisando a Distribuição de Faixa Salarial no grupo total\n",
        "grupo['FaixaSalarial'].value_counts(normalize=True)"
      ],
      "execution_count": 160,
      "outputs": [
        {
          "output_type": "execute_result",
          "data": {
            "text/plain": [
              "L2    0.704831\n",
              "L3    0.212111\n",
              "L1    0.083058\n",
              "Name: FaixaSalarial, dtype: float64"
            ]
          },
          "metadata": {
            "tags": []
          },
          "execution_count": 160
        }
      ]
    },
    {
      "cell_type": "code",
      "metadata": {
        "colab": {
          "base_uri": "https://localhost:8080/",
          "height": 297
        },
        "id": "Z95rVf-LrrLw",
        "outputId": "8e44805d-ea90-4e46-9385-cffd5d9e8f12"
      },
      "source": [
        "# Gráfico Distribuição de Faixa Salarial de Faixa Salarial\n",
        "# Observa-se que a proporção de L2 é pouco menor neste grupo do que no grupo total e de L3 é pouco maior\n",
        "plt.pie(grupo_antimaioresRV_RF.FaixaSalarial.value_counts());\n",
        "plt.legend(labels=grupo_antimaioresRV_RF['FaixaSalarial'].value_counts().index.tolist());\n",
        "plt.axis('equal');\n",
        "plt.tight_layout();"
      ],
      "execution_count": 162,
      "outputs": [
        {
          "output_type": "display_data",
          "data": {
            "image/png": "[encoded data removed]",
            "text/plain": [
              "<Figure size 432x288 with 1 Axes>"
            ]
          },
          "metadata": {
            "tags": []
          }
        }
      ]
    },
    {
      "cell_type": "markdown",
      "metadata": {
        "id": "7A_DIe7Tr6Ib"
      },
      "source": [
        "####Analisando as características dos dependentes destes participantes que têm pelo menos 70% em Renda Fixa"
      ]
    },
    {
      "cell_type": "code",
      "metadata": {
        "colab": {
          "base_uri": "https://localhost:8080/",
          "height": 204
        },
        "id": "CRKABg2TrrJJ",
        "outputId": "6de3033e-87c5-4a2d-b718-00d464417955"
      },
      "source": [
        "# Criando uma nova tabela com todos os ID's dos que têm 70% de alocação em Renda Fixa, juntando com a tabela dependentes\n",
        "dependentes_antimaioresRV_RF = pd.merge(antimaioresRV_RF, dependentes, how='left', on=['ID'])\n",
        "dependentes_antimaioresRV_RF = dependentes_antimaioresRV_RF.drop(columns=['RendaFixa','DtVigencia'])\n",
        "dependentes_antimaioresRV_RF.head()"
      ],
      "execution_count": 164,
      "outputs": [
        {
          "output_type": "execute_result",
          "data": {
            "text/html": [
              "<div>\n",
              "<style scoped>\n",
              "    .dataframe tbody tr th:only-of-type {\n",
              "        vertical-align: middle;\n",
              "    }\n",
              "\n",
              "    .dataframe tbody tr th {\n",
              "        vertical-align: top;\n",
              "    }\n",
              "\n",
              "    .dataframe thead th {\n",
              "        text-align: right;\n",
              "    }\n",
              "</style>\n",
              "<table border=\"1\" class=\"dataframe\">\n",
              "  <thead>\n",
              "    <tr style=\"text-align: right;\">\n",
              "      <th></th>\n",
              "      <th>ID</th>\n",
              "      <th>Parentesco</th>\n",
              "      <th>DtNascimento</th>\n",
              "    </tr>\n",
              "  </thead>\n",
              "  <tbody>\n",
              "    <tr>\n",
              "      <th>0</th>\n",
              "      <td>2</td>\n",
              "      <td>Conjuge</td>\n",
              "      <td>1975-07-03</td>\n",
              "    </tr>\n",
              "    <tr>\n",
              "      <th>1</th>\n",
              "      <td>2</td>\n",
              "      <td>Filho(a)</td>\n",
              "      <td>2009-07-03</td>\n",
              "    </tr>\n",
              "    <tr>\n",
              "      <th>2</th>\n",
              "      <td>3</td>\n",
              "      <td>NaN</td>\n",
              "      <td>NaT</td>\n",
              "    </tr>\n",
              "    <tr>\n",
              "      <th>3</th>\n",
              "      <td>4</td>\n",
              "      <td>Pai ou Mae</td>\n",
              "      <td>1927-11-07</td>\n",
              "    </tr>\n",
              "    <tr>\n",
              "      <th>4</th>\n",
              "      <td>4</td>\n",
              "      <td>Pai ou Mae</td>\n",
              "      <td>1929-05-04</td>\n",
              "    </tr>\n",
              "  </tbody>\n",
              "</table>\n",
              "</div>"
            ],
            "text/plain": [
              "   ID  Parentesco DtNascimento\n",
              "0   2     Conjuge   1975-07-03\n",
              "1   2    Filho(a)   2009-07-03\n",
              "2   3         NaN          NaT\n",
              "3   4  Pai ou Mae   1927-11-07\n",
              "4   4  Pai ou Mae   1929-05-04"
            ]
          },
          "metadata": {
            "tags": []
          },
          "execution_count": 164
        }
      ]
    },
    {
      "cell_type": "code",
      "metadata": {
        "colab": {
          "base_uri": "https://localhost:8080/"
        },
        "id": "5AjTd4ngrrF8",
        "outputId": "699da2f9-c88b-4c96-dd35-26b53fde6ae0"
      },
      "source": [
        "# Excluindo valores nulos\n",
        "dependentes_antimaioresRV_RF_clean=dependentes_antimaioresRV_RF.dropna()\n",
        "print(dependentes_antimaioresRV_RF_clean.isnull().any())"
      ],
      "execution_count": 165,
      "outputs": [
        {
          "output_type": "stream",
          "text": [
            "ID              False\n",
            "Parentesco      False\n",
            "DtNascimento    False\n",
            "dtype: bool\n"
          ],
          "name": "stdout"
        }
      ]
    },
    {
      "cell_type": "code",
      "metadata": {
        "colab": {
          "base_uri": "https://localhost:8080/"
        },
        "id": "h1NALohHrrDg",
        "outputId": "20f44abc-cf8d-4448-8d6e-56aabee80fd2"
      },
      "source": [
        "# Verificando se existe um grupo de dependentes em comum entre os participantes\n",
        "dependentes_antimaioresRV_RF = dependentes_antimaioresRV_RF_clean\n",
        "dependentes_antimaioresRV_RF.DtNascimento.describe(datetime_is_numeric=True)\n",
        "# Observa-se que é um grupo bem diverso e próximo ao grupo total"
      ],
      "execution_count": 167,
      "outputs": [
        {
          "output_type": "execute_result",
          "data": {
            "text/plain": [
              "count                            13597\n",
              "mean     1979-07-24 23:13:24.089138112\n",
              "min                1900-01-01 00:00:00\n",
              "25%                1961-11-02 00:00:00\n",
              "50%                1981-08-31 00:00:00\n",
              "75%                1998-04-24 00:00:00\n",
              "max                2020-08-19 00:00:00\n",
              "Name: DtNascimento, dtype: object"
            ]
          },
          "metadata": {
            "tags": []
          },
          "execution_count": 167
        }
      ]
    },
    {
      "cell_type": "code",
      "metadata": {
        "colab": {
          "base_uri": "https://localhost:8080/"
        },
        "id": "XjMwYfj1rq3B",
        "outputId": "31b883b8-36ae-4374-e836-04fdd0918c20"
      },
      "source": [
        "# Analisando a distribuição de Parentesco neste grupo\n",
        "dependentes_antimaioresRV_RF['Parentesco'].value_counts(normalize=True)"
      ],
      "execution_count": 168,
      "outputs": [
        {
          "output_type": "execute_result",
          "data": {
            "text/plain": [
              "Filho(a)             0.377289\n",
              "Pai ou Mae           0.238729\n",
              "Conjuge              0.210855\n",
              "Irmao ou Irma        0.100978\n",
              "Designado            0.037214\n",
              "Companheiro(a)       0.028021\n",
              "Enteado(a)           0.003898\n",
              "Sogro(a)             0.001177\n",
              "Ex-Conjuge           0.001177\n",
              "Ex-Companheiro(a)    0.000368\n",
              "Menor sob Guarda     0.000294\n",
              "Name: Parentesco, dtype: float64"
            ]
          },
          "metadata": {
            "tags": []
          },
          "execution_count": 168
        }
      ]
    },
    {
      "cell_type": "code",
      "metadata": {
        "colab": {
          "base_uri": "https://localhost:8080/"
        },
        "id": "vJp8CHd6sneI",
        "outputId": "b7ddd4eb-0392-457f-94a7-0ecccf78d462"
      },
      "source": [
        "# Analisando a distribuição de Parentesco no grupo total\n",
        "dependentes['Parentesco'].value_counts(normalize=True)"
      ],
      "execution_count": 169,
      "outputs": [
        {
          "output_type": "execute_result",
          "data": {
            "text/plain": [
              "Filho(a)             0.363071\n",
              "Pai ou Mae           0.250572\n",
              "Conjuge              0.213913\n",
              "Irmao ou Irma        0.102469\n",
              "Designado            0.036952\n",
              "Companheiro(a)       0.025691\n",
              "Enteado(a)           0.003930\n",
              "Ex-Conjuge           0.001408\n",
              "Sogro(a)             0.001232\n",
              "Menor sob Guarda     0.000411\n",
              "Ex-Companheiro(a)    0.000352\n",
              "Name: Parentesco, dtype: float64"
            ]
          },
          "metadata": {
            "tags": []
          },
          "execution_count": 169
        }
      ]
    },
    {
      "cell_type": "code",
      "metadata": {
        "colab": {
          "base_uri": "https://localhost:8080/",
          "height": 297
        },
        "id": "ONB2EB03snbI",
        "outputId": "c5fba9ca-437f-4bb9-e0e0-1ac3cc07d528"
      },
      "source": [
        "# Gráfico de Distribuição de Parentesco \n",
        "# Observa-se que a distribuição é bem similar a do grupo total, sendo a proporção de Filho (a) pouco maior e Pai ou Mae pouco menor\n",
        "plt.pie(dependentes_antimaioresRV_RF.Parentesco.value_counts());\n",
        "plt.legend(labels=dependentes_antimaioresRV_RF['Parentesco'].value_counts().index.tolist());\n",
        "plt.axis('equal');\n",
        "plt.tight_layout();"
      ],
      "execution_count": 170,
      "outputs": [
        {
          "output_type": "display_data",
          "data": {
            "image/png": "[encoded data removed]",
            "text/plain": [
              "<Figure size 432x288 with 1 Axes>"
            ]
          },
          "metadata": {
            "tags": []
          }
        }
      ]
    },
    {
      "cell_type": "markdown",
      "metadata": {
        "id": "ELGxuZ6xtzxM"
      },
      "source": [
        "####Analisando as contribuições destes participantes que têm pelo menos 70% em Renda Fixa"
      ]
    },
    {
      "cell_type": "code",
      "metadata": {
        "colab": {
          "base_uri": "https://localhost:8080/",
          "height": 204
        },
        "id": "_nmp6746snYV",
        "outputId": "da0d71bc-a714-40c8-d176-02d86432be20"
      },
      "source": [
        "# Criando uma nova tabela com todos os ID's dos que têm 70% de alocação em Renda Fixa, juntando com a tabela contribuicao\n",
        "contribuicao_antimaioresRV_RF = pd.merge(antimaioresRV_RF, contribuicao_ult, how='inner', on=['ID'])\n",
        "contribuicao_antimaioresRV_RF = contribuicao_antimaioresRV_RF.drop(columns=['RendaFixa','DtVigencia_y'])\n",
        "contribuicao_antimaioresRV_RF = contribuicao_antimaioresRV_RF.rename(columns={\"DtVigencia_x\": \"DtVigencia\"})\n",
        "contribuicao_antimaioresRV_RF.head()"
      ],
      "execution_count": 171,
      "outputs": [
        {
          "output_type": "execute_result",
          "data": {
            "text/html": [
              "<div>\n",
              "<style scoped>\n",
              "    .dataframe tbody tr th:only-of-type {\n",
              "        vertical-align: middle;\n",
              "    }\n",
              "\n",
              "    .dataframe tbody tr th {\n",
              "        vertical-align: top;\n",
              "    }\n",
              "\n",
              "    .dataframe thead th {\n",
              "        text-align: right;\n",
              "    }\n",
              "</style>\n",
              "<table border=\"1\" class=\"dataframe\">\n",
              "  <thead>\n",
              "    <tr style=\"text-align: right;\">\n",
              "      <th></th>\n",
              "      <th>ID</th>\n",
              "      <th>DtVigencia</th>\n",
              "      <th>Contribuicao</th>\n",
              "    </tr>\n",
              "  </thead>\n",
              "  <tbody>\n",
              "    <tr>\n",
              "      <th>0</th>\n",
              "      <td>2</td>\n",
              "      <td>2020-11-03</td>\n",
              "      <td>8.0</td>\n",
              "    </tr>\n",
              "    <tr>\n",
              "      <th>1</th>\n",
              "      <td>3</td>\n",
              "      <td>2020-11-03</td>\n",
              "      <td>5.0</td>\n",
              "    </tr>\n",
              "    <tr>\n",
              "      <th>2</th>\n",
              "      <td>4</td>\n",
              "      <td>2020-11-03</td>\n",
              "      <td>62.0</td>\n",
              "    </tr>\n",
              "    <tr>\n",
              "      <th>3</th>\n",
              "      <td>5</td>\n",
              "      <td>2020-11-03</td>\n",
              "      <td>8.0</td>\n",
              "    </tr>\n",
              "    <tr>\n",
              "      <th>4</th>\n",
              "      <td>6</td>\n",
              "      <td>2020-11-03</td>\n",
              "      <td>15.0</td>\n",
              "    </tr>\n",
              "  </tbody>\n",
              "</table>\n",
              "</div>"
            ],
            "text/plain": [
              "   ID DtVigencia  Contribuicao\n",
              "0   2 2020-11-03           8.0\n",
              "1   3 2020-11-03           5.0\n",
              "2   4 2020-11-03          62.0\n",
              "3   5 2020-11-03           8.0\n",
              "4   6 2020-11-03          15.0"
            ]
          },
          "metadata": {
            "tags": []
          },
          "execution_count": 171
        }
      ]
    },
    {
      "cell_type": "code",
      "metadata": {
        "colab": {
          "base_uri": "https://localhost:8080/"
        },
        "id": "qsMdjZvhtdSC",
        "outputId": "5404d90b-a30d-41cb-9394-21a701289f40"
      },
      "source": [
        "# Verificando se é um grupo de participantes com uma característica específica de contribuições\n",
        "contribuicao_antimaioresRV_RF.Contribuicao.describe()\n",
        "# Observa-se que é um grupo bem diverso e similar ao grupo total"
      ],
      "execution_count": 172,
      "outputs": [
        {
          "output_type": "execute_result",
          "data": {
            "text/plain": [
              "count    4653.000000\n",
              "mean        6.983881\n",
              "std         3.404191\n",
              "min         1.000000\n",
              "25%         4.000000\n",
              "50%         8.000000\n",
              "75%         8.000000\n",
              "max        62.000000\n",
              "Name: Contribuicao, dtype: float64"
            ]
          },
          "metadata": {
            "tags": []
          },
          "execution_count": 172
        }
      ]
    },
    {
      "cell_type": "code",
      "metadata": {
        "colab": {
          "base_uri": "https://localhost:8080/"
        },
        "id": "eN1vG0mItdO4",
        "outputId": "e0253ad0-cb6f-4d9c-fb1e-785db3ef994b"
      },
      "source": [
        "contribuicao_antimaioresRV_RF.Contribuicao.mode()"
      ],
      "execution_count": 173,
      "outputs": [
        {
          "output_type": "execute_result",
          "data": {
            "text/plain": [
              "0    8.0\n",
              "dtype: float64"
            ]
          },
          "metadata": {
            "tags": []
          },
          "execution_count": 173
        }
      ]
    },
    {
      "cell_type": "code",
      "metadata": {
        "colab": {
          "base_uri": "https://localhost:8080/",
          "height": 265
        },
        "id": "ncaF4ufMtdMY",
        "outputId": "7d4372dc-e74e-4d5e-8511-91c0c5fd2f4d"
      },
      "source": [
        "# Gráfico de Distribuição das Contribuições\n",
        "plt.hist(contribuicao_antimaioresRV_RF['Contribuicao'], bins=30, label='Contribuição (%)', density=True)\n",
        "plt.legend();\n",
        "# Observa-se que a distribuição é bem similar ao grupo total"
      ],
      "execution_count": 174,
      "outputs": [
        {
          "output_type": "display_data",
          "data": {
            "image/png": "[encoded data removed]",
            "text/plain": [
              "<Figure size 432x288 with 1 Axes>"
            ]
          },
          "metadata": {
            "tags": [],
            "needs_background": "light"
          }
        }
      ]
    },
    {
      "cell_type": "markdown",
      "metadata": {
        "id": "PJy5nBOhdYw6"
      },
      "source": [
        "###Analisando o perfil dos 25% dos participantes que mais têm Renda Fixa"
      ]
    },
    {
      "cell_type": "code",
      "metadata": {
        "colab": {
          "base_uri": "https://localhost:8080/"
        },
        "id": "L9HAVFFdoOO1",
        "outputId": "406a3f82-050c-489e-e80a-59f96e51217e"
      },
      "source": [
        "# Na tabela perfil, observa-se que 25% dos participantes têm 100% alocado em Renda Fixa\n",
        "ultimoperfil.RendaFixa.describe()"
      ],
      "execution_count": 122,
      "outputs": [
        {
          "output_type": "execute_result",
          "data": {
            "text/plain": [
              "count    6042.000000\n",
              "mean       81.412777\n",
              "std        21.075119\n",
              "min        40.000000\n",
              "25%        70.000000\n",
              "50%        90.000000\n",
              "75%       100.000000\n",
              "max       100.000000\n",
              "Name: RendaFixa, dtype: float64"
            ]
          },
          "metadata": {
            "tags": []
          },
          "execution_count": 122
        }
      ]
    },
    {
      "cell_type": "code",
      "metadata": {
        "colab": {
          "base_uri": "https://localhost:8080/",
          "height": 204
        },
        "id": "0RkCxK-4ZUej",
        "outputId": "d19084d9-1c2f-4e30-fe71-a87431553a16"
      },
      "source": [
        "# Montando tabela de IDs com alocação mais recente de 100% em Renda Fixa \n",
        "maioresRF = ultimoperfil[ultimoperfil.RendaFixa == 100]\n",
        "maioresRF = maioresRF.drop(columns=['RendaVariavel','DiffAlocacao','DiffData','DiffID'])\n",
        "maioresRF.head()"
      ],
      "execution_count": 123,
      "outputs": [
        {
          "output_type": "execute_result",
          "data": {
            "text/html": [
              "<div>\n",
              "<style scoped>\n",
              "    .dataframe tbody tr th:only-of-type {\n",
              "        vertical-align: middle;\n",
              "    }\n",
              "\n",
              "    .dataframe tbody tr th {\n",
              "        vertical-align: top;\n",
              "    }\n",
              "\n",
              "    .dataframe thead th {\n",
              "        text-align: right;\n",
              "    }\n",
              "</style>\n",
              "<table border=\"1\" class=\"dataframe\">\n",
              "  <thead>\n",
              "    <tr style=\"text-align: right;\">\n",
              "      <th></th>\n",
              "      <th>ID</th>\n",
              "      <th>DtVigencia</th>\n",
              "      <th>RendaFixa</th>\n",
              "    </tr>\n",
              "  </thead>\n",
              "  <tbody>\n",
              "    <tr>\n",
              "      <th>71</th>\n",
              "      <td>5</td>\n",
              "      <td>2020-11-03</td>\n",
              "      <td>100.0</td>\n",
              "    </tr>\n",
              "    <tr>\n",
              "      <th>136</th>\n",
              "      <td>8</td>\n",
              "      <td>2020-11-03</td>\n",
              "      <td>100.0</td>\n",
              "    </tr>\n",
              "    <tr>\n",
              "      <th>157</th>\n",
              "      <td>9</td>\n",
              "      <td>2020-11-03</td>\n",
              "      <td>100.0</td>\n",
              "    </tr>\n",
              "    <tr>\n",
              "      <th>177</th>\n",
              "      <td>10</td>\n",
              "      <td>2020-11-03</td>\n",
              "      <td>100.0</td>\n",
              "    </tr>\n",
              "    <tr>\n",
              "      <th>210</th>\n",
              "      <td>12</td>\n",
              "      <td>2020-11-03</td>\n",
              "      <td>100.0</td>\n",
              "    </tr>\n",
              "  </tbody>\n",
              "</table>\n",
              "</div>"
            ],
            "text/plain": [
              "     ID DtVigencia  RendaFixa\n",
              "71    5 2020-11-03      100.0\n",
              "136   8 2020-11-03      100.0\n",
              "157   9 2020-11-03      100.0\n",
              "177  10 2020-11-03      100.0\n",
              "210  12 2020-11-03      100.0"
            ]
          },
          "metadata": {
            "tags": []
          },
          "execution_count": 123
        }
      ]
    },
    {
      "cell_type": "markdown",
      "metadata": {
        "id": "8YjMgnCoZN7V"
      },
      "source": [
        "####Analisando as características dos participantes que mais têm Renda Fixa"
      ]
    },
    {
      "cell_type": "code",
      "metadata": {
        "colab": {
          "base_uri": "https://localhost:8080/",
          "height": 204
        },
        "id": "P3lh6H6OdXzF",
        "outputId": "d65330ff-11b4-44ad-ccef-0f20464f6ad4"
      },
      "source": [
        "# Criando uma nova tabela com todos os ID's dos que têm maiores alocações em Renda Fixa (100% de alocação)\n",
        "grupo_maioresRF = pd.merge(maioresRF, grupo, how='left', on=['ID'])\n",
        "grupo_maioresRF.head()"
      ],
      "execution_count": 124,
      "outputs": [
        {
          "output_type": "execute_result",
          "data": {
            "text/html": [
              "<div>\n",
              "<style scoped>\n",
              "    .dataframe tbody tr th:only-of-type {\n",
              "        vertical-align: middle;\n",
              "    }\n",
              "\n",
              "    .dataframe tbody tr th {\n",
              "        vertical-align: top;\n",
              "    }\n",
              "\n",
              "    .dataframe thead th {\n",
              "        text-align: right;\n",
              "    }\n",
              "</style>\n",
              "<table border=\"1\" class=\"dataframe\">\n",
              "  <thead>\n",
              "    <tr style=\"text-align: right;\">\n",
              "      <th></th>\n",
              "      <th>ID</th>\n",
              "      <th>DtVigencia</th>\n",
              "      <th>RendaFixa</th>\n",
              "      <th>DtNascimento</th>\n",
              "      <th>Sexo</th>\n",
              "      <th>Escolaridade</th>\n",
              "      <th>FaixaSalarial</th>\n",
              "      <th>DtIncricaoPlano</th>\n",
              "    </tr>\n",
              "  </thead>\n",
              "  <tbody>\n",
              "    <tr>\n",
              "      <th>0</th>\n",
              "      <td>5</td>\n",
              "      <td>2020-11-03</td>\n",
              "      <td>100.0</td>\n",
              "      <td>1971-03-17</td>\n",
              "      <td>F</td>\n",
              "      <td>Superior Completo</td>\n",
              "      <td>L1</td>\n",
              "      <td>2006-03-07</td>\n",
              "    </tr>\n",
              "    <tr>\n",
              "      <th>1</th>\n",
              "      <td>8</td>\n",
              "      <td>2020-11-03</td>\n",
              "      <td>100.0</td>\n",
              "      <td>1960-08-21</td>\n",
              "      <td>M</td>\n",
              "      <td>Superior Completo</td>\n",
              "      <td>L1</td>\n",
              "      <td>1993-11-24</td>\n",
              "    </tr>\n",
              "    <tr>\n",
              "      <th>2</th>\n",
              "      <td>9</td>\n",
              "      <td>2020-11-03</td>\n",
              "      <td>100.0</td>\n",
              "      <td>1958-10-30</td>\n",
              "      <td>F</td>\n",
              "      <td>2o. Grau Completo</td>\n",
              "      <td>L1</td>\n",
              "      <td>1993-11-25</td>\n",
              "    </tr>\n",
              "    <tr>\n",
              "      <th>3</th>\n",
              "      <td>10</td>\n",
              "      <td>2020-11-03</td>\n",
              "      <td>100.0</td>\n",
              "      <td>1955-11-25</td>\n",
              "      <td>F</td>\n",
              "      <td>Superior Completo</td>\n",
              "      <td>L1</td>\n",
              "      <td>1984-07-03</td>\n",
              "    </tr>\n",
              "    <tr>\n",
              "      <th>4</th>\n",
              "      <td>12</td>\n",
              "      <td>2020-11-03</td>\n",
              "      <td>100.0</td>\n",
              "      <td>1957-02-03</td>\n",
              "      <td>F</td>\n",
              "      <td>Superior Completo</td>\n",
              "      <td>L2</td>\n",
              "      <td>1978-01-09</td>\n",
              "    </tr>\n",
              "  </tbody>\n",
              "</table>\n",
              "</div>"
            ],
            "text/plain": [
              "   ID DtVigencia  RendaFixa  ...       Escolaridade FaixaSalarial DtIncricaoPlano\n",
              "0   5 2020-11-03      100.0  ...  Superior Completo            L1      2006-03-07\n",
              "1   8 2020-11-03      100.0  ...  Superior Completo            L1      1993-11-24\n",
              "2   9 2020-11-03      100.0  ...  2o. Grau Completo            L1      1993-11-25\n",
              "3  10 2020-11-03      100.0  ...  Superior Completo            L1      1984-07-03\n",
              "4  12 2020-11-03      100.0  ...  Superior Completo            L2      1978-01-09\n",
              "\n",
              "[5 rows x 8 columns]"
            ]
          },
          "metadata": {
            "tags": []
          },
          "execution_count": 124
        }
      ]
    },
    {
      "cell_type": "code",
      "metadata": {
        "colab": {
          "base_uri": "https://localhost:8080/"
        },
        "id": "RMFPl1iIepmB",
        "outputId": "bfa678ec-5e16-4e99-89e7-92ad16e5b16e"
      },
      "source": [
        "# É esperado o oposto do que foi visto no grupo maioresRV\n",
        "grupo_maioresRF.DtNascimento.describe(datetime_is_numeric=True)"
      ],
      "execution_count": 125,
      "outputs": [
        {
          "output_type": "execute_result",
          "data": {
            "text/plain": [
              "count                             2305\n",
              "mean     1976-04-04 01:43:04.815618208\n",
              "min                1948-05-13 00:00:00\n",
              "25%                1969-04-27 00:00:00\n",
              "50%                1978-01-29 00:00:00\n",
              "75%                1983-05-27 00:00:00\n",
              "max                1997-10-16 00:00:00\n",
              "Name: DtNascimento, dtype: object"
            ]
          },
          "metadata": {
            "tags": []
          },
          "execution_count": 125
        }
      ]
    },
    {
      "cell_type": "code",
      "metadata": {
        "colab": {
          "base_uri": "https://localhost:8080/"
        },
        "id": "4vhajv4QeqOv",
        "outputId": "e6210952-c008-4ff4-be0f-f69ab4de7345"
      },
      "source": [
        "# Como a Data  de Nascimento deste grupo é bastante diversa, não se espera um padrão na Data de Inscrição\n",
        "grupo_maioresRF.DtIncricaoPlano.describe(datetime_is_numeric=True)"
      ],
      "execution_count": 126,
      "outputs": [
        {
          "output_type": "execute_result",
          "data": {
            "text/plain": [
              "count                             2305\n",
              "mean     2009-05-15 20:23:13.145336832\n",
              "min                1975-08-20 00:00:00\n",
              "25%                2005-06-15 00:00:00\n",
              "50%                2014-01-10 00:00:00\n",
              "75%                2017-07-24 00:00:00\n",
              "max                2020-09-25 00:00:00\n",
              "Name: DtIncricaoPlano, dtype: object"
            ]
          },
          "metadata": {
            "tags": []
          },
          "execution_count": 126
        }
      ]
    },
    {
      "cell_type": "code",
      "metadata": {
        "colab": {
          "base_uri": "https://localhost:8080/"
        },
        "id": "QWDb12lJhLEW",
        "outputId": "121f603a-b575-4c53-e424-a1f1439250a3"
      },
      "source": [
        "# Analisando a distribuição de Escolaridade neste grupo\n",
        "grupo_maioresRF['Escolaridade'].value_counts(normalize=True)"
      ],
      "execution_count": 127,
      "outputs": [
        {
          "output_type": "execute_result",
          "data": {
            "text/plain": [
              "Superior Completo      0.646855\n",
              "2o. Grau Completo      0.207375\n",
              "Pos-Graduacao          0.095445\n",
              "Superior Incompleto    0.034707\n",
              "Mestrado               0.007809\n",
              "2o. Grau Incompleto    0.006508\n",
              "1o. Grau Completo      0.001302\n",
              "Name: Escolaridade, dtype: float64"
            ]
          },
          "metadata": {
            "tags": []
          },
          "execution_count": 127
        }
      ]
    },
    {
      "cell_type": "code",
      "metadata": {
        "colab": {
          "base_uri": "https://localhost:8080/"
        },
        "id": "Kcio6QFmy4H1",
        "outputId": "67ded0a3-7c2a-464d-c905-6a9a529040fd"
      },
      "source": [
        "# Analisando a distribuição de Escolaridade no grupo total\n",
        "grupo['Escolaridade'].value_counts(normalize=True)"
      ],
      "execution_count": 128,
      "outputs": [
        {
          "output_type": "execute_result",
          "data": {
            "text/plain": [
              "Superior Completo      0.635341\n",
              "2o. Grau Completo      0.217075\n",
              "Pos-Graduacao          0.095963\n",
              "Superior Incompleto    0.036400\n",
              "Mestrado               0.007280\n",
              "2o. Grau Incompleto    0.006618\n",
              "1o. Grau Completo      0.001324\n",
              "Name: Escolaridade, dtype: float64"
            ]
          },
          "metadata": {
            "tags": []
          },
          "execution_count": 128
        }
      ]
    },
    {
      "cell_type": "code",
      "metadata": {
        "colab": {
          "base_uri": "https://localhost:8080/",
          "height": 297
        },
        "id": "GuH4_qbyy5Je",
        "outputId": "a33e6e01-6fc5-4e83-f3f1-1d59da2f78b9"
      },
      "source": [
        "# Gráfico de Distribuição de Escolaridade \n",
        "# Observa-se que a proporção de \"Superior Completo\" é maior nesse grupo do que no grupo total e que a proporção de \"2º Grau Completo\" é menor\n",
        "plt.pie(grupo_maioresRF.Escolaridade.value_counts());\n",
        "plt.legend(labels=grupo_maioresRF['Escolaridade'].value_counts().index.tolist());\n",
        "plt.axis('equal');\n",
        "plt.tight_layout();"
      ],
      "execution_count": 129,
      "outputs": [
        {
          "output_type": "display_data",
          "data": {
            "image/png": "[encoded data removed]",
            "text/plain": [
              "<Figure size 432x288 with 1 Axes>"
            ]
          },
          "metadata": {
            "tags": []
          }
        }
      ]
    },
    {
      "cell_type": "code",
      "metadata": {
        "colab": {
          "base_uri": "https://localhost:8080/"
        },
        "id": "_n_YuiL6y5HD",
        "outputId": "031bcbb7-7d56-4866-d7db-0f176e5acac6"
      },
      "source": [
        "# Analisando a distribuição de Sexo neste grupo\n",
        "grupo_maioresRF['Sexo'].value_counts(normalize=True)"
      ],
      "execution_count": 130,
      "outputs": [
        {
          "output_type": "execute_result",
          "data": {
            "text/plain": [
              "M    0.686334\n",
              "F    0.313666\n",
              "Name: Sexo, dtype: float64"
            ]
          },
          "metadata": {
            "tags": []
          },
          "execution_count": 130
        }
      ]
    },
    {
      "cell_type": "code",
      "metadata": {
        "colab": {
          "base_uri": "https://localhost:8080/"
        },
        "id": "YZVaYUi7zKb0",
        "outputId": "399f18f3-f310-4e2e-ac95-5fc9b95954b7"
      },
      "source": [
        "# Analisando a distribuição de Sexo no grupo total\n",
        "grupo['Sexo'].value_counts(normalize=True)"
      ],
      "execution_count": 131,
      "outputs": [
        {
          "output_type": "execute_result",
          "data": {
            "text/plain": [
              "M    0.731635\n",
              "F    0.268365\n",
              "Name: Sexo, dtype: float64"
            ]
          },
          "metadata": {
            "tags": []
          },
          "execution_count": 131
        }
      ]
    },
    {
      "cell_type": "code",
      "metadata": {
        "colab": {
          "base_uri": "https://localhost:8080/",
          "height": 297
        },
        "id": "KdRAIJ20zKZg",
        "outputId": "bf6438ca-a518-46ab-af42-b5a9b103f7b2"
      },
      "source": [
        "# Gráfico de Distribuição de Sexo\n",
        "# Observa-se que a proporção de mulheres nesse grupo é maior do que no grupo total\n",
        "plt.pie(grupo_maioresRF.Sexo.value_counts());\n",
        "plt.legend(labels=grupo_maioresRF['Sexo'].value_counts().index.tolist());\n",
        "plt.axis('equal');\n",
        "plt.tight_layout();"
      ],
      "execution_count": 132,
      "outputs": [
        {
          "output_type": "display_data",
          "data": {
            "image/png": "[encoded data removed]",
            "text/plain": [
              "<Figure size 432x288 with 1 Axes>"
            ]
          },
          "metadata": {
            "tags": []
          }
        }
      ]
    },
    {
      "cell_type": "code",
      "metadata": {
        "colab": {
          "base_uri": "https://localhost:8080/"
        },
        "id": "MmAE7oRPzKWy",
        "outputId": "b4ad138e-a61a-49db-c38b-760374fb5467"
      },
      "source": [
        "# Analisando a Distribuição de Faixa Salarial neste grupo\n",
        "grupo_maioresRF['FaixaSalarial'].value_counts(normalize=True)"
      ],
      "execution_count": 133,
      "outputs": [
        {
          "output_type": "execute_result",
          "data": {
            "text/plain": [
              "L2    0.717570\n",
              "L3    0.198698\n",
              "L1    0.083731\n",
              "Name: FaixaSalarial, dtype: float64"
            ]
          },
          "metadata": {
            "tags": []
          },
          "execution_count": 133
        }
      ]
    },
    {
      "cell_type": "code",
      "metadata": {
        "colab": {
          "base_uri": "https://localhost:8080/"
        },
        "id": "7Mny4vqpzKT-",
        "outputId": "3e64eeb5-029f-4abf-cdaf-21753f5e97af"
      },
      "source": [
        "# Analisando a Distribuição de Faixa Salarial no grupo total\n",
        "grupo['FaixaSalarial'].value_counts(normalize=True)"
      ],
      "execution_count": 134,
      "outputs": [
        {
          "output_type": "execute_result",
          "data": {
            "text/plain": [
              "L2    0.704831\n",
              "L3    0.212111\n",
              "L1    0.083058\n",
              "Name: FaixaSalarial, dtype: float64"
            ]
          },
          "metadata": {
            "tags": []
          },
          "execution_count": 134
        }
      ]
    },
    {
      "cell_type": "code",
      "metadata": {
        "colab": {
          "base_uri": "https://localhost:8080/",
          "height": 297
        },
        "id": "lI7NxHiAy5E5",
        "outputId": "d3075a70-0ca1-4ef1-b212-57bc1c18e10d"
      },
      "source": [
        "# Gráfico Distribuição de Faixa Salarial de Faixa Salarial\n",
        "# Observa-se que a proporção de L2 é pouco maior neste grupo do que no grupo total e de L3 é pouco menor\n",
        "plt.pie(grupo_maioresRF.FaixaSalarial.value_counts());\n",
        "plt.legend(labels=grupo_maioresRF['FaixaSalarial'].value_counts().index.tolist());\n",
        "plt.axis('equal');\n",
        "plt.tight_layout();"
      ],
      "execution_count": 135,
      "outputs": [
        {
          "output_type": "display_data",
          "data": {
            "image/png": "[encoded data removed]",
            "text/plain": [
              "<Figure size 432x288 with 1 Axes>"
            ]
          },
          "metadata": {
            "tags": []
          }
        }
      ]
    },
    {
      "cell_type": "markdown",
      "metadata": {
        "id": "RlSIy-WjY80h"
      },
      "source": [
        "####Analisando as características dos dependentes destes participantes que têm 100% em Renda Fixa"
      ]
    },
    {
      "cell_type": "code",
      "metadata": {
        "colab": {
          "base_uri": "https://localhost:8080/",
          "height": 204
        },
        "id": "RnnsRJ7oy5BW",
        "outputId": "c722b3a6-c6d3-4c67-9e9d-14b43ae6d77f"
      },
      "source": [
        "# Criando uma nova tabela com todos os ID's dos que têm alocações em Renda Fixa, juntando com a tabela dependentes\n",
        "dependentes_maioresRF = pd.merge(maioresRF, dependentes, how='left', on=['ID'])\n",
        "dependentes_maioresRF = dependentes_maioresRF.drop(columns=['RendaFixa','DtVigencia'])\n",
        "dependentes_maioresRF.head()"
      ],
      "execution_count": 136,
      "outputs": [
        {
          "output_type": "execute_result",
          "data": {
            "text/html": [
              "<div>\n",
              "<style scoped>\n",
              "    .dataframe tbody tr th:only-of-type {\n",
              "        vertical-align: middle;\n",
              "    }\n",
              "\n",
              "    .dataframe tbody tr th {\n",
              "        vertical-align: top;\n",
              "    }\n",
              "\n",
              "    .dataframe thead th {\n",
              "        text-align: right;\n",
              "    }\n",
              "</style>\n",
              "<table border=\"1\" class=\"dataframe\">\n",
              "  <thead>\n",
              "    <tr style=\"text-align: right;\">\n",
              "      <th></th>\n",
              "      <th>ID</th>\n",
              "      <th>Parentesco</th>\n",
              "      <th>DtNascimento</th>\n",
              "    </tr>\n",
              "  </thead>\n",
              "  <tbody>\n",
              "    <tr>\n",
              "      <th>0</th>\n",
              "      <td>5</td>\n",
              "      <td>Conjuge</td>\n",
              "      <td>1971-04-17</td>\n",
              "    </tr>\n",
              "    <tr>\n",
              "      <th>1</th>\n",
              "      <td>5</td>\n",
              "      <td>Filho(a)</td>\n",
              "      <td>1998-02-20</td>\n",
              "    </tr>\n",
              "    <tr>\n",
              "      <th>2</th>\n",
              "      <td>5</td>\n",
              "      <td>Filho(a)</td>\n",
              "      <td>2002-01-14</td>\n",
              "    </tr>\n",
              "    <tr>\n",
              "      <th>3</th>\n",
              "      <td>8</td>\n",
              "      <td>Conjuge</td>\n",
              "      <td>1948-10-10</td>\n",
              "    </tr>\n",
              "    <tr>\n",
              "      <th>4</th>\n",
              "      <td>8</td>\n",
              "      <td>Enteado(a)</td>\n",
              "      <td>1975-10-02</td>\n",
              "    </tr>\n",
              "  </tbody>\n",
              "</table>\n",
              "</div>"
            ],
            "text/plain": [
              "   ID  Parentesco DtNascimento\n",
              "0   5     Conjuge   1971-04-17\n",
              "1   5    Filho(a)   1998-02-20\n",
              "2   5    Filho(a)   2002-01-14\n",
              "3   8     Conjuge   1948-10-10\n",
              "4   8  Enteado(a)   1975-10-02"
            ]
          },
          "metadata": {
            "tags": []
          },
          "execution_count": 136
        }
      ]
    },
    {
      "cell_type": "code",
      "metadata": {
        "colab": {
          "base_uri": "https://localhost:8080/"
        },
        "id": "op83-bJXy4-S",
        "outputId": "5903b791-274c-43e1-bb04-7cc0b3521b67"
      },
      "source": [
        "# Verificando se existe um grupo de dependentes em comum entre os participantes\n",
        "dependentes_maioresRF.DtNascimento.describe(datetime_is_numeric=True)\n",
        "# Observa-se que é um grupo bem diverso e próximo ao grupo total"
      ],
      "execution_count": 137,
      "outputs": [
        {
          "output_type": "execute_result",
          "data": {
            "text/plain": [
              "count                             6579\n",
              "mean     1979-08-17 03:16:06.894664512\n",
              "min                1900-01-12 00:00:00\n",
              "25%                1961-04-02 12:00:00\n",
              "50%                1981-05-07 00:00:00\n",
              "75%                1998-07-13 00:00:00\n",
              "max                2020-08-19 00:00:00\n",
              "Name: DtNascimento, dtype: object"
            ]
          },
          "metadata": {
            "tags": []
          },
          "execution_count": 137
        }
      ]
    },
    {
      "cell_type": "code",
      "metadata": {
        "colab": {
          "base_uri": "https://localhost:8080/"
        },
        "id": "_6nsftxRy4r8",
        "outputId": "dc0da448-4b29-4f15-c153-a493910dce95"
      },
      "source": [
        "# Analisando a distribuição de Parentesco neste grupo\n",
        "dependentes_maioresRF['Parentesco'].value_counts(normalize=True)"
      ],
      "execution_count": 138,
      "outputs": [
        {
          "output_type": "execute_result",
          "data": {
            "text/plain": [
              "Filho(a)             0.359119\n",
              "Pai ou Mae           0.246353\n",
              "Conjuge              0.212766\n",
              "Irmao ou Irma        0.105623\n",
              "Designado            0.040729\n",
              "Companheiro(a)       0.027508\n",
              "Enteado(a)           0.004103\n",
              "Sogro(a)             0.001672\n",
              "Ex-Conjuge           0.001368\n",
              "Menor sob Guarda     0.000608\n",
              "Ex-Companheiro(a)    0.000152\n",
              "Name: Parentesco, dtype: float64"
            ]
          },
          "metadata": {
            "tags": []
          },
          "execution_count": 138
        }
      ]
    },
    {
      "cell_type": "code",
      "metadata": {
        "colab": {
          "base_uri": "https://localhost:8080/"
        },
        "id": "oyk5OgY-Z50D",
        "outputId": "bd0735cf-04be-4c0e-9865-3e7fc8f73af3"
      },
      "source": [
        "# Analisando a distribuição de Parentesco no grupo total\n",
        "dependentes['Parentesco'].value_counts(normalize=True)"
      ],
      "execution_count": 139,
      "outputs": [
        {
          "output_type": "execute_result",
          "data": {
            "text/plain": [
              "Filho(a)             0.363071\n",
              "Pai ou Mae           0.250572\n",
              "Conjuge              0.213913\n",
              "Irmao ou Irma        0.102469\n",
              "Designado            0.036952\n",
              "Companheiro(a)       0.025691\n",
              "Enteado(a)           0.003930\n",
              "Ex-Conjuge           0.001408\n",
              "Sogro(a)             0.001232\n",
              "Menor sob Guarda     0.000411\n",
              "Ex-Companheiro(a)    0.000352\n",
              "Name: Parentesco, dtype: float64"
            ]
          },
          "metadata": {
            "tags": []
          },
          "execution_count": 139
        }
      ]
    },
    {
      "cell_type": "code",
      "metadata": {
        "colab": {
          "base_uri": "https://localhost:8080/",
          "height": 297
        },
        "id": "NCAtW0l_Z-7n",
        "outputId": "0ee3ca96-9c9c-4123-898b-007118045ff3"
      },
      "source": [
        "# Gráfico de Distribuição de Parentesco \n",
        "# Observa-se que a distribuição é bem similar a do grupo total\n",
        "plt.pie(dependentes_maioresRF.Parentesco.value_counts());\n",
        "plt.legend(labels=dependentes_maioresRF['Parentesco'].value_counts().index.tolist());\n",
        "plt.axis('equal');\n",
        "plt.tight_layout();"
      ],
      "execution_count": 140,
      "outputs": [
        {
          "output_type": "display_data",
          "data": {
            "image/png": "[encoded data removed]",
            "text/plain": [
              "<Figure size 432x288 with 1 Axes>"
            ]
          },
          "metadata": {
            "tags": []
          }
        }
      ]
    },
    {
      "cell_type": "markdown",
      "metadata": {
        "id": "e7Tv5t8aSgCX"
      },
      "source": [
        "####Analisando as contribuições destes participantes que têm 100% em Renda Fixa"
      ]
    },
    {
      "cell_type": "code",
      "metadata": {
        "colab": {
          "base_uri": "https://localhost:8080/",
          "height": 204
        },
        "id": "MKk-c8fiSk-K",
        "outputId": "688aa8aa-c72b-42b1-970b-7f039377acc7"
      },
      "source": [
        "# Criando uma nova tabela com todos os ID's dos que têm alocações em Renda Fixa, juntando com a tabela contribuicao\n",
        "contribuicao_maioresRF = pd.merge(maioresRF, contribuicao_ult, how='inner', on=['ID'])\n",
        "contribuicao_maioresRF = contribuicao_maioresRF.drop(columns=['RendaFixa','DtVigencia_y'])\n",
        "contribuicao_maioresRF = contribuicao_maioresRF.rename(columns={\"DtVigencia_x\": \"DtVigencia\"})\n",
        "contribuicao_maioresRF.head()"
      ],
      "execution_count": 141,
      "outputs": [
        {
          "output_type": "execute_result",
          "data": {
            "text/html": [
              "<div>\n",
              "<style scoped>\n",
              "    .dataframe tbody tr th:only-of-type {\n",
              "        vertical-align: middle;\n",
              "    }\n",
              "\n",
              "    .dataframe tbody tr th {\n",
              "        vertical-align: top;\n",
              "    }\n",
              "\n",
              "    .dataframe thead th {\n",
              "        text-align: right;\n",
              "    }\n",
              "</style>\n",
              "<table border=\"1\" class=\"dataframe\">\n",
              "  <thead>\n",
              "    <tr style=\"text-align: right;\">\n",
              "      <th></th>\n",
              "      <th>ID</th>\n",
              "      <th>DtVigencia</th>\n",
              "      <th>Contribuicao</th>\n",
              "    </tr>\n",
              "  </thead>\n",
              "  <tbody>\n",
              "    <tr>\n",
              "      <th>0</th>\n",
              "      <td>5</td>\n",
              "      <td>2020-11-03</td>\n",
              "      <td>8.0</td>\n",
              "    </tr>\n",
              "    <tr>\n",
              "      <th>1</th>\n",
              "      <td>8</td>\n",
              "      <td>2020-11-03</td>\n",
              "      <td>12.0</td>\n",
              "    </tr>\n",
              "    <tr>\n",
              "      <th>2</th>\n",
              "      <td>9</td>\n",
              "      <td>2020-11-03</td>\n",
              "      <td>8.0</td>\n",
              "    </tr>\n",
              "    <tr>\n",
              "      <th>3</th>\n",
              "      <td>10</td>\n",
              "      <td>2020-11-03</td>\n",
              "      <td>8.0</td>\n",
              "    </tr>\n",
              "    <tr>\n",
              "      <th>4</th>\n",
              "      <td>12</td>\n",
              "      <td>2020-11-03</td>\n",
              "      <td>3.0</td>\n",
              "    </tr>\n",
              "  </tbody>\n",
              "</table>\n",
              "</div>"
            ],
            "text/plain": [
              "   ID DtVigencia  Contribuicao\n",
              "0   5 2020-11-03           8.0\n",
              "1   8 2020-11-03          12.0\n",
              "2   9 2020-11-03           8.0\n",
              "3  10 2020-11-03           8.0\n",
              "4  12 2020-11-03           3.0"
            ]
          },
          "metadata": {
            "tags": []
          },
          "execution_count": 141
        }
      ]
    },
    {
      "cell_type": "code",
      "metadata": {
        "colab": {
          "base_uri": "https://localhost:8080/"
        },
        "id": "S4s7k0X-Sm5O",
        "outputId": "462d7eec-2134-4d13-fb25-2cc6cc508f7b"
      },
      "source": [
        "# Verificando se é um grupo de participantes com uma característica específica de contribuições\n",
        "contribuicao_maioresRF.Contribuicao.describe()\n",
        "# Observa-se que é um grupo bem diverso e similar ao grupo total"
      ],
      "execution_count": 142,
      "outputs": [
        {
          "output_type": "execute_result",
          "data": {
            "text/plain": [
              "count    2301.000000\n",
              "mean        6.726206\n",
              "std         3.254663\n",
              "min         1.000000\n",
              "25%         4.000000\n",
              "50%         7.000000\n",
              "75%         8.000000\n",
              "max        35.000000\n",
              "Name: Contribuicao, dtype: float64"
            ]
          },
          "metadata": {
            "tags": []
          },
          "execution_count": 142
        }
      ]
    },
    {
      "cell_type": "code",
      "metadata": {
        "colab": {
          "base_uri": "https://localhost:8080/"
        },
        "id": "EM1EYbvNSm1Z",
        "outputId": "9ce8abc8-c580-4d97-df75-c9a416baf3c6"
      },
      "source": [
        "contribuicao_maioresRF.Contribuicao.mode()"
      ],
      "execution_count": 143,
      "outputs": [
        {
          "output_type": "execute_result",
          "data": {
            "text/plain": [
              "0    8.0\n",
              "dtype: float64"
            ]
          },
          "metadata": {
            "tags": []
          },
          "execution_count": 143
        }
      ]
    },
    {
      "cell_type": "code",
      "metadata": {
        "colab": {
          "base_uri": "https://localhost:8080/"
        },
        "id": "VN5K84AmSmy0",
        "outputId": "8151fa43-c346-42ab-f2d1-736a618201bf"
      },
      "source": [
        "contribuicao.Contribuicao.describe()"
      ],
      "execution_count": 144,
      "outputs": [
        {
          "output_type": "execute_result",
          "data": {
            "text/plain": [
              "count    11415.000000\n",
              "mean         6.899956\n",
              "std          3.568717\n",
              "min          1.000000\n",
              "25%          4.000000\n",
              "50%          7.000000\n",
              "75%          8.000000\n",
              "max         62.000000\n",
              "Name: Contribuicao, dtype: float64"
            ]
          },
          "metadata": {
            "tags": []
          },
          "execution_count": 144
        }
      ]
    },
    {
      "cell_type": "code",
      "metadata": {
        "colab": {
          "base_uri": "https://localhost:8080/"
        },
        "id": "tA6hB4WbTF1h",
        "outputId": "496f9f21-7a64-49f1-b159-fb1517e3c403"
      },
      "source": [
        "contribuicao.Contribuicao.mode()"
      ],
      "execution_count": 145,
      "outputs": [
        {
          "output_type": "execute_result",
          "data": {
            "text/plain": [
              "0    8.0\n",
              "dtype: float64"
            ]
          },
          "metadata": {
            "tags": []
          },
          "execution_count": 145
        }
      ]
    },
    {
      "cell_type": "code",
      "metadata": {
        "colab": {
          "base_uri": "https://localhost:8080/",
          "height": 265
        },
        "id": "CdMD-F9RTPRS",
        "outputId": "d3407f8a-a96a-48c5-a24b-e74b3fa17f1e"
      },
      "source": [
        "# Gráfico de Distribuição das Contribuições\n",
        "plt.hist(contribuicao_maioresRF['Contribuicao'], bins=30, label='Contribuição (%)', density=True)\n",
        "plt.legend();\n",
        "# Observa-se que a distribuição é bem similar ao grupo total"
      ],
      "execution_count": 146,
      "outputs": [
        {
          "output_type": "display_data",
          "data": {
            "image/png": "[encoded data removed]",
            "text/plain": [
              "<Figure size 432x288 with 1 Axes>"
            ]
          },
          "metadata": {
            "tags": [],
            "needs_background": "light"
          }
        }
      ]
    },
    {
      "cell_type": "code",
      "metadata": {
        "id": "wSXfTMgX9yng"
      },
      "source": [
        ""
      ],
      "execution_count": 146,
      "outputs": []
    }
  ]
}